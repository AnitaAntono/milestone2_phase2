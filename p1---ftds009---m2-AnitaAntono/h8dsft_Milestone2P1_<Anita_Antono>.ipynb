{
 "cells": [
  {
   "cell_type": "markdown",
   "metadata": {},
   "source": [
    "### <strong>Milestone 2 - Phase 1<strong>\n",
    "\n",
    "---"
   ]
  },
  {
   "cell_type": "markdown",
   "metadata": {},
   "source": [
    "By [Anita Antono](https://github.com/AnitaAntono)\n",
    "\n",
    "\n",
    "<strong>Anita Antono<strong>\n",
    "\n",
    "<strong>Batch 009<strong>"
   ]
  },
  {
   "cell_type": "markdown",
   "metadata": {},
   "source": [
    "### <strong>Dashboard<strong>\n",
    "---"
   ]
  },
  {
   "cell_type": "markdown",
   "metadata": {},
   "source": [
    "Kindly check my Deployment Project here :\n",
    "\n",
    "\n",
    "[![Deploy to Heroku](https://www.herokucdn.com/deploy/button.svg)](https://anita-009.herokuapp.com/)"
   ]
  },
  {
   "cell_type": "markdown",
   "metadata": {},
   "source": [
    "### <strong>Assignment Objectives<strong>\n",
    "\n",
    "---"
   ]
  },
  {
   "cell_type": "markdown",
   "metadata": {},
   "source": [
    "Milestones 2 was created to evaluation Phase 1 learning materials;\n",
    "\n",
    "- Students capable to understand the concept of supervised learning and unsupervised learning\n",
    "- Students capable to prepare data for use in supervised learning and unsupervised learning models\n",
    "- Students capable to implement supervised learning and unsupervised learning with new datasets\n",
    "- Students capable to do model evaluation\n",
    "- Students capable to do model tuning\n",
    "- Students capable to do deployment models"
   ]
  },
  {
   "cell_type": "markdown",
   "metadata": {},
   "source": [
    "### <strong>Data Understanding<strong>\n",
    "\n",
    "##### Bagian ini berisi penjelasan isi dataset yang saya gunakan untuk project ini.\n",
    "---"
   ]
  },
  {
   "cell_type": "markdown",
   "metadata": {},
   "source": [
    "<h3>Well, first i will explain about the dataset that i used.</h3>\n"
   ]
  },
  {
   "cell_type": "markdown",
   "metadata": {},
   "source": [
    "<h2>I'm using the 'Gender Classification' dataset for my Milestone 2 project</h2>"
   ]
  },
  {
   "cell_type": "markdown",
   "metadata": {},
   "source": [
    "![BANK](https://miro.medium.com/max/1200/1*49F7HMKFmilsbRydVc9Blw.png)"
   ]
  },
  {
   "cell_type": "markdown",
   "metadata": {},
   "source": [
    "Dataset lengkap dapat dilihat pada website ini <a href='https://www.kaggle.com/datasets/elakiricoder/gender-classification-dataset'>Kaggle</a>\n",
    "\n",
    "\n",
    "<ins>Context<ins>\n",
    "* While I was practicing machine learning, I wanted to create a simple dataset that is closely aligned to the real world scenario and gives better results to whet my appetite on this domain. If you are a beginner who wants to try solving classification problems in machine learning and if you prefer achieving better results, try using this dataset in your projects which will be a great place to start.\n",
    "\n",
    "<ins>Content<ins>\n",
    "* This dataset contains 7 features and a label column.\n",
    "\n",
    "<ins>Column Information<ins>\n",
    "\n",
    "- longhair - This column contains 0's and 1's where 1 is \"long hair\" and 0 is \"not long hair\".\n",
    "- foreheadwidthcm - This column is in CM's. This is the width of the forehead.\n",
    "- foreheadheightcm - This is the height of the forehead and it's in Cm's.\n",
    "- nosewide - This column contains 0's and 1's where 1 is \"wide nose\" and 0 is \"not wide nose\".\n",
    "- noselong - This column contains 0's and 1's where 1 is \"Long nose\" and 0 is \"not long nose\".\n",
    "- lipsthin - This column contains 0's and 1's where 1 represents the \"thin lips\" while 0 is \"Not thin lips\".\n",
    "- distancenosetoliplong - This column contains 0's and 1's where 1 represents the \"long distance between nose and lips\" while 0 is \"short distance between nose and lips\".\n",
    "\n",
    "<ins>Target<ins>\n",
    "\n",
    "-gender - This is either \"Male\" or \"Female\".\n",
    "\n",
    "<ins>Acknowledgements<ins>\n",
    "\n",
    "Nothing to acknowledge as this is just a made up data.\n",
    "\n",
    "<ins>Inspiration<ins>\n",
    "\n",
    "It's painful to see bad results at the beginning. Don't begin with complicated datasets if you are a beginner. I'm sure that this dataset will encourage you to proceed further in the domain. Good luck.\n"
   ]
  },
  {
   "cell_type": "markdown",
   "metadata": {},
   "source": [
    "### <strong>Import Libraries<strong>\n",
    "\n",
    "#### This section contains all the libraries that i used in the project.\n",
    "---"
   ]
  },
  {
   "cell_type": "code",
   "execution_count": 7,
   "metadata": {},
   "outputs": [
    {
     "data": {
      "text/html": [
       "        <script type=\"text/javascript\">\n",
       "        window.PlotlyConfig = {MathJaxConfig: 'local'};\n",
       "        if (window.MathJax) {MathJax.Hub.Config({SVG: {font: \"STIX-Web\"}});}\n",
       "        if (typeof require !== 'undefined') {\n",
       "        require.undef(\"plotly\");\n",
       "        requirejs.config({\n",
       "            paths: {\n",
       "                'plotly': ['https://cdn.plot.ly/plotly-2.9.0.min']\n",
       "            }\n",
       "        });\n",
       "        require(['plotly'], function(Plotly) {\n",
       "            window._Plotly = Plotly;\n",
       "        });\n",
       "        }\n",
       "        </script>\n",
       "        "
      ]
     },
     "metadata": {},
     "output_type": "display_data"
    }
   ],
   "source": [
    "import pandas as pd\n",
    "import numpy as np\n",
    "import matplotlib.pyplot as plt\n",
    "import plotly.offline as py\n",
    "py.init_notebook_mode(connected=True)\n",
    "import plotly.graph_objs as go\n",
    "import plotly.tools as tls\n",
    "import plotly.figure_factory as ff\n",
    "from scipy import stats\n",
    "import seaborn as sns\n",
    "\n",
    "import warnings\n",
    "warnings.filterwarnings(\"ignore\") \n",
    "\n",
    "from sklearn.linear_model import LogisticRegression \n",
    "from sklearn.metrics import accuracy_score\n",
    "from sklearn.metrics import classification_report\n",
    "from sklearn.model_selection import train_test_split\n",
    "from sklearn.metrics import accuracy_score, classification_report, precision_score, recall_score\n",
    "from sklearn.metrics import f1_score, recall_score, precision_score\n",
    "from sklearn.preprocessing import PolynomialFeatures\n",
    "from sklearn.preprocessing import MinMaxScaler\n",
    "from sklearn.preprocessing import OrdinalEncoder\n",
    "\n",
    "from sklearn.svm import SVC\n",
    "from sklearn.metrics import confusion_matrix\n",
    "from sklearn.metrics import roc_auc_score\n",
    "from sklearn.metrics import roc_curve\n",
    "from sklearn.metrics import accuracy_score\n",
    "from feature_engine.outliers import Winsorizer\n",
    "\n",
    "# Library for models\n",
    "from sklearn.model_selection import cross_val_score\n",
    "from sklearn.neighbors import NearestNeighbors, KNeighborsClassifier\n",
    "from sklearn.tree import DecisionTreeClassifier\n",
    "from sklearn.ensemble import RandomForestClassifier\n",
    "from sklearn.metrics import classification_report\n",
    "from sklearn.metrics import accuracy_score\n",
    "from sklearn.model_selection import GridSearchCV\n",
    "from sklearn.ensemble import RandomForestClassifier\n",
    "from sklearn.datasets import make_classification\n",
    "from sklearn.naive_bayes import GaussianNB\n",
    "from sklearn.ensemble import BaggingClassifier\n",
    "from sklearn.naive_bayes import GaussianNB # Naive Bayes\n",
    "\n",
    "from sklearn.decomposition import PCA\n",
    "from sklearn.pipeline import Pipeline\n",
    "from sklearn.pipeline import make_pipeline\n",
    "from sklearn.compose import ColumnTransformer \n",
    "import pickle\n"
   ]
  },
  {
   "cell_type": "markdown",
   "metadata": {},
   "source": [
    "### <strong>Data Loading<strong>\n",
    "\n",
    "##### This section contains data preparation before the next step which is data exploration.\n",
    "---"
   ]
  },
  {
   "cell_type": "markdown",
   "metadata": {},
   "source": [
    "<h2>First, i load the data!</h2>"
   ]
  },
  {
   "cell_type": "code",
   "execution_count": 8,
   "metadata": {},
   "outputs": [],
   "source": [
    "data = pd.read_csv('gender_classification.csv')"
   ]
  },
  {
   "cell_type": "code",
   "execution_count": 9,
   "metadata": {},
   "outputs": [
    {
     "data": {
      "text/html": [
       "<div>\n",
       "<style scoped>\n",
       "    .dataframe tbody tr th:only-of-type {\n",
       "        vertical-align: middle;\n",
       "    }\n",
       "\n",
       "    .dataframe tbody tr th {\n",
       "        vertical-align: top;\n",
       "    }\n",
       "\n",
       "    .dataframe thead th {\n",
       "        text-align: right;\n",
       "    }\n",
       "</style>\n",
       "<table border=\"1\" class=\"dataframe\">\n",
       "  <thead>\n",
       "    <tr style=\"text-align: right;\">\n",
       "      <th></th>\n",
       "      <th>long_hair</th>\n",
       "      <th>forehead_width_cm</th>\n",
       "      <th>forehead_height_cm</th>\n",
       "      <th>nose_wide</th>\n",
       "      <th>nose_long</th>\n",
       "      <th>lips_thin</th>\n",
       "      <th>distance_nose_to_lip_long</th>\n",
       "      <th>gender</th>\n",
       "    </tr>\n",
       "  </thead>\n",
       "  <tbody>\n",
       "    <tr>\n",
       "      <th>0</th>\n",
       "      <td>1</td>\n",
       "      <td>11.8</td>\n",
       "      <td>6.1</td>\n",
       "      <td>1</td>\n",
       "      <td>0</td>\n",
       "      <td>1</td>\n",
       "      <td>1</td>\n",
       "      <td>Male</td>\n",
       "    </tr>\n",
       "    <tr>\n",
       "      <th>1</th>\n",
       "      <td>0</td>\n",
       "      <td>14.0</td>\n",
       "      <td>5.4</td>\n",
       "      <td>0</td>\n",
       "      <td>0</td>\n",
       "      <td>1</td>\n",
       "      <td>0</td>\n",
       "      <td>Female</td>\n",
       "    </tr>\n",
       "    <tr>\n",
       "      <th>2</th>\n",
       "      <td>0</td>\n",
       "      <td>11.8</td>\n",
       "      <td>6.3</td>\n",
       "      <td>1</td>\n",
       "      <td>1</td>\n",
       "      <td>1</td>\n",
       "      <td>1</td>\n",
       "      <td>Male</td>\n",
       "    </tr>\n",
       "    <tr>\n",
       "      <th>3</th>\n",
       "      <td>0</td>\n",
       "      <td>14.4</td>\n",
       "      <td>6.1</td>\n",
       "      <td>0</td>\n",
       "      <td>1</td>\n",
       "      <td>1</td>\n",
       "      <td>1</td>\n",
       "      <td>Male</td>\n",
       "    </tr>\n",
       "    <tr>\n",
       "      <th>4</th>\n",
       "      <td>1</td>\n",
       "      <td>13.5</td>\n",
       "      <td>5.9</td>\n",
       "      <td>0</td>\n",
       "      <td>0</td>\n",
       "      <td>0</td>\n",
       "      <td>0</td>\n",
       "      <td>Female</td>\n",
       "    </tr>\n",
       "    <tr>\n",
       "      <th>...</th>\n",
       "      <td>...</td>\n",
       "      <td>...</td>\n",
       "      <td>...</td>\n",
       "      <td>...</td>\n",
       "      <td>...</td>\n",
       "      <td>...</td>\n",
       "      <td>...</td>\n",
       "      <td>...</td>\n",
       "    </tr>\n",
       "    <tr>\n",
       "      <th>4996</th>\n",
       "      <td>1</td>\n",
       "      <td>13.6</td>\n",
       "      <td>5.1</td>\n",
       "      <td>0</td>\n",
       "      <td>0</td>\n",
       "      <td>0</td>\n",
       "      <td>0</td>\n",
       "      <td>Female</td>\n",
       "    </tr>\n",
       "    <tr>\n",
       "      <th>4997</th>\n",
       "      <td>1</td>\n",
       "      <td>11.9</td>\n",
       "      <td>5.4</td>\n",
       "      <td>0</td>\n",
       "      <td>0</td>\n",
       "      <td>0</td>\n",
       "      <td>0</td>\n",
       "      <td>Female</td>\n",
       "    </tr>\n",
       "    <tr>\n",
       "      <th>4998</th>\n",
       "      <td>1</td>\n",
       "      <td>12.9</td>\n",
       "      <td>5.7</td>\n",
       "      <td>0</td>\n",
       "      <td>0</td>\n",
       "      <td>0</td>\n",
       "      <td>0</td>\n",
       "      <td>Female</td>\n",
       "    </tr>\n",
       "    <tr>\n",
       "      <th>4999</th>\n",
       "      <td>1</td>\n",
       "      <td>13.2</td>\n",
       "      <td>6.2</td>\n",
       "      <td>0</td>\n",
       "      <td>0</td>\n",
       "      <td>0</td>\n",
       "      <td>0</td>\n",
       "      <td>Female</td>\n",
       "    </tr>\n",
       "    <tr>\n",
       "      <th>5000</th>\n",
       "      <td>1</td>\n",
       "      <td>15.4</td>\n",
       "      <td>5.4</td>\n",
       "      <td>1</td>\n",
       "      <td>1</td>\n",
       "      <td>1</td>\n",
       "      <td>1</td>\n",
       "      <td>Male</td>\n",
       "    </tr>\n",
       "  </tbody>\n",
       "</table>\n",
       "<p>5001 rows × 8 columns</p>\n",
       "</div>"
      ],
      "text/plain": [
       "      long_hair  forehead_width_cm  forehead_height_cm  nose_wide  nose_long  \\\n",
       "0             1               11.8                 6.1          1          0   \n",
       "1             0               14.0                 5.4          0          0   \n",
       "2             0               11.8                 6.3          1          1   \n",
       "3             0               14.4                 6.1          0          1   \n",
       "4             1               13.5                 5.9          0          0   \n",
       "...         ...                ...                 ...        ...        ...   \n",
       "4996          1               13.6                 5.1          0          0   \n",
       "4997          1               11.9                 5.4          0          0   \n",
       "4998          1               12.9                 5.7          0          0   \n",
       "4999          1               13.2                 6.2          0          0   \n",
       "5000          1               15.4                 5.4          1          1   \n",
       "\n",
       "      lips_thin  distance_nose_to_lip_long  gender  \n",
       "0             1                          1    Male  \n",
       "1             1                          0  Female  \n",
       "2             1                          1    Male  \n",
       "3             1                          1    Male  \n",
       "4             0                          0  Female  \n",
       "...         ...                        ...     ...  \n",
       "4996          0                          0  Female  \n",
       "4997          0                          0  Female  \n",
       "4998          0                          0  Female  \n",
       "4999          0                          0  Female  \n",
       "5000          1                          1    Male  \n",
       "\n",
       "[5001 rows x 8 columns]"
      ]
     },
     "execution_count": 9,
     "metadata": {},
     "output_type": "execute_result"
    }
   ],
   "source": [
    "df = data.copy()\n",
    "df"
   ]
  },
  {
   "cell_type": "markdown",
   "metadata": {},
   "source": [
    "### <strong>Exploratory Data Analysis / EDA<strong>\n",
    "\n",
    "##### This section contains data exploration on the dataset.\n",
    "---"
   ]
  },
  {
   "cell_type": "markdown",
   "metadata": {},
   "source": [
    "\n",
    "<h3>Below this we can see information about 7 columns in the dataset. 2 types of float, 5 types of integer, and 1 object.</h3>"
   ]
  },
  {
   "cell_type": "code",
   "execution_count": 10,
   "metadata": {},
   "outputs": [
    {
     "name": "stdout",
     "output_type": "stream",
     "text": [
      "<class 'pandas.core.frame.DataFrame'>\n",
      "RangeIndex: 5001 entries, 0 to 5000\n",
      "Data columns (total 8 columns):\n",
      " #   Column                     Non-Null Count  Dtype  \n",
      "---  ------                     --------------  -----  \n",
      " 0   long_hair                  5001 non-null   int64  \n",
      " 1   forehead_width_cm          5001 non-null   float64\n",
      " 2   forehead_height_cm         5001 non-null   float64\n",
      " 3   nose_wide                  5001 non-null   int64  \n",
      " 4   nose_long                  5001 non-null   int64  \n",
      " 5   lips_thin                  5001 non-null   int64  \n",
      " 6   distance_nose_to_lip_long  5001 non-null   int64  \n",
      " 7   gender                     5001 non-null   object \n",
      "dtypes: float64(2), int64(5), object(1)\n",
      "memory usage: 312.7+ KB\n"
     ]
    }
   ],
   "source": [
    "df.info()"
   ]
  },
  {
   "cell_type": "markdown",
   "metadata": {},
   "source": [
    "* <strong>This step is for cheking data from descriptive statistics<strong>"
   ]
  },
  {
   "cell_type": "code",
   "execution_count": 11,
   "metadata": {},
   "outputs": [
    {
     "data": {
      "text/html": [
       "<div>\n",
       "<style scoped>\n",
       "    .dataframe tbody tr th:only-of-type {\n",
       "        vertical-align: middle;\n",
       "    }\n",
       "\n",
       "    .dataframe tbody tr th {\n",
       "        vertical-align: top;\n",
       "    }\n",
       "\n",
       "    .dataframe thead th {\n",
       "        text-align: right;\n",
       "    }\n",
       "</style>\n",
       "<table border=\"1\" class=\"dataframe\">\n",
       "  <thead>\n",
       "    <tr style=\"text-align: right;\">\n",
       "      <th></th>\n",
       "      <th>count</th>\n",
       "      <th>mean</th>\n",
       "      <th>std</th>\n",
       "      <th>min</th>\n",
       "      <th>25%</th>\n",
       "      <th>50%</th>\n",
       "      <th>75%</th>\n",
       "      <th>max</th>\n",
       "    </tr>\n",
       "  </thead>\n",
       "  <tbody>\n",
       "    <tr>\n",
       "      <th>long_hair</th>\n",
       "      <td>5001.0</td>\n",
       "      <td>0.869626</td>\n",
       "      <td>0.336748</td>\n",
       "      <td>0.0</td>\n",
       "      <td>1.0</td>\n",
       "      <td>1.0</td>\n",
       "      <td>1.0</td>\n",
       "      <td>1.0</td>\n",
       "    </tr>\n",
       "    <tr>\n",
       "      <th>forehead_width_cm</th>\n",
       "      <td>5001.0</td>\n",
       "      <td>13.181484</td>\n",
       "      <td>1.107128</td>\n",
       "      <td>11.4</td>\n",
       "      <td>12.2</td>\n",
       "      <td>13.1</td>\n",
       "      <td>14.0</td>\n",
       "      <td>15.5</td>\n",
       "    </tr>\n",
       "    <tr>\n",
       "      <th>forehead_height_cm</th>\n",
       "      <td>5001.0</td>\n",
       "      <td>5.946311</td>\n",
       "      <td>0.541268</td>\n",
       "      <td>5.1</td>\n",
       "      <td>5.5</td>\n",
       "      <td>5.9</td>\n",
       "      <td>6.4</td>\n",
       "      <td>7.1</td>\n",
       "    </tr>\n",
       "    <tr>\n",
       "      <th>nose_wide</th>\n",
       "      <td>5001.0</td>\n",
       "      <td>0.493901</td>\n",
       "      <td>0.500013</td>\n",
       "      <td>0.0</td>\n",
       "      <td>0.0</td>\n",
       "      <td>0.0</td>\n",
       "      <td>1.0</td>\n",
       "      <td>1.0</td>\n",
       "    </tr>\n",
       "    <tr>\n",
       "      <th>nose_long</th>\n",
       "      <td>5001.0</td>\n",
       "      <td>0.507898</td>\n",
       "      <td>0.499988</td>\n",
       "      <td>0.0</td>\n",
       "      <td>0.0</td>\n",
       "      <td>1.0</td>\n",
       "      <td>1.0</td>\n",
       "      <td>1.0</td>\n",
       "    </tr>\n",
       "    <tr>\n",
       "      <th>lips_thin</th>\n",
       "      <td>5001.0</td>\n",
       "      <td>0.493101</td>\n",
       "      <td>0.500002</td>\n",
       "      <td>0.0</td>\n",
       "      <td>0.0</td>\n",
       "      <td>0.0</td>\n",
       "      <td>1.0</td>\n",
       "      <td>1.0</td>\n",
       "    </tr>\n",
       "    <tr>\n",
       "      <th>distance_nose_to_lip_long</th>\n",
       "      <td>5001.0</td>\n",
       "      <td>0.498900</td>\n",
       "      <td>0.500049</td>\n",
       "      <td>0.0</td>\n",
       "      <td>0.0</td>\n",
       "      <td>0.0</td>\n",
       "      <td>1.0</td>\n",
       "      <td>1.0</td>\n",
       "    </tr>\n",
       "  </tbody>\n",
       "</table>\n",
       "</div>"
      ],
      "text/plain": [
       "                            count       mean       std   min   25%   50%  \\\n",
       "long_hair                  5001.0   0.869626  0.336748   0.0   1.0   1.0   \n",
       "forehead_width_cm          5001.0  13.181484  1.107128  11.4  12.2  13.1   \n",
       "forehead_height_cm         5001.0   5.946311  0.541268   5.1   5.5   5.9   \n",
       "nose_wide                  5001.0   0.493901  0.500013   0.0   0.0   0.0   \n",
       "nose_long                  5001.0   0.507898  0.499988   0.0   0.0   1.0   \n",
       "lips_thin                  5001.0   0.493101  0.500002   0.0   0.0   0.0   \n",
       "distance_nose_to_lip_long  5001.0   0.498900  0.500049   0.0   0.0   0.0   \n",
       "\n",
       "                            75%   max  \n",
       "long_hair                   1.0   1.0  \n",
       "forehead_width_cm          14.0  15.5  \n",
       "forehead_height_cm          6.4   7.1  \n",
       "nose_wide                   1.0   1.0  \n",
       "nose_long                   1.0   1.0  \n",
       "lips_thin                   1.0   1.0  \n",
       "distance_nose_to_lip_long   1.0   1.0  "
      ]
     },
     "execution_count": 11,
     "metadata": {},
     "output_type": "execute_result"
    }
   ],
   "source": [
    "df.describe().T"
   ]
  },
  {
   "cell_type": "markdown",
   "metadata": {},
   "source": [
    "* <strong>This step is for checking if there has missing values or not in the dataset<strong>"
   ]
  },
  {
   "cell_type": "code",
   "execution_count": 12,
   "metadata": {},
   "outputs": [
    {
     "name": "stdout",
     "output_type": "stream",
     "text": [
      "Total missing value on the dataset  : 0\n"
     ]
    },
    {
     "data": {
      "text/html": [
       "<div>\n",
       "<style scoped>\n",
       "    .dataframe tbody tr th:only-of-type {\n",
       "        vertical-align: middle;\n",
       "    }\n",
       "\n",
       "    .dataframe tbody tr th {\n",
       "        vertical-align: top;\n",
       "    }\n",
       "\n",
       "    .dataframe thead th {\n",
       "        text-align: right;\n",
       "    }\n",
       "</style>\n",
       "<table border=\"1\" class=\"dataframe\">\n",
       "  <thead>\n",
       "    <tr style=\"text-align: right;\">\n",
       "      <th></th>\n",
       "      <th>missing value</th>\n",
       "    </tr>\n",
       "  </thead>\n",
       "  <tbody>\n",
       "    <tr>\n",
       "      <th>long_hair</th>\n",
       "      <td>0</td>\n",
       "    </tr>\n",
       "    <tr>\n",
       "      <th>forehead_width_cm</th>\n",
       "      <td>0</td>\n",
       "    </tr>\n",
       "    <tr>\n",
       "      <th>forehead_height_cm</th>\n",
       "      <td>0</td>\n",
       "    </tr>\n",
       "    <tr>\n",
       "      <th>nose_wide</th>\n",
       "      <td>0</td>\n",
       "    </tr>\n",
       "    <tr>\n",
       "      <th>nose_long</th>\n",
       "      <td>0</td>\n",
       "    </tr>\n",
       "    <tr>\n",
       "      <th>lips_thin</th>\n",
       "      <td>0</td>\n",
       "    </tr>\n",
       "    <tr>\n",
       "      <th>distance_nose_to_lip_long</th>\n",
       "      <td>0</td>\n",
       "    </tr>\n",
       "    <tr>\n",
       "      <th>gender</th>\n",
       "      <td>0</td>\n",
       "    </tr>\n",
       "  </tbody>\n",
       "</table>\n",
       "</div>"
      ],
      "text/plain": [
       "                           missing value\n",
       "long_hair                              0\n",
       "forehead_width_cm                      0\n",
       "forehead_height_cm                     0\n",
       "nose_wide                              0\n",
       "nose_long                              0\n",
       "lips_thin                              0\n",
       "distance_nose_to_lip_long              0\n",
       "gender                                 0"
      ]
     },
     "execution_count": 12,
     "metadata": {},
     "output_type": "execute_result"
    }
   ],
   "source": [
    "print(\"Total missing value on the dataset  :\" , df.isnull().sum().sum())\n",
    "\n",
    "pd.DataFrame({'missing value' : df.isnull().sum()})"
   ]
  },
  {
   "cell_type": "markdown",
   "metadata": {},
   "source": [
    "**<H3>Next, let me show you a lil bit about data visualization</H3>**"
   ]
  },
  {
   "cell_type": "markdown",
   "metadata": {},
   "source": [
    "* <strong>Data Visualization<strong>"
   ]
  },
  {
   "cell_type": "code",
   "execution_count": 13,
   "metadata": {},
   "outputs": [
    {
     "data": {
      "text/plain": [
       "Text(0.5, 1.0, 'Correlation Matrix')"
      ]
     },
     "execution_count": 13,
     "metadata": {},
     "output_type": "execute_result"
    },
    {
     "data": {
      "image/png": "[encoded data removed]",
      "text/plain": [
       "<Figure size 1800x504 with 2 Axes>"
      ]
     },
     "metadata": {
      "needs_background": "light"
     },
     "output_type": "display_data"
    }
   ],
   "source": [
    "plt.figure(figsize=(25, 7))\n",
    "sns.heatmap(pd.concat([df, pd.get_dummies(df.gender)], axis=1).corr(), annot=True, cmap='Pastel1_r')\n",
    "plt.title('Correlation Matrix')"
   ]
  },
  {
   "cell_type": "markdown",
   "metadata": {},
   "source": [
    "*Note: Dari Correlation Matrix diatas saya ingin membuat beberapa data visualization berdasarkan feature yang berhubungan dengan target 'gender'. "
   ]
  },
  {
   "cell_type": "code",
   "execution_count": 14,
   "metadata": {},
   "outputs": [],
   "source": [
    "colors1 = sns.color_palette(\"Blues\")\n",
    "colors2 = sns.color_palette(\"pink\")\n",
    "sns.set_style(\"whitegrid\")"
   ]
  },
  {
   "cell_type": "markdown",
   "metadata": {},
   "source": [
    "* <strong>What's gender in the data?<strong>"
   ]
  },
  {
   "cell_type": "code",
   "execution_count": 15,
   "metadata": {},
   "outputs": [
    {
     "data": {
      "text/plain": [
       "Female    2501\n",
       "Male      2500\n",
       "Name: gender, dtype: int64"
      ]
     },
     "execution_count": 15,
     "metadata": {},
     "output_type": "execute_result"
    }
   ],
   "source": [
    "df['gender'].value_counts()"
   ]
  },
  {
   "cell_type": "markdown",
   "metadata": {},
   "source": [
    "<h3>Only two genders category in the data, it's **MALE** and **FEMALE**</h3>"
   ]
  },
  {
   "cell_type": "code",
   "execution_count": 16,
   "metadata": {},
   "outputs": [],
   "source": [
    "# kolom diagnosis\n",
    "\n",
    "male = df[(df['gender'] != 0)] \n",
    "female = df[(df['gender'] == 0)]"
   ]
  },
  {
   "cell_type": "markdown",
   "metadata": {},
   "source": [
    "* <strong>Frequency 'MALE' and 'FEMALE' by Gender<strong>"
   ]
  },
  {
   "cell_type": "code",
   "execution_count": 17,
   "metadata": {},
   "outputs": [
    {
     "data": {
      "application/vnd.plotly.v1+json": {
       "config": {
        "linkText": "Export to plot.ly",
        "plotlyServerURL": "https://plot.ly",
        "showLink": false
       },
       "data": [
        {
         "labels": [
          "male",
          "female"
         ],
         "marker": {
          "colors": [
           "skyblue",
           "pink"
          ],
          "line": {
           "color": "#000000",
           "width": 1.5
          }
         },
         "opacity": 0.8,
         "textfont": {
          "size": 15
         },
         "type": "pie",
         "values": [
          2501,
          2500
         ]
        }
       ],
       "layout": {
        "template": {
         "data": {
          "bar": [
           {
            "error_x": {
             "color": "#2a3f5f"
            },
            "error_y": {
             "color": "#2a3f5f"
            },
            "marker": {
             "line": {
              "color": "#E5ECF6",
              "width": 0.5
             },
             "pattern": {
              "fillmode": "overlay",
              "size": 10,
              "solidity": 0.2
             }
            },
            "type": "bar"
           }
          ],
          "barpolar": [
           {
            "marker": {
             "line": {
              "color": "#E5ECF6",
              "width": 0.5
             },
             "pattern": {
              "fillmode": "overlay",
              "size": 10,
              "solidity": 0.2
             }
            },
            "type": "barpolar"
           }
          ],
          "carpet": [
           {
            "aaxis": {
             "endlinecolor": "#2a3f5f",
             "gridcolor": "white",
             "linecolor": "white",
             "minorgridcolor": "white",
             "startlinecolor": "#2a3f5f"
            },
            "baxis": {
             "endlinecolor": "#2a3f5f",
             "gridcolor": "white",
             "linecolor": "white",
             "minorgridcolor": "white",
             "startlinecolor": "#2a3f5f"
            },
            "type": "carpet"
           }
          ],
          "choropleth": [
           {
            "colorbar": {
             "outlinewidth": 0,
             "ticks": ""
            },
            "type": "choropleth"
           }
          ],
          "contour": [
           {
            "colorbar": {
             "outlinewidth": 0,
             "ticks": ""
            },
            "colorscale": [
             [
              0,
              "#0d0887"
             ],
             [
              0.1111111111111111,
              "#46039f"
             ],
             [
              0.2222222222222222,
              "#7201a8"
             ],
             [
              0.3333333333333333,
              "#9c179e"
             ],
             [
              0.4444444444444444,
              "#bd3786"
             ],
             [
              0.5555555555555556,
              "#d8576b"
             ],
             [
              0.6666666666666666,
              "#ed7953"
             ],
             [
              0.7777777777777778,
              "#fb9f3a"
             ],
             [
              0.8888888888888888,
              "#fdca26"
             ],
             [
              1,
              "#f0f921"
             ]
            ],
            "type": "contour"
           }
          ],
          "contourcarpet": [
           {
            "colorbar": {
             "outlinewidth": 0,
             "ticks": ""
            },
            "type": "contourcarpet"
           }
          ],
          "heatmap": [
           {
            "colorbar": {
             "outlinewidth": 0,
             "ticks": ""
            },
            "colorscale": [
             [
              0,
              "#0d0887"
             ],
             [
              0.1111111111111111,
              "#46039f"
             ],
             [
              0.2222222222222222,
              "#7201a8"
             ],
             [
              0.3333333333333333,
              "#9c179e"
             ],
             [
              0.4444444444444444,
              "#bd3786"
             ],
             [
              0.5555555555555556,
              "#d8576b"
             ],
             [
              0.6666666666666666,
              "#ed7953"
             ],
             [
              0.7777777777777778,
              "#fb9f3a"
             ],
             [
              0.8888888888888888,
              "#fdca26"
             ],
             [
              1,
              "#f0f921"
             ]
            ],
            "type": "heatmap"
           }
          ],
          "heatmapgl": [
           {
            "colorbar": {
             "outlinewidth": 0,
             "ticks": ""
            },
            "colorscale": [
             [
              0,
              "#0d0887"
             ],
             [
              0.1111111111111111,
              "#46039f"
             ],
             [
              0.2222222222222222,
              "#7201a8"
             ],
             [
              0.3333333333333333,
              "#9c179e"
             ],
             [
              0.4444444444444444,
              "#bd3786"
             ],
             [
              0.5555555555555556,
              "#d8576b"
             ],
             [
              0.6666666666666666,
              "#ed7953"
             ],
             [
              0.7777777777777778,
              "#fb9f3a"
             ],
             [
              0.8888888888888888,
              "#fdca26"
             ],
             [
              1,
              "#f0f921"
             ]
            ],
            "type": "heatmapgl"
           }
          ],
          "histogram": [
           {
            "marker": {
             "pattern": {
              "fillmode": "overlay",
              "size": 10,
              "solidity": 0.2
             }
            },
            "type": "histogram"
           }
          ],
          "histogram2d": [
           {
            "colorbar": {
             "outlinewidth": 0,
             "ticks": ""
            },
            "colorscale": [
             [
              0,
              "#0d0887"
             ],
             [
              0.1111111111111111,
              "#46039f"
             ],
             [
              0.2222222222222222,
              "#7201a8"
             ],
             [
              0.3333333333333333,
              "#9c179e"
             ],
             [
              0.4444444444444444,
              "#bd3786"
             ],
             [
              0.5555555555555556,
              "#d8576b"
             ],
             [
              0.6666666666666666,
              "#ed7953"
             ],
             [
              0.7777777777777778,
              "#fb9f3a"
             ],
             [
              0.8888888888888888,
              "#fdca26"
             ],
             [
              1,
              "#f0f921"
             ]
            ],
            "type": "histogram2d"
           }
          ],
          "histogram2dcontour": [
           {
            "colorbar": {
             "outlinewidth": 0,
             "ticks": ""
            },
            "colorscale": [
             [
              0,
              "#0d0887"
             ],
             [
              0.1111111111111111,
              "#46039f"
             ],
             [
              0.2222222222222222,
              "#7201a8"
             ],
             [
              0.3333333333333333,
              "#9c179e"
             ],
             [
              0.4444444444444444,
              "#bd3786"
             ],
             [
              0.5555555555555556,
              "#d8576b"
             ],
             [
              0.6666666666666666,
              "#ed7953"
             ],
             [
              0.7777777777777778,
              "#fb9f3a"
             ],
             [
              0.8888888888888888,
              "#fdca26"
             ],
             [
              1,
              "#f0f921"
             ]
            ],
            "type": "histogram2dcontour"
           }
          ],
          "mesh3d": [
           {
            "colorbar": {
             "outlinewidth": 0,
             "ticks": ""
            },
            "type": "mesh3d"
           }
          ],
          "parcoords": [
           {
            "line": {
             "colorbar": {
              "outlinewidth": 0,
              "ticks": ""
             }
            },
            "type": "parcoords"
           }
          ],
          "pie": [
           {
            "automargin": true,
            "type": "pie"
           }
          ],
          "scatter": [
           {
            "marker": {
             "colorbar": {
              "outlinewidth": 0,
              "ticks": ""
             }
            },
            "type": "scatter"
           }
          ],
          "scatter3d": [
           {
            "line": {
             "colorbar": {
              "outlinewidth": 0,
              "ticks": ""
             }
            },
            "marker": {
             "colorbar": {
              "outlinewidth": 0,
              "ticks": ""
             }
            },
            "type": "scatter3d"
           }
          ],
          "scattercarpet": [
           {
            "marker": {
             "colorbar": {
              "outlinewidth": 0,
              "ticks": ""
             }
            },
            "type": "scattercarpet"
           }
          ],
          "scattergeo": [
           {
            "marker": {
             "colorbar": {
              "outlinewidth": 0,
              "ticks": ""
             }
            },
            "type": "scattergeo"
           }
          ],
          "scattergl": [
           {
            "marker": {
             "colorbar": {
              "outlinewidth": 0,
              "ticks": ""
             }
            },
            "type": "scattergl"
           }
          ],
          "scattermapbox": [
           {
            "marker": {
             "colorbar": {
              "outlinewidth": 0,
              "ticks": ""
             }
            },
            "type": "scattermapbox"
           }
          ],
          "scatterpolar": [
           {
            "marker": {
             "colorbar": {
              "outlinewidth": 0,
              "ticks": ""
             }
            },
            "type": "scatterpolar"
           }
          ],
          "scatterpolargl": [
           {
            "marker": {
             "colorbar": {
              "outlinewidth": 0,
              "ticks": ""
             }
            },
            "type": "scatterpolargl"
           }
          ],
          "scatterternary": [
           {
            "marker": {
             "colorbar": {
              "outlinewidth": 0,
              "ticks": ""
             }
            },
            "type": "scatterternary"
           }
          ],
          "surface": [
           {
            "colorbar": {
             "outlinewidth": 0,
             "ticks": ""
            },
            "colorscale": [
             [
              0,
              "#0d0887"
             ],
             [
              0.1111111111111111,
              "#46039f"
             ],
             [
              0.2222222222222222,
              "#7201a8"
             ],
             [
              0.3333333333333333,
              "#9c179e"
             ],
             [
              0.4444444444444444,
              "#bd3786"
             ],
             [
              0.5555555555555556,
              "#d8576b"
             ],
             [
              0.6666666666666666,
              "#ed7953"
             ],
             [
              0.7777777777777778,
              "#fb9f3a"
             ],
             [
              0.8888888888888888,
              "#fdca26"
             ],
             [
              1,
              "#f0f921"
             ]
            ],
            "type": "surface"
           }
          ],
          "table": [
           {
            "cells": {
             "fill": {
              "color": "#EBF0F8"
             },
             "line": {
              "color": "white"
             }
            },
            "header": {
             "fill": {
              "color": "#C8D4E3"
             },
             "line": {
              "color": "white"
             }
            },
            "type": "table"
           }
          ]
         },
         "layout": {
          "annotationdefaults": {
           "arrowcolor": "#2a3f5f",
           "arrowhead": 0,
           "arrowwidth": 1
          },
          "autotypenumbers": "strict",
          "coloraxis": {
           "colorbar": {
            "outlinewidth": 0,
            "ticks": ""
           }
          },
          "colorscale": {
           "diverging": [
            [
             0,
             "#8e0152"
            ],
            [
             0.1,
             "#c51b7d"
            ],
            [
             0.2,
             "#de77ae"
            ],
            [
             0.3,
             "#f1b6da"
            ],
            [
             0.4,
             "#fde0ef"
            ],
            [
             0.5,
             "#f7f7f7"
            ],
            [
             0.6,
             "#e6f5d0"
            ],
            [
             0.7,
             "#b8e186"
            ],
            [
             0.8,
             "#7fbc41"
            ],
            [
             0.9,
             "#4d9221"
            ],
            [
             1,
             "#276419"
            ]
           ],
           "sequential": [
            [
             0,
             "#0d0887"
            ],
            [
             0.1111111111111111,
             "#46039f"
            ],
            [
             0.2222222222222222,
             "#7201a8"
            ],
            [
             0.3333333333333333,
             "#9c179e"
            ],
            [
             0.4444444444444444,
             "#bd3786"
            ],
            [
             0.5555555555555556,
             "#d8576b"
            ],
            [
             0.6666666666666666,
             "#ed7953"
            ],
            [
             0.7777777777777778,
             "#fb9f3a"
            ],
            [
             0.8888888888888888,
             "#fdca26"
            ],
            [
             1,
             "#f0f921"
            ]
           ],
           "sequentialminus": [
            [
             0,
             "#0d0887"
            ],
            [
             0.1111111111111111,
             "#46039f"
            ],
            [
             0.2222222222222222,
             "#7201a8"
            ],
            [
             0.3333333333333333,
             "#9c179e"
            ],
            [
             0.4444444444444444,
             "#bd3786"
            ],
            [
             0.5555555555555556,
             "#d8576b"
            ],
            [
             0.6666666666666666,
             "#ed7953"
            ],
            [
             0.7777777777777778,
             "#fb9f3a"
            ],
            [
             0.8888888888888888,
             "#fdca26"
            ],
            [
             1,
             "#f0f921"
            ]
           ]
          },
          "colorway": [
           "#636efa",
           "#EF553B",
           "#00cc96",
           "#ab63fa",
           "#FFA15A",
           "#19d3f3",
           "#FF6692",
           "#B6E880",
           "#FF97FF",
           "#FECB52"
          ],
          "font": {
           "color": "#2a3f5f"
          },
          "geo": {
           "bgcolor": "white",
           "lakecolor": "white",
           "landcolor": "#E5ECF6",
           "showlakes": true,
           "showland": true,
           "subunitcolor": "white"
          },
          "hoverlabel": {
           "align": "left"
          },
          "hovermode": "closest",
          "mapbox": {
           "style": "light"
          },
          "paper_bgcolor": "white",
          "plot_bgcolor": "#E5ECF6",
          "polar": {
           "angularaxis": {
            "gridcolor": "white",
            "linecolor": "white",
            "ticks": ""
           },
           "bgcolor": "#E5ECF6",
           "radialaxis": {
            "gridcolor": "white",
            "linecolor": "white",
            "ticks": ""
           }
          },
          "scene": {
           "xaxis": {
            "backgroundcolor": "#E5ECF6",
            "gridcolor": "white",
            "gridwidth": 2,
            "linecolor": "white",
            "showbackground": true,
            "ticks": "",
            "zerolinecolor": "white"
           },
           "yaxis": {
            "backgroundcolor": "#E5ECF6",
            "gridcolor": "white",
            "gridwidth": 2,
            "linecolor": "white",
            "showbackground": true,
            "ticks": "",
            "zerolinecolor": "white"
           },
           "zaxis": {
            "backgroundcolor": "#E5ECF6",
            "gridcolor": "white",
            "gridwidth": 2,
            "linecolor": "white",
            "showbackground": true,
            "ticks": "",
            "zerolinecolor": "white"
           }
          },
          "shapedefaults": {
           "line": {
            "color": "#2a3f5f"
           }
          },
          "ternary": {
           "aaxis": {
            "gridcolor": "white",
            "linecolor": "white",
            "ticks": ""
           },
           "baxis": {
            "gridcolor": "white",
            "linecolor": "white",
            "ticks": ""
           },
           "bgcolor": "#E5ECF6",
           "caxis": {
            "gridcolor": "white",
            "linecolor": "white",
            "ticks": ""
           }
          },
          "title": {
           "x": 0.05
          },
          "xaxis": {
           "automargin": true,
           "gridcolor": "white",
           "linecolor": "white",
           "ticks": "",
           "title": {
            "standoff": 15
           },
           "zerolinecolor": "white",
           "zerolinewidth": 2
          },
          "yaxis": {
           "automargin": true,
           "gridcolor": "white",
           "linecolor": "white",
           "ticks": "",
           "title": {
            "standoff": 15
           },
           "zerolinecolor": "white",
           "zerolinewidth": 2
          }
         }
        },
        "title": {
         "text": "Percentage of Male and Female"
        }
       }
      },
      "text/html": [
       "<div>                            <div id=\"e53aa1f9-0f97-4d88-86d2-1782fa0fd8ee\" class=\"plotly-graph-div\" style=\"height:525px; width:100%;\"></div>            <script type=\"text/javascript\">                require([\"plotly\"], function(Plotly) {                    window.PLOTLYENV=window.PLOTLYENV || {};                                    if (document.getElementById(\"e53aa1f9-0f97-4d88-86d2-1782fa0fd8ee\")) {                    Plotly.newPlot(                        \"e53aa1f9-0f97-4d88-86d2-1782fa0fd8ee\",                        [{\"labels\":[\"male\",\"female\"],\"marker\":{\"colors\":[\"skyblue\",\"pink\"],\"line\":{\"color\":\"#000000\",\"width\":1.5}},\"opacity\":0.8,\"textfont\":{\"size\":15},\"values\":[2501,2500],\"type\":\"pie\"}],                        {\"template\":{\"data\":{\"barpolar\":[{\"marker\":{\"line\":{\"color\":\"#E5ECF6\",\"width\":0.5},\"pattern\":{\"fillmode\":\"overlay\",\"size\":10,\"solidity\":0.2}},\"type\":\"barpolar\"}],\"bar\":[{\"error_x\":{\"color\":\"#2a3f5f\"},\"error_y\":{\"color\":\"#2a3f5f\"},\"marker\":{\"line\":{\"color\":\"#E5ECF6\",\"width\":0.5},\"pattern\":{\"fillmode\":\"overlay\",\"size\":10,\"solidity\":0.2}},\"type\":\"bar\"}],\"carpet\":[{\"aaxis\":{\"endlinecolor\":\"#2a3f5f\",\"gridcolor\":\"white\",\"linecolor\":\"white\",\"minorgridcolor\":\"white\",\"startlinecolor\":\"#2a3f5f\"},\"baxis\":{\"endlinecolor\":\"#2a3f5f\",\"gridcolor\":\"white\",\"linecolor\":\"white\",\"minorgridcolor\":\"white\",\"startlinecolor\":\"#2a3f5f\"},\"type\":\"carpet\"}],\"choropleth\":[{\"colorbar\":{\"outlinewidth\":0,\"ticks\":\"\"},\"type\":\"choropleth\"}],\"contourcarpet\":[{\"colorbar\":{\"outlinewidth\":0,\"ticks\":\"\"},\"type\":\"contourcarpet\"}],\"contour\":[{\"colorbar\":{\"outlinewidth\":0,\"ticks\":\"\"},\"colorscale\":[[0.0,\"#0d0887\"],[0.1111111111111111,\"#46039f\"],[0.2222222222222222,\"#7201a8\"],[0.3333333333333333,\"#9c179e\"],[0.4444444444444444,\"#bd3786\"],[0.5555555555555556,\"#d8576b\"],[0.6666666666666666,\"#ed7953\"],[0.7777777777777778,\"#fb9f3a\"],[0.8888888888888888,\"#fdca26\"],[1.0,\"#f0f921\"]],\"type\":\"contour\"}],\"heatmapgl\":[{\"colorbar\":{\"outlinewidth\":0,\"ticks\":\"\"},\"colorscale\":[[0.0,\"#0d0887\"],[0.1111111111111111,\"#46039f\"],[0.2222222222222222,\"#7201a8\"],[0.3333333333333333,\"#9c179e\"],[0.4444444444444444,\"#bd3786\"],[0.5555555555555556,\"#d8576b\"],[0.6666666666666666,\"#ed7953\"],[0.7777777777777778,\"#fb9f3a\"],[0.8888888888888888,\"#fdca26\"],[1.0,\"#f0f921\"]],\"type\":\"heatmapgl\"}],\"heatmap\":[{\"colorbar\":{\"outlinewidth\":0,\"ticks\":\"\"},\"colorscale\":[[0.0,\"#0d0887\"],[0.1111111111111111,\"#46039f\"],[0.2222222222222222,\"#7201a8\"],[0.3333333333333333,\"#9c179e\"],[0.4444444444444444,\"#bd3786\"],[0.5555555555555556,\"#d8576b\"],[0.6666666666666666,\"#ed7953\"],[0.7777777777777778,\"#fb9f3a\"],[0.8888888888888888,\"#fdca26\"],[1.0,\"#f0f921\"]],\"type\":\"heatmap\"}],\"histogram2dcontour\":[{\"colorbar\":{\"outlinewidth\":0,\"ticks\":\"\"},\"colorscale\":[[0.0,\"#0d0887\"],[0.1111111111111111,\"#46039f\"],[0.2222222222222222,\"#7201a8\"],[0.3333333333333333,\"#9c179e\"],[0.4444444444444444,\"#bd3786\"],[0.5555555555555556,\"#d8576b\"],[0.6666666666666666,\"#ed7953\"],[0.7777777777777778,\"#fb9f3a\"],[0.8888888888888888,\"#fdca26\"],[1.0,\"#f0f921\"]],\"type\":\"histogram2dcontour\"}],\"histogram2d\":[{\"colorbar\":{\"outlinewidth\":0,\"ticks\":\"\"},\"colorscale\":[[0.0,\"#0d0887\"],[0.1111111111111111,\"#46039f\"],[0.2222222222222222,\"#7201a8\"],[0.3333333333333333,\"#9c179e\"],[0.4444444444444444,\"#bd3786\"],[0.5555555555555556,\"#d8576b\"],[0.6666666666666666,\"#ed7953\"],[0.7777777777777778,\"#fb9f3a\"],[0.8888888888888888,\"#fdca26\"],[1.0,\"#f0f921\"]],\"type\":\"histogram2d\"}],\"histogram\":[{\"marker\":{\"pattern\":{\"fillmode\":\"overlay\",\"size\":10,\"solidity\":0.2}},\"type\":\"histogram\"}],\"mesh3d\":[{\"colorbar\":{\"outlinewidth\":0,\"ticks\":\"\"},\"type\":\"mesh3d\"}],\"parcoords\":[{\"line\":{\"colorbar\":{\"outlinewidth\":0,\"ticks\":\"\"}},\"type\":\"parcoords\"}],\"pie\":[{\"automargin\":true,\"type\":\"pie\"}],\"scatter3d\":[{\"line\":{\"colorbar\":{\"outlinewidth\":0,\"ticks\":\"\"}},\"marker\":{\"colorbar\":{\"outlinewidth\":0,\"ticks\":\"\"}},\"type\":\"scatter3d\"}],\"scattercarpet\":[{\"marker\":{\"colorbar\":{\"outlinewidth\":0,\"ticks\":\"\"}},\"type\":\"scattercarpet\"}],\"scattergeo\":[{\"marker\":{\"colorbar\":{\"outlinewidth\":0,\"ticks\":\"\"}},\"type\":\"scattergeo\"}],\"scattergl\":[{\"marker\":{\"colorbar\":{\"outlinewidth\":0,\"ticks\":\"\"}},\"type\":\"scattergl\"}],\"scattermapbox\":[{\"marker\":{\"colorbar\":{\"outlinewidth\":0,\"ticks\":\"\"}},\"type\":\"scattermapbox\"}],\"scatterpolargl\":[{\"marker\":{\"colorbar\":{\"outlinewidth\":0,\"ticks\":\"\"}},\"type\":\"scatterpolargl\"}],\"scatterpolar\":[{\"marker\":{\"colorbar\":{\"outlinewidth\":0,\"ticks\":\"\"}},\"type\":\"scatterpolar\"}],\"scatter\":[{\"marker\":{\"colorbar\":{\"outlinewidth\":0,\"ticks\":\"\"}},\"type\":\"scatter\"}],\"scatterternary\":[{\"marker\":{\"colorbar\":{\"outlinewidth\":0,\"ticks\":\"\"}},\"type\":\"scatterternary\"}],\"surface\":[{\"colorbar\":{\"outlinewidth\":0,\"ticks\":\"\"},\"colorscale\":[[0.0,\"#0d0887\"],[0.1111111111111111,\"#46039f\"],[0.2222222222222222,\"#7201a8\"],[0.3333333333333333,\"#9c179e\"],[0.4444444444444444,\"#bd3786\"],[0.5555555555555556,\"#d8576b\"],[0.6666666666666666,\"#ed7953\"],[0.7777777777777778,\"#fb9f3a\"],[0.8888888888888888,\"#fdca26\"],[1.0,\"#f0f921\"]],\"type\":\"surface\"}],\"table\":[{\"cells\":{\"fill\":{\"color\":\"#EBF0F8\"},\"line\":{\"color\":\"white\"}},\"header\":{\"fill\":{\"color\":\"#C8D4E3\"},\"line\":{\"color\":\"white\"}},\"type\":\"table\"}]},\"layout\":{\"annotationdefaults\":{\"arrowcolor\":\"#2a3f5f\",\"arrowhead\":0,\"arrowwidth\":1},\"autotypenumbers\":\"strict\",\"coloraxis\":{\"colorbar\":{\"outlinewidth\":0,\"ticks\":\"\"}},\"colorscale\":{\"diverging\":[[0,\"#8e0152\"],[0.1,\"#c51b7d\"],[0.2,\"#de77ae\"],[0.3,\"#f1b6da\"],[0.4,\"#fde0ef\"],[0.5,\"#f7f7f7\"],[0.6,\"#e6f5d0\"],[0.7,\"#b8e186\"],[0.8,\"#7fbc41\"],[0.9,\"#4d9221\"],[1,\"#276419\"]],\"sequential\":[[0.0,\"#0d0887\"],[0.1111111111111111,\"#46039f\"],[0.2222222222222222,\"#7201a8\"],[0.3333333333333333,\"#9c179e\"],[0.4444444444444444,\"#bd3786\"],[0.5555555555555556,\"#d8576b\"],[0.6666666666666666,\"#ed7953\"],[0.7777777777777778,\"#fb9f3a\"],[0.8888888888888888,\"#fdca26\"],[1.0,\"#f0f921\"]],\"sequentialminus\":[[0.0,\"#0d0887\"],[0.1111111111111111,\"#46039f\"],[0.2222222222222222,\"#7201a8\"],[0.3333333333333333,\"#9c179e\"],[0.4444444444444444,\"#bd3786\"],[0.5555555555555556,\"#d8576b\"],[0.6666666666666666,\"#ed7953\"],[0.7777777777777778,\"#fb9f3a\"],[0.8888888888888888,\"#fdca26\"],[1.0,\"#f0f921\"]]},\"colorway\":[\"#636efa\",\"#EF553B\",\"#00cc96\",\"#ab63fa\",\"#FFA15A\",\"#19d3f3\",\"#FF6692\",\"#B6E880\",\"#FF97FF\",\"#FECB52\"],\"font\":{\"color\":\"#2a3f5f\"},\"geo\":{\"bgcolor\":\"white\",\"lakecolor\":\"white\",\"landcolor\":\"#E5ECF6\",\"showlakes\":true,\"showland\":true,\"subunitcolor\":\"white\"},\"hoverlabel\":{\"align\":\"left\"},\"hovermode\":\"closest\",\"mapbox\":{\"style\":\"light\"},\"paper_bgcolor\":\"white\",\"plot_bgcolor\":\"#E5ECF6\",\"polar\":{\"angularaxis\":{\"gridcolor\":\"white\",\"linecolor\":\"white\",\"ticks\":\"\"},\"bgcolor\":\"#E5ECF6\",\"radialaxis\":{\"gridcolor\":\"white\",\"linecolor\":\"white\",\"ticks\":\"\"}},\"scene\":{\"xaxis\":{\"backgroundcolor\":\"#E5ECF6\",\"gridcolor\":\"white\",\"gridwidth\":2,\"linecolor\":\"white\",\"showbackground\":true,\"ticks\":\"\",\"zerolinecolor\":\"white\"},\"yaxis\":{\"backgroundcolor\":\"#E5ECF6\",\"gridcolor\":\"white\",\"gridwidth\":2,\"linecolor\":\"white\",\"showbackground\":true,\"ticks\":\"\",\"zerolinecolor\":\"white\"},\"zaxis\":{\"backgroundcolor\":\"#E5ECF6\",\"gridcolor\":\"white\",\"gridwidth\":2,\"linecolor\":\"white\",\"showbackground\":true,\"ticks\":\"\",\"zerolinecolor\":\"white\"}},\"shapedefaults\":{\"line\":{\"color\":\"#2a3f5f\"}},\"ternary\":{\"aaxis\":{\"gridcolor\":\"white\",\"linecolor\":\"white\",\"ticks\":\"\"},\"baxis\":{\"gridcolor\":\"white\",\"linecolor\":\"white\",\"ticks\":\"\"},\"bgcolor\":\"#E5ECF6\",\"caxis\":{\"gridcolor\":\"white\",\"linecolor\":\"white\",\"ticks\":\"\"}},\"title\":{\"x\":0.05},\"xaxis\":{\"automargin\":true,\"gridcolor\":\"white\",\"linecolor\":\"white\",\"ticks\":\"\",\"title\":{\"standoff\":15},\"zerolinecolor\":\"white\",\"zerolinewidth\":2},\"yaxis\":{\"automargin\":true,\"gridcolor\":\"white\",\"linecolor\":\"white\",\"ticks\":\"\",\"title\":{\"standoff\":15},\"zerolinecolor\":\"white\",\"zerolinewidth\":2}}},\"title\":{\"text\":\"Percentage of Male and Female\"}},                        {\"responsive\": true}                    ).then(function(){\n",
       "                            \n",
       "var gd = document.getElementById('e53aa1f9-0f97-4d88-86d2-1782fa0fd8ee');\n",
       "var x = new MutationObserver(function (mutations, observer) {{\n",
       "        var display = window.getComputedStyle(gd).display;\n",
       "        if (!display || display === 'none') {{\n",
       "            console.log([gd, 'removed!']);\n",
       "            Plotly.purge(gd);\n",
       "            observer.disconnect();\n",
       "        }}\n",
       "}});\n",
       "\n",
       "// Listen for the removal of the full notebook cells\n",
       "var notebookContainer = gd.closest('#notebook-container');\n",
       "if (notebookContainer) {{\n",
       "    x.observe(notebookContainer, {childList: true});\n",
       "}}\n",
       "\n",
       "// Listen for the clearing of the current output cell\n",
       "var outputEl = gd.closest('.output');\n",
       "if (outputEl) {{\n",
       "    x.observe(outputEl, {childList: true});\n",
       "}}\n",
       "\n",
       "                        })                };                });            </script>        </div>"
      ]
     },
     "metadata": {},
     "output_type": "display_data"
    }
   ],
   "source": [
    "#membuat visualisasi Pie Chart\n",
    "\n",
    "trace = go.Pie(labels = ['male','female'],\n",
    "               values = df['gender'].value_counts(),\n",
    "               textfont=dict(size=15), opacity = 0.8,\n",
    "               marker=dict(colors=[ 'skyblue', 'pink'], line=dict(color='#000000', width=1.5)))\n",
    "\n",
    "\n",
    "layout = dict(title = 'Percentage of Male and Female')\n",
    "           \n",
    "fig = dict(data = [trace], layout=layout)\n",
    "py.iplot(fig) \n"
   ]
  },
  {
   "cell_type": "markdown",
   "metadata": {},
   "source": [
    "<h3> We can see that the gender frequency between 'Male' and 'Female' almost balanced. \n",
    "\n",
    "male **2500** (twenty five hundred) and female **2501** (two thousand five hundred one)</h3>"
   ]
  },
  {
   "cell_type": "markdown",
   "metadata": {},
   "source": [
    "*Note: 50% pada data, atau 2500 adalah ber jenis kelamin wanita. dan 50% lagi adalah ber jenis kelamin pria, 2501 orang."
   ]
  },
  {
   "cell_type": "markdown",
   "metadata": {},
   "source": [
    "* <strong>Frequency of gender by long hair<strong>"
   ]
  },
  {
   "cell_type": "code",
   "execution_count": 18,
   "metadata": {},
   "outputs": [
    {
     "data": {
      "image/png": "[encoded data removed]",
      "text/plain": [
       "<Figure size 1800x504 with 2 Axes>"
      ]
     },
     "metadata": {},
     "output_type": "display_data"
    }
   ],
   "source": [
    "plt.figure(figsize=(25, 7))\n",
    "plt.subplot(1, 2, 1)\n",
    "fig = sns.countplot(x='long_hair', data=df, order=df.long_hair.value_counts().index, palette='pink')\n",
    "for p in fig.patches:\n",
    "    height = p.get_height()\n",
    "    fig.text(p.get_x() + p.get_width() / 2.,\n",
    "             height + 3,\n",
    "             '{:1.0f}'.format(height),\n",
    "             ha=\"center\")\n",
    "\n",
    "plt.title('long_hair Count')\n",
    "plt.xlabel('long_hair')\n",
    "\n",
    "plt.subplot(1, 2, 2)\n",
    "sns.countplot(x='long_hair', data=df, order=df.long_hair.value_counts().index, palette='gist_earth', hue='gender')\n",
    "plt.title('long_hair by gender')\n",
    "plt.xlabel('long_hair')\n",
    "\n",
    "plt.show()"
   ]
  },
  {
   "cell_type": "code",
   "execution_count": 19,
   "metadata": {},
   "outputs": [
    {
     "name": "stdout",
     "output_type": "stream",
     "text": [
      "long_hair  gender  short_hair  long_hair\n",
      "0          Female    0.126749   0.873251\n",
      "1            Male    0.134000   0.866000\n"
     ]
    }
   ],
   "source": [
    "def plot_logical_col(df, col, no, yes):\n",
    "\n",
    "    df = df.groupby('gender')[col].value_counts(normalize = True).unstack(col).rename(columns = {0: no, 1: yes}).reset_index()\n",
    "    print(df)\n",
    "\n",
    "plot_logical_col(df, 'long_hair', 'short_hair', 'long_hair')\n"
   ]
  },
  {
   "cell_type": "markdown",
   "metadata": {},
   "source": [
    "<h3>Based on chart above frequency of gender by 'long_hair'. \n",
    "\n",
    "The dataset contains a description where 0 is 'short hair' and 1 is 'long hair'. \n",
    "\n",
    "The chart shows that 652 ( SIX HUNDRED FIFTY TWO ) people have a short hair and \n",
    "4349 (FOUR THOUSAND THREE HUNDRED FORTY NINE) people have a long hair.\n",
    "\n",
    "If we look at frequency by gender, **'male'** also have long hair but **'female'** more dominant. \n",
    "I mean, female are the most have a long hair than male.</h3>"
   ]
  },
  {
   "cell_type": "markdown",
   "metadata": {},
   "source": [
    "*Note: Jika kita lihat berdasarkan 'long_hair' atau panjang rambut, pada dataset tertulis keterangan dimana 0 adalah 'rambut pendek' dan 1 adalah 'rambut panjang'. pada chart di hasilkan 652 adalah orang dengan rambut pendek, dan 4349 adalah orang dengan rambut panjang. \n",
    "\n",
    "Kalau dilihat dari persentase berdasarkan gender, 'male' atau pria juga ternyata ada yang memiliki rambut panjang, namun wanita 'female' lebih dominan jika dilihat berdasarkan panjang rambut."
   ]
  },
  {
   "cell_type": "markdown",
   "metadata": {},
   "source": [
    "* <strong>Frequency of gender by nose wide<strong>"
   ]
  },
  {
   "cell_type": "code",
   "execution_count": 20,
   "metadata": {},
   "outputs": [
    {
     "data": {
      "image/png": "[encoded data removed]",
      "text/plain": [
       "<Figure size 1800x504 with 2 Axes>"
      ]
     },
     "metadata": {},
     "output_type": "display_data"
    }
   ],
   "source": [
    "plt.figure(figsize=(25, 7))\n",
    "plt.subplot(1, 2, 1)\n",
    "fig = sns.countplot(x='nose_wide', data=df, order=df.nose_wide.value_counts().index, palette='pink')\n",
    "for p in fig.patches:\n",
    "    height = p.get_height()\n",
    "    fig.text(p.get_x() + p.get_width() / 2.,\n",
    "             height + 3,\n",
    "             '{:1.0f}'.format(height),\n",
    "             ha=\"center\")\n",
    "\n",
    "plt.title('nose_wide Count')\n",
    "plt.xlabel('nose_wide')\n",
    "\n",
    "plt.subplot(1, 2, 2)\n",
    "sns.countplot(x='nose_wide', data=df, order=df.nose_wide.value_counts().index, palette='pink', hue='gender')\n",
    "plt.title('nose_wide by gender')\n",
    "plt.xlabel('nose_wide')\n",
    "\n",
    "plt.show()"
   ]
  },
  {
   "cell_type": "markdown",
   "metadata": {},
   "source": [
    "<h3>Based on chart above frequency of gender by 'nose_wide'.\n",
    "\n",
    "The dataset contains a description where 0 is 'nose isn't wide' and 1 is 'wide nose'. \n",
    "\n",
    "from the physical characteristics of the nose shape, by looking at the width of the nose, the percentage of 'MALE' tends to be higher than 'FEMALE'.\n",
    "\n",
    "On the chart above we can see that there have physical characteristics, **FEMALE** have narrow noses more than wide noses, but most of **MALE** have wide noses.</h3>"
   ]
  },
  {
   "cell_type": "markdown",
   "metadata": {},
   "source": [
    "*Note: Jika kita lihat berdasarkan 'nose_wide' atau lebarnya hidung, pada dataset ditulis keterangan bahwa 0 adalah 'hidung tidak lebar' dan 1 adalah 'hidung lebar. pada chart bisa kita lihat ciri fisik 'hidung tidak lebar' lebih banyak daripada 'hidung lebar'.\n",
    "\n",
    "Jika dilihat ciri fisik dari bentuk hidung, dengan melihat lebar hidung persentase dari pria cenderung lebih tinggi dibanding wanita."
   ]
  },
  {
   "cell_type": "markdown",
   "metadata": {},
   "source": [
    "* <strong>Frequency of gender by nose long<strong>"
   ]
  },
  {
   "cell_type": "code",
   "execution_count": 21,
   "metadata": {},
   "outputs": [
    {
     "data": {
      "image/png": "[encoded data removed]",
      "text/plain": [
       "<Figure size 1800x504 with 2 Axes>"
      ]
     },
     "metadata": {},
     "output_type": "display_data"
    }
   ],
   "source": [
    "plt.figure(figsize=(25, 7))\n",
    "plt.subplot(1, 2, 1)\n",
    "fig = sns.countplot(x='nose_long', data=df, order=df.nose_long.value_counts().index, palette='pink')\n",
    "for p in fig.patches:\n",
    "    height = p.get_height()\n",
    "    fig.text(p.get_x() + p.get_width() / 2.,\n",
    "             height + 3,\n",
    "             '{:1.0f}'.format(height),\n",
    "             ha=\"center\")\n",
    "\n",
    "plt.title('nose_long Count')\n",
    "plt.xlabel('nose_long')\n",
    "\n",
    "plt.subplot(1, 2, 2)\n",
    "sns.countplot(x='nose_long', data=df, order=df.nose_long.value_counts().index, palette='pink', hue='gender')\n",
    "plt.title('nose_long by gender')\n",
    "plt.xlabel('nose_long')\n",
    "\n",
    "plt.show()"
   ]
  },
  {
   "cell_type": "markdown",
   "metadata": {},
   "source": [
    "<h3>Based on chart above frequency of gender by 'nose_long'.\n",
    "\n",
    "The dataset contains a description where 0 is 'nose isn't long' and 1 is 'long nose'. \n",
    "\n",
    "On the chart above we can see that there have physical characteristics, **Female** have short noses more than long noses, but most of **male** have long noses."
   ]
  },
  {
   "cell_type": "markdown",
   "metadata": {},
   "source": [
    "*Note: Jika kita lihat berdasarkan 'nose_long' atau panjang hidung, pada dataset ditulis keterangan bahwa 0 adalah 'hidung tidak panjang' dan 1 adalah 'hidung panjang'. pada chart bisa kita lihat ciri fisik 'hidung tidak panjang' lebih sedikit daripada 'hidung panjang'.\n",
    "\n",
    "Jika dilihat dari ciri fisik, dengan mengukur panjang hidung persentase dari gender pria lebih tinggi dibandingkan dengan gender wanita 'female'."
   ]
  },
  {
   "cell_type": "markdown",
   "metadata": {},
   "source": [
    "* <strong>Frequency of gender by lips thin<strong>"
   ]
  },
  {
   "cell_type": "code",
   "execution_count": 22,
   "metadata": {},
   "outputs": [
    {
     "data": {
      "image/png": "[encoded data removed]",
      "text/plain": [
       "<Figure size 1800x504 with 2 Axes>"
      ]
     },
     "metadata": {},
     "output_type": "display_data"
    }
   ],
   "source": [
    "plt.figure(figsize=(25, 7))\n",
    "plt.subplot(1, 2, 1)\n",
    "fig = sns.countplot(x='lips_thin', data=df, order=df.lips_thin.value_counts().index, palette='pink')\n",
    "for p in fig.patches:\n",
    "    height = p.get_height()\n",
    "    fig.text(p.get_x() + p.get_width() / 2.,\n",
    "             height + 3,\n",
    "             '{:1.0f}'.format(height),\n",
    "             ha=\"center\")\n",
    "\n",
    "plt.title('lips_thin Count')\n",
    "plt.xlabel('lips_thin')\n",
    "\n",
    "plt.subplot(1, 2, 2)\n",
    "sns.countplot(x='lips_thin', data=df, order=df.lips_thin.value_counts().index, palette='gist_earth', hue='gender')\n",
    "plt.title('lips_thin by gender')\n",
    "plt.xlabel('lips_thin')\n",
    "\n",
    "plt.show()"
   ]
  },
  {
   "cell_type": "markdown",
   "metadata": {},
   "source": [
    "<h3>Based on chart above frequency of gender by 'lips_thin'.\n",
    "\n",
    "The dataset contains a description where 0 is 'not thin lips' and 1 is 'thin lips'. \n",
    "\n",
    "As we can see from chart above the physical characteristics of gender by the size of lips, most OF **FEMALE** have thin lips than **MALE**, most of male have thick lips.</h3>\n"
   ]
  },
  {
   "cell_type": "markdown",
   "metadata": {},
   "source": [
    "*Note: Jika kita lihat berdasarkan 'lips_thin' atau bibir tipis, pada dataset ditulis keterangan bahwa 0 adalah 'bibir tidak tipis' dan 1 adalah 'bibir tipis'. pada chart bisa kita lihat ciri fisik 'lips_thin' lebih banyak daripada 'bibir tidak tipis'.\n",
    "\n",
    "Jika dilihat dari ciri fisik berdasarkan bibir, bentuk tipis bibir tipis lebih banyak di miliki oleh yang ber jenis kelamin 'female' atau wanita. jika dibandingan dengan jenis kelamin pria."
   ]
  },
  {
   "cell_type": "markdown",
   "metadata": {},
   "source": [
    "* <strong>Frequency based on Forehead<strong>"
   ]
  },
  {
   "cell_type": "code",
   "execution_count": 23,
   "metadata": {},
   "outputs": [
    {
     "data": {
      "text/html": [
       "<div>\n",
       "<style scoped>\n",
       "    .dataframe tbody tr th:only-of-type {\n",
       "        vertical-align: middle;\n",
       "    }\n",
       "\n",
       "    .dataframe tbody tr th {\n",
       "        vertical-align: top;\n",
       "    }\n",
       "\n",
       "    .dataframe thead th {\n",
       "        text-align: right;\n",
       "    }\n",
       "</style>\n",
       "<table border=\"1\" class=\"dataframe\">\n",
       "  <thead>\n",
       "    <tr style=\"text-align: right;\">\n",
       "      <th></th>\n",
       "      <th>long_hair</th>\n",
       "      <th>forehead_width_cm</th>\n",
       "      <th>forehead_height_cm</th>\n",
       "      <th>nose_wide</th>\n",
       "      <th>nose_long</th>\n",
       "      <th>lips_thin</th>\n",
       "      <th>distance_nose_to_lip_long</th>\n",
       "      <th>gender</th>\n",
       "      <th>width_limit</th>\n",
       "      <th>height_limit</th>\n",
       "    </tr>\n",
       "  </thead>\n",
       "  <tbody>\n",
       "    <tr>\n",
       "      <th>0</th>\n",
       "      <td>1</td>\n",
       "      <td>11.8</td>\n",
       "      <td>6.1</td>\n",
       "      <td>1</td>\n",
       "      <td>0</td>\n",
       "      <td>1</td>\n",
       "      <td>1</td>\n",
       "      <td>Male</td>\n",
       "      <td>&lt;= 12</td>\n",
       "      <td>&lt;= 6.5</td>\n",
       "    </tr>\n",
       "    <tr>\n",
       "      <th>1</th>\n",
       "      <td>0</td>\n",
       "      <td>14.0</td>\n",
       "      <td>5.4</td>\n",
       "      <td>0</td>\n",
       "      <td>0</td>\n",
       "      <td>1</td>\n",
       "      <td>0</td>\n",
       "      <td>Female</td>\n",
       "      <td>&lt;= 14</td>\n",
       "      <td>&lt;= 5.5</td>\n",
       "    </tr>\n",
       "    <tr>\n",
       "      <th>2</th>\n",
       "      <td>0</td>\n",
       "      <td>11.8</td>\n",
       "      <td>6.3</td>\n",
       "      <td>1</td>\n",
       "      <td>1</td>\n",
       "      <td>1</td>\n",
       "      <td>1</td>\n",
       "      <td>Male</td>\n",
       "      <td>&lt;= 12</td>\n",
       "      <td>&lt;= 6.5</td>\n",
       "    </tr>\n",
       "    <tr>\n",
       "      <th>3</th>\n",
       "      <td>0</td>\n",
       "      <td>14.4</td>\n",
       "      <td>6.1</td>\n",
       "      <td>0</td>\n",
       "      <td>1</td>\n",
       "      <td>1</td>\n",
       "      <td>1</td>\n",
       "      <td>Male</td>\n",
       "      <td>&lt;= 15</td>\n",
       "      <td>&lt;= 6.5</td>\n",
       "    </tr>\n",
       "    <tr>\n",
       "      <th>4</th>\n",
       "      <td>1</td>\n",
       "      <td>13.5</td>\n",
       "      <td>5.9</td>\n",
       "      <td>0</td>\n",
       "      <td>0</td>\n",
       "      <td>0</td>\n",
       "      <td>0</td>\n",
       "      <td>Female</td>\n",
       "      <td>&lt;= 14</td>\n",
       "      <td>&lt;= 6</td>\n",
       "    </tr>\n",
       "    <tr>\n",
       "      <th>...</th>\n",
       "      <td>...</td>\n",
       "      <td>...</td>\n",
       "      <td>...</td>\n",
       "      <td>...</td>\n",
       "      <td>...</td>\n",
       "      <td>...</td>\n",
       "      <td>...</td>\n",
       "      <td>...</td>\n",
       "      <td>...</td>\n",
       "      <td>...</td>\n",
       "    </tr>\n",
       "    <tr>\n",
       "      <th>4996</th>\n",
       "      <td>1</td>\n",
       "      <td>13.6</td>\n",
       "      <td>5.1</td>\n",
       "      <td>0</td>\n",
       "      <td>0</td>\n",
       "      <td>0</td>\n",
       "      <td>0</td>\n",
       "      <td>Female</td>\n",
       "      <td>&lt;= 14</td>\n",
       "      <td>&lt;= 5.5</td>\n",
       "    </tr>\n",
       "    <tr>\n",
       "      <th>4997</th>\n",
       "      <td>1</td>\n",
       "      <td>11.9</td>\n",
       "      <td>5.4</td>\n",
       "      <td>0</td>\n",
       "      <td>0</td>\n",
       "      <td>0</td>\n",
       "      <td>0</td>\n",
       "      <td>Female</td>\n",
       "      <td>&lt;= 12</td>\n",
       "      <td>&lt;= 5.5</td>\n",
       "    </tr>\n",
       "    <tr>\n",
       "      <th>4998</th>\n",
       "      <td>1</td>\n",
       "      <td>12.9</td>\n",
       "      <td>5.7</td>\n",
       "      <td>0</td>\n",
       "      <td>0</td>\n",
       "      <td>0</td>\n",
       "      <td>0</td>\n",
       "      <td>Female</td>\n",
       "      <td>&lt;= 13</td>\n",
       "      <td>&lt;= 6</td>\n",
       "    </tr>\n",
       "    <tr>\n",
       "      <th>4999</th>\n",
       "      <td>1</td>\n",
       "      <td>13.2</td>\n",
       "      <td>6.2</td>\n",
       "      <td>0</td>\n",
       "      <td>0</td>\n",
       "      <td>0</td>\n",
       "      <td>0</td>\n",
       "      <td>Female</td>\n",
       "      <td>&lt;= 14</td>\n",
       "      <td>&lt;= 6.5</td>\n",
       "    </tr>\n",
       "    <tr>\n",
       "      <th>5000</th>\n",
       "      <td>1</td>\n",
       "      <td>15.4</td>\n",
       "      <td>5.4</td>\n",
       "      <td>1</td>\n",
       "      <td>1</td>\n",
       "      <td>1</td>\n",
       "      <td>1</td>\n",
       "      <td>Male</td>\n",
       "      <td>&lt;= 16</td>\n",
       "      <td>&lt;= 5.5</td>\n",
       "    </tr>\n",
       "  </tbody>\n",
       "</table>\n",
       "<p>5001 rows × 10 columns</p>\n",
       "</div>"
      ],
      "text/plain": [
       "      long_hair  forehead_width_cm  forehead_height_cm  nose_wide  nose_long  \\\n",
       "0             1               11.8                 6.1          1          0   \n",
       "1             0               14.0                 5.4          0          0   \n",
       "2             0               11.8                 6.3          1          1   \n",
       "3             0               14.4                 6.1          0          1   \n",
       "4             1               13.5                 5.9          0          0   \n",
       "...         ...                ...                 ...        ...        ...   \n",
       "4996          1               13.6                 5.1          0          0   \n",
       "4997          1               11.9                 5.4          0          0   \n",
       "4998          1               12.9                 5.7          0          0   \n",
       "4999          1               13.2                 6.2          0          0   \n",
       "5000          1               15.4                 5.4          1          1   \n",
       "\n",
       "      lips_thin  distance_nose_to_lip_long  gender width_limit height_limit  \n",
       "0             1                          1    Male       <= 12       <= 6.5  \n",
       "1             1                          0  Female       <= 14       <= 5.5  \n",
       "2             1                          1    Male       <= 12       <= 6.5  \n",
       "3             1                          1    Male       <= 15       <= 6.5  \n",
       "4             0                          0  Female       <= 14         <= 6  \n",
       "...         ...                        ...     ...         ...          ...  \n",
       "4996          0                          0  Female       <= 14       <= 5.5  \n",
       "4997          0                          0  Female       <= 12       <= 5.5  \n",
       "4998          0                          0  Female       <= 13         <= 6  \n",
       "4999          0                          0  Female       <= 14       <= 6.5  \n",
       "5000          1                          1    Male       <= 16       <= 5.5  \n",
       "\n",
       "[5001 rows x 10 columns]"
      ]
     },
     "execution_count": 23,
     "metadata": {},
     "output_type": "execute_result"
    }
   ],
   "source": [
    "width_bins = [11,12,13,14,15,16]\n",
    "width_names = ['<= 12','<= 13','<= 14','<= 15', '<= 16']\n",
    "df['width_limit'] = pd.cut(df['forehead_width_cm'], bins= width_bins, labels= width_names)\n",
    "\n",
    "\n",
    "height_bins = [5,5.5,6,6.5,7,7.5]\n",
    "height_names = ['<= 5.5','<= 6','<= 6.5','<= 7', '<= 7.5']\n",
    "df['height_limit'] = pd.cut(df['forehead_height_cm'], bins= height_bins, labels= height_names)\n",
    "\n",
    "df"
   ]
  },
  {
   "cell_type": "code",
   "execution_count": 24,
   "metadata": {},
   "outputs": [
    {
     "data": {
      "text/plain": [
       "5.7    306\n",
       "5.9    303\n",
       "5.3    301\n",
       "5.5    299\n",
       "6.1    296\n",
       "5.1    293\n",
       "6.2    290\n",
       "5.8    290\n",
       "6.4    287\n",
       "6.3    285\n",
       "6.5    285\n",
       "5.6    279\n",
       "6.0    275\n",
       "5.4    265\n",
       "5.2    259\n",
       "6.6    126\n",
       "6.8    118\n",
       "7.0    117\n",
       "7.1    113\n",
       "6.9    109\n",
       "6.7    105\n",
       "Name: forehead_height_cm, dtype: int64"
      ]
     },
     "execution_count": 24,
     "metadata": {},
     "output_type": "execute_result"
    }
   ],
   "source": [
    "df['forehead_height_cm'].value_counts()"
   ]
  },
  {
   "cell_type": "code",
   "execution_count": 25,
   "metadata": {},
   "outputs": [
    {
     "data": {
      "text/plain": [
       "12.0    168\n",
       "11.8    161\n",
       "14.1    155\n",
       "14.0    154\n",
       "11.5    154\n",
       "11.6    152\n",
       "11.9    150\n",
       "13.3    149\n",
       "14.2    149\n",
       "12.2    145\n",
       "12.6    145\n",
       "12.1    145\n",
       "13.2    143\n",
       "14.3    143\n",
       "12.9    141\n",
       "12.5    141\n",
       "13.7    140\n",
       "12.8    138\n",
       "12.3    138\n",
       "13.6    138\n",
       "13.0    137\n",
       "13.4    137\n",
       "13.5    136\n",
       "13.8    134\n",
       "11.7    133\n",
       "13.1    131\n",
       "13.9    131\n",
       "12.7    130\n",
       "12.4    127\n",
       "11.4     84\n",
       "14.9     79\n",
       "14.5     72\n",
       "15.2     71\n",
       "15.5     66\n",
       "15.1     65\n",
       "15.4     64\n",
       "15.3     64\n",
       "14.4     63\n",
       "14.6     61\n",
       "15.0     60\n",
       "14.7     59\n",
       "14.8     48\n",
       "Name: forehead_width_cm, dtype: int64"
      ]
     },
     "execution_count": 25,
     "metadata": {},
     "output_type": "execute_result"
    }
   ],
   "source": [
    "df['forehead_width_cm'].value_counts()"
   ]
  },
  {
   "cell_type": "code",
   "execution_count": 26,
   "metadata": {},
   "outputs": [
    {
     "data": {
      "image/png": "[encoded data removed]",
      "text/plain": [
       "<Figure size 432x288 with 1 Axes>"
      ]
     },
     "metadata": {},
     "output_type": "display_data"
    },
    {
     "data": {
      "image/png": "[encoded data removed]",
      "text/plain": [
       "<Figure size 432x288 with 1 Axes>"
      ]
     },
     "metadata": {},
     "output_type": "display_data"
    }
   ],
   "source": [
    "df_forehead = ['forehead_height_cm','forehead_width_cm']\n",
    "\n",
    "for col in df_forehead:\n",
    "    sns.histplot(data=df[[col,'gender']],x=col, hue='gender',element='poly')\n",
    "    plt.show()"
   ]
  },
  {
   "cell_type": "markdown",
   "metadata": {},
   "source": [
    "<h3>Based on chart above frequency of gender by 'FOREHEAD'.\n",
    "\n",
    "'forehead width dataset' - This is description about forehead widht in Cm.\n",
    "'forehead height' - This is description about forehead height in Cm.\n",
    "\n",
    "If the forehead height more than 6.5 cm and the width of it more than 15 cm then the gender is absolutely **MALE**, otherwise the gender will be a **FEMALE** more than male</h3>"
   ]
  },
  {
   "cell_type": "markdown",
   "metadata": {},
   "source": [
    "*Note: Keterangan pada dataset lebar dahi - Kolom ini ada di CM. Ini adalah lebar dahi.\n",
    "tinggi dahi - Ini adalah tinggi dahi dan dalam Cm.\n",
    "\n",
    "Jika kita lihat lebar dahi / 'forehead_width' ini dari 11cm sampai dengan 16 dan tinggi dahi / 'forehead_height' ini dari 5cm sampai dengan 7,5 cm. jika tinggi dahi lebih dari 6,5 cm dan lebarnya lebih dari 15 cm maka jenis kelamin mutlak laki-laki, sebaliknya jenis kelamin perempuan lebih banyak dari laki-laki"
   ]
  },
  {
   "cell_type": "code",
   "execution_count": 27,
   "metadata": {},
   "outputs": [
    {
     "data": {
      "image/png": "[encoded data removed]",
      "text/plain": [
       "<Figure size 1440x1080 with 9 Axes>"
      ]
     },
     "metadata": {},
     "output_type": "display_data"
    }
   ],
   "source": [
    "#histogram of all the features \n",
    "\n",
    "df.hist(bins=50, figsize=(20,15),color='pink',alpha=0.7)\n",
    "plt.show()"
   ]
  },
  {
   "cell_type": "markdown",
   "metadata": {},
   "source": [
    "<h3>Only'long_hair' column **skewed** distribution. while the other columns have a normal distribution.</h3>"
   ]
  },
  {
   "cell_type": "markdown",
   "metadata": {},
   "source": [
    "*Note: Dari semua kolom, hanya kolom 'long_hair' yang distribusi data nya **skewed**. sedangkan kolom lain distribusi nya normal."
   ]
  },
  {
   "cell_type": "markdown",
   "metadata": {},
   "source": [
    "### <strong>Data Preprocessing<strong>\n",
    "\n",
    "##### This section contains the process of preparing data for the model training process, such as dividing data transformation and other necessary processes.\n",
    "---"
   ]
  },
  {
   "cell_type": "markdown",
   "metadata": {},
   "source": [
    "##### Get Data Inference"
   ]
  },
  {
   "cell_type": "code",
   "execution_count": 28,
   "metadata": {},
   "outputs": [
    {
     "data": {
      "text/html": [
       "<div>\n",
       "<style scoped>\n",
       "    .dataframe tbody tr th:only-of-type {\n",
       "        vertical-align: middle;\n",
       "    }\n",
       "\n",
       "    .dataframe tbody tr th {\n",
       "        vertical-align: top;\n",
       "    }\n",
       "\n",
       "    .dataframe thead th {\n",
       "        text-align: right;\n",
       "    }\n",
       "</style>\n",
       "<table border=\"1\" class=\"dataframe\">\n",
       "  <thead>\n",
       "    <tr style=\"text-align: right;\">\n",
       "      <th></th>\n",
       "      <th>long_hair</th>\n",
       "      <th>forehead_width_cm</th>\n",
       "      <th>forehead_height_cm</th>\n",
       "      <th>nose_wide</th>\n",
       "      <th>nose_long</th>\n",
       "      <th>lips_thin</th>\n",
       "      <th>distance_nose_to_lip_long</th>\n",
       "      <th>gender</th>\n",
       "      <th>width_limit</th>\n",
       "      <th>height_limit</th>\n",
       "    </tr>\n",
       "  </thead>\n",
       "  <tbody>\n",
       "    <tr>\n",
       "      <th>613</th>\n",
       "      <td>1</td>\n",
       "      <td>13.4</td>\n",
       "      <td>5.7</td>\n",
       "      <td>0</td>\n",
       "      <td>0</td>\n",
       "      <td>0</td>\n",
       "      <td>0</td>\n",
       "      <td>Female</td>\n",
       "      <td>&lt;= 14</td>\n",
       "      <td>&lt;= 6</td>\n",
       "    </tr>\n",
       "    <tr>\n",
       "      <th>2794</th>\n",
       "      <td>1</td>\n",
       "      <td>14.2</td>\n",
       "      <td>5.7</td>\n",
       "      <td>0</td>\n",
       "      <td>1</td>\n",
       "      <td>0</td>\n",
       "      <td>1</td>\n",
       "      <td>Female</td>\n",
       "      <td>&lt;= 15</td>\n",
       "      <td>&lt;= 6</td>\n",
       "    </tr>\n",
       "    <tr>\n",
       "      <th>4920</th>\n",
       "      <td>1</td>\n",
       "      <td>13.2</td>\n",
       "      <td>7.1</td>\n",
       "      <td>0</td>\n",
       "      <td>1</td>\n",
       "      <td>1</td>\n",
       "      <td>0</td>\n",
       "      <td>Male</td>\n",
       "      <td>&lt;= 14</td>\n",
       "      <td>&lt;= 7.5</td>\n",
       "    </tr>\n",
       "    <tr>\n",
       "      <th>2811</th>\n",
       "      <td>1</td>\n",
       "      <td>12.5</td>\n",
       "      <td>5.6</td>\n",
       "      <td>0</td>\n",
       "      <td>0</td>\n",
       "      <td>0</td>\n",
       "      <td>0</td>\n",
       "      <td>Female</td>\n",
       "      <td>&lt;= 13</td>\n",
       "      <td>&lt;= 6</td>\n",
       "    </tr>\n",
       "    <tr>\n",
       "      <th>3408</th>\n",
       "      <td>1</td>\n",
       "      <td>14.5</td>\n",
       "      <td>6.6</td>\n",
       "      <td>1</td>\n",
       "      <td>1</td>\n",
       "      <td>0</td>\n",
       "      <td>1</td>\n",
       "      <td>Male</td>\n",
       "      <td>&lt;= 15</td>\n",
       "      <td>&lt;= 7</td>\n",
       "    </tr>\n",
       "    <tr>\n",
       "      <th>527</th>\n",
       "      <td>1</td>\n",
       "      <td>14.3</td>\n",
       "      <td>5.3</td>\n",
       "      <td>0</td>\n",
       "      <td>0</td>\n",
       "      <td>0</td>\n",
       "      <td>1</td>\n",
       "      <td>Female</td>\n",
       "      <td>&lt;= 15</td>\n",
       "      <td>&lt;= 5.5</td>\n",
       "    </tr>\n",
       "    <tr>\n",
       "      <th>4799</th>\n",
       "      <td>1</td>\n",
       "      <td>12.5</td>\n",
       "      <td>6.2</td>\n",
       "      <td>0</td>\n",
       "      <td>0</td>\n",
       "      <td>0</td>\n",
       "      <td>0</td>\n",
       "      <td>Female</td>\n",
       "      <td>&lt;= 13</td>\n",
       "      <td>&lt;= 6.5</td>\n",
       "    </tr>\n",
       "    <tr>\n",
       "      <th>417</th>\n",
       "      <td>1</td>\n",
       "      <td>13.9</td>\n",
       "      <td>6.2</td>\n",
       "      <td>0</td>\n",
       "      <td>0</td>\n",
       "      <td>1</td>\n",
       "      <td>1</td>\n",
       "      <td>Female</td>\n",
       "      <td>&lt;= 14</td>\n",
       "      <td>&lt;= 6.5</td>\n",
       "    </tr>\n",
       "    <tr>\n",
       "      <th>717</th>\n",
       "      <td>1</td>\n",
       "      <td>14.7</td>\n",
       "      <td>7.0</td>\n",
       "      <td>0</td>\n",
       "      <td>0</td>\n",
       "      <td>1</td>\n",
       "      <td>1</td>\n",
       "      <td>Male</td>\n",
       "      <td>&lt;= 15</td>\n",
       "      <td>&lt;= 7</td>\n",
       "    </tr>\n",
       "    <tr>\n",
       "      <th>3756</th>\n",
       "      <td>1</td>\n",
       "      <td>13.7</td>\n",
       "      <td>6.9</td>\n",
       "      <td>1</td>\n",
       "      <td>1</td>\n",
       "      <td>1</td>\n",
       "      <td>1</td>\n",
       "      <td>Male</td>\n",
       "      <td>&lt;= 14</td>\n",
       "      <td>&lt;= 7</td>\n",
       "    </tr>\n",
       "  </tbody>\n",
       "</table>\n",
       "</div>"
      ],
      "text/plain": [
       "      long_hair  forehead_width_cm  forehead_height_cm  nose_wide  nose_long  \\\n",
       "613           1               13.4                 5.7          0          0   \n",
       "2794          1               14.2                 5.7          0          1   \n",
       "4920          1               13.2                 7.1          0          1   \n",
       "2811          1               12.5                 5.6          0          0   \n",
       "3408          1               14.5                 6.6          1          1   \n",
       "527           1               14.3                 5.3          0          0   \n",
       "4799          1               12.5                 6.2          0          0   \n",
       "417           1               13.9                 6.2          0          0   \n",
       "717           1               14.7                 7.0          0          0   \n",
       "3756          1               13.7                 6.9          1          1   \n",
       "\n",
       "      lips_thin  distance_nose_to_lip_long  gender width_limit height_limit  \n",
       "613           0                          0  Female       <= 14         <= 6  \n",
       "2794          0                          1  Female       <= 15         <= 6  \n",
       "4920          1                          0    Male       <= 14       <= 7.5  \n",
       "2811          0                          0  Female       <= 13         <= 6  \n",
       "3408          0                          1    Male       <= 15         <= 7  \n",
       "527           0                          1  Female       <= 15       <= 5.5  \n",
       "4799          0                          0  Female       <= 13       <= 6.5  \n",
       "417           1                          1  Female       <= 14       <= 6.5  \n",
       "717           1                          1    Male       <= 15         <= 7  \n",
       "3756          1                          1    Male       <= 14         <= 7  "
      ]
     },
     "execution_count": 28,
     "metadata": {},
     "output_type": "execute_result"
    }
   ],
   "source": [
    "# Get Data for Model Inference\n",
    "\n",
    "df_inf = df.sample(10, random_state=25)\n",
    "df_inf"
   ]
  },
  {
   "cell_type": "code",
   "execution_count": 29,
   "metadata": {},
   "outputs": [
    {
     "data": {
      "text/html": [
       "<div>\n",
       "<style scoped>\n",
       "    .dataframe tbody tr th:only-of-type {\n",
       "        vertical-align: middle;\n",
       "    }\n",
       "\n",
       "    .dataframe tbody tr th {\n",
       "        vertical-align: top;\n",
       "    }\n",
       "\n",
       "    .dataframe thead th {\n",
       "        text-align: right;\n",
       "    }\n",
       "</style>\n",
       "<table border=\"1\" class=\"dataframe\">\n",
       "  <thead>\n",
       "    <tr style=\"text-align: right;\">\n",
       "      <th></th>\n",
       "      <th>long_hair</th>\n",
       "      <th>forehead_width_cm</th>\n",
       "      <th>forehead_height_cm</th>\n",
       "      <th>nose_wide</th>\n",
       "      <th>nose_long</th>\n",
       "      <th>lips_thin</th>\n",
       "      <th>distance_nose_to_lip_long</th>\n",
       "      <th>gender</th>\n",
       "      <th>width_limit</th>\n",
       "      <th>height_limit</th>\n",
       "    </tr>\n",
       "  </thead>\n",
       "  <tbody>\n",
       "    <tr>\n",
       "      <th>0</th>\n",
       "      <td>1</td>\n",
       "      <td>11.8</td>\n",
       "      <td>6.1</td>\n",
       "      <td>1</td>\n",
       "      <td>0</td>\n",
       "      <td>1</td>\n",
       "      <td>1</td>\n",
       "      <td>Male</td>\n",
       "      <td>&lt;= 12</td>\n",
       "      <td>&lt;= 6.5</td>\n",
       "    </tr>\n",
       "    <tr>\n",
       "      <th>1</th>\n",
       "      <td>0</td>\n",
       "      <td>14.0</td>\n",
       "      <td>5.4</td>\n",
       "      <td>0</td>\n",
       "      <td>0</td>\n",
       "      <td>1</td>\n",
       "      <td>0</td>\n",
       "      <td>Female</td>\n",
       "      <td>&lt;= 14</td>\n",
       "      <td>&lt;= 5.5</td>\n",
       "    </tr>\n",
       "    <tr>\n",
       "      <th>2</th>\n",
       "      <td>0</td>\n",
       "      <td>11.8</td>\n",
       "      <td>6.3</td>\n",
       "      <td>1</td>\n",
       "      <td>1</td>\n",
       "      <td>1</td>\n",
       "      <td>1</td>\n",
       "      <td>Male</td>\n",
       "      <td>&lt;= 12</td>\n",
       "      <td>&lt;= 6.5</td>\n",
       "    </tr>\n",
       "    <tr>\n",
       "      <th>3</th>\n",
       "      <td>0</td>\n",
       "      <td>14.4</td>\n",
       "      <td>6.1</td>\n",
       "      <td>0</td>\n",
       "      <td>1</td>\n",
       "      <td>1</td>\n",
       "      <td>1</td>\n",
       "      <td>Male</td>\n",
       "      <td>&lt;= 15</td>\n",
       "      <td>&lt;= 6.5</td>\n",
       "    </tr>\n",
       "    <tr>\n",
       "      <th>4</th>\n",
       "      <td>1</td>\n",
       "      <td>13.5</td>\n",
       "      <td>5.9</td>\n",
       "      <td>0</td>\n",
       "      <td>0</td>\n",
       "      <td>0</td>\n",
       "      <td>0</td>\n",
       "      <td>Female</td>\n",
       "      <td>&lt;= 14</td>\n",
       "      <td>&lt;= 6</td>\n",
       "    </tr>\n",
       "    <tr>\n",
       "      <th>...</th>\n",
       "      <td>...</td>\n",
       "      <td>...</td>\n",
       "      <td>...</td>\n",
       "      <td>...</td>\n",
       "      <td>...</td>\n",
       "      <td>...</td>\n",
       "      <td>...</td>\n",
       "      <td>...</td>\n",
       "      <td>...</td>\n",
       "      <td>...</td>\n",
       "    </tr>\n",
       "    <tr>\n",
       "      <th>4996</th>\n",
       "      <td>1</td>\n",
       "      <td>13.6</td>\n",
       "      <td>5.1</td>\n",
       "      <td>0</td>\n",
       "      <td>0</td>\n",
       "      <td>0</td>\n",
       "      <td>0</td>\n",
       "      <td>Female</td>\n",
       "      <td>&lt;= 14</td>\n",
       "      <td>&lt;= 5.5</td>\n",
       "    </tr>\n",
       "    <tr>\n",
       "      <th>4997</th>\n",
       "      <td>1</td>\n",
       "      <td>11.9</td>\n",
       "      <td>5.4</td>\n",
       "      <td>0</td>\n",
       "      <td>0</td>\n",
       "      <td>0</td>\n",
       "      <td>0</td>\n",
       "      <td>Female</td>\n",
       "      <td>&lt;= 12</td>\n",
       "      <td>&lt;= 5.5</td>\n",
       "    </tr>\n",
       "    <tr>\n",
       "      <th>4998</th>\n",
       "      <td>1</td>\n",
       "      <td>12.9</td>\n",
       "      <td>5.7</td>\n",
       "      <td>0</td>\n",
       "      <td>0</td>\n",
       "      <td>0</td>\n",
       "      <td>0</td>\n",
       "      <td>Female</td>\n",
       "      <td>&lt;= 13</td>\n",
       "      <td>&lt;= 6</td>\n",
       "    </tr>\n",
       "    <tr>\n",
       "      <th>4999</th>\n",
       "      <td>1</td>\n",
       "      <td>13.2</td>\n",
       "      <td>6.2</td>\n",
       "      <td>0</td>\n",
       "      <td>0</td>\n",
       "      <td>0</td>\n",
       "      <td>0</td>\n",
       "      <td>Female</td>\n",
       "      <td>&lt;= 14</td>\n",
       "      <td>&lt;= 6.5</td>\n",
       "    </tr>\n",
       "    <tr>\n",
       "      <th>5000</th>\n",
       "      <td>1</td>\n",
       "      <td>15.4</td>\n",
       "      <td>5.4</td>\n",
       "      <td>1</td>\n",
       "      <td>1</td>\n",
       "      <td>1</td>\n",
       "      <td>1</td>\n",
       "      <td>Male</td>\n",
       "      <td>&lt;= 16</td>\n",
       "      <td>&lt;= 5.5</td>\n",
       "    </tr>\n",
       "  </tbody>\n",
       "</table>\n",
       "<p>4991 rows × 10 columns</p>\n",
       "</div>"
      ],
      "text/plain": [
       "      long_hair  forehead_width_cm  forehead_height_cm  nose_wide  nose_long  \\\n",
       "0             1               11.8                 6.1          1          0   \n",
       "1             0               14.0                 5.4          0          0   \n",
       "2             0               11.8                 6.3          1          1   \n",
       "3             0               14.4                 6.1          0          1   \n",
       "4             1               13.5                 5.9          0          0   \n",
       "...         ...                ...                 ...        ...        ...   \n",
       "4996          1               13.6                 5.1          0          0   \n",
       "4997          1               11.9                 5.4          0          0   \n",
       "4998          1               12.9                 5.7          0          0   \n",
       "4999          1               13.2                 6.2          0          0   \n",
       "5000          1               15.4                 5.4          1          1   \n",
       "\n",
       "      lips_thin  distance_nose_to_lip_long  gender width_limit height_limit  \n",
       "0             1                          1    Male       <= 12       <= 6.5  \n",
       "1             1                          0  Female       <= 14       <= 5.5  \n",
       "2             1                          1    Male       <= 12       <= 6.5  \n",
       "3             1                          1    Male       <= 15       <= 6.5  \n",
       "4             0                          0  Female       <= 14         <= 6  \n",
       "...         ...                        ...     ...         ...          ...  \n",
       "4996          0                          0  Female       <= 14       <= 5.5  \n",
       "4997          0                          0  Female       <= 12       <= 5.5  \n",
       "4998          0                          0  Female       <= 13         <= 6  \n",
       "4999          0                          0  Female       <= 14       <= 6.5  \n",
       "5000          1                          1    Male       <= 16       <= 5.5  \n",
       "\n",
       "[4991 rows x 10 columns]"
      ]
     },
     "execution_count": 29,
     "metadata": {},
     "output_type": "execute_result"
    }
   ],
   "source": [
    "# process of separating inference data with train test data\n",
    "\n",
    "data_train_test = df.drop(df_inf.index)\n",
    "data_train_test"
   ]
  },
  {
   "cell_type": "code",
   "execution_count": 30,
   "metadata": {},
   "outputs": [],
   "source": [
    "# Reset the index\n",
    "\n",
    "data_train_test.reset_index(drop=True,inplace=True)\n",
    "df_inf.reset_index(drop=True,inplace=True)"
   ]
  },
  {
   "cell_type": "markdown",
   "metadata": {},
   "source": [
    "##### Spliting Data"
   ]
  },
  {
   "cell_type": "code",
   "execution_count": 31,
   "metadata": {},
   "outputs": [
    {
     "data": {
      "text/html": [
       "<div>\n",
       "<style scoped>\n",
       "    .dataframe tbody tr th:only-of-type {\n",
       "        vertical-align: middle;\n",
       "    }\n",
       "\n",
       "    .dataframe tbody tr th {\n",
       "        vertical-align: top;\n",
       "    }\n",
       "\n",
       "    .dataframe thead th {\n",
       "        text-align: right;\n",
       "    }\n",
       "</style>\n",
       "<table border=\"1\" class=\"dataframe\">\n",
       "  <thead>\n",
       "    <tr style=\"text-align: right;\">\n",
       "      <th></th>\n",
       "      <th>long_hair</th>\n",
       "      <th>forehead_width_cm</th>\n",
       "      <th>forehead_height_cm</th>\n",
       "      <th>nose_wide</th>\n",
       "      <th>nose_long</th>\n",
       "      <th>lips_thin</th>\n",
       "      <th>distance_nose_to_lip_long</th>\n",
       "      <th>width_limit</th>\n",
       "      <th>height_limit</th>\n",
       "    </tr>\n",
       "  </thead>\n",
       "  <tbody>\n",
       "    <tr>\n",
       "      <th>0</th>\n",
       "      <td>1</td>\n",
       "      <td>11.8</td>\n",
       "      <td>6.1</td>\n",
       "      <td>1</td>\n",
       "      <td>0</td>\n",
       "      <td>1</td>\n",
       "      <td>1</td>\n",
       "      <td>&lt;= 12</td>\n",
       "      <td>&lt;= 6.5</td>\n",
       "    </tr>\n",
       "    <tr>\n",
       "      <th>1</th>\n",
       "      <td>0</td>\n",
       "      <td>14.0</td>\n",
       "      <td>5.4</td>\n",
       "      <td>0</td>\n",
       "      <td>0</td>\n",
       "      <td>1</td>\n",
       "      <td>0</td>\n",
       "      <td>&lt;= 14</td>\n",
       "      <td>&lt;= 5.5</td>\n",
       "    </tr>\n",
       "    <tr>\n",
       "      <th>2</th>\n",
       "      <td>0</td>\n",
       "      <td>11.8</td>\n",
       "      <td>6.3</td>\n",
       "      <td>1</td>\n",
       "      <td>1</td>\n",
       "      <td>1</td>\n",
       "      <td>1</td>\n",
       "      <td>&lt;= 12</td>\n",
       "      <td>&lt;= 6.5</td>\n",
       "    </tr>\n",
       "    <tr>\n",
       "      <th>3</th>\n",
       "      <td>0</td>\n",
       "      <td>14.4</td>\n",
       "      <td>6.1</td>\n",
       "      <td>0</td>\n",
       "      <td>1</td>\n",
       "      <td>1</td>\n",
       "      <td>1</td>\n",
       "      <td>&lt;= 15</td>\n",
       "      <td>&lt;= 6.5</td>\n",
       "    </tr>\n",
       "    <tr>\n",
       "      <th>4</th>\n",
       "      <td>1</td>\n",
       "      <td>13.5</td>\n",
       "      <td>5.9</td>\n",
       "      <td>0</td>\n",
       "      <td>0</td>\n",
       "      <td>0</td>\n",
       "      <td>0</td>\n",
       "      <td>&lt;= 14</td>\n",
       "      <td>&lt;= 6</td>\n",
       "    </tr>\n",
       "    <tr>\n",
       "      <th>...</th>\n",
       "      <td>...</td>\n",
       "      <td>...</td>\n",
       "      <td>...</td>\n",
       "      <td>...</td>\n",
       "      <td>...</td>\n",
       "      <td>...</td>\n",
       "      <td>...</td>\n",
       "      <td>...</td>\n",
       "      <td>...</td>\n",
       "    </tr>\n",
       "    <tr>\n",
       "      <th>4986</th>\n",
       "      <td>1</td>\n",
       "      <td>13.6</td>\n",
       "      <td>5.1</td>\n",
       "      <td>0</td>\n",
       "      <td>0</td>\n",
       "      <td>0</td>\n",
       "      <td>0</td>\n",
       "      <td>&lt;= 14</td>\n",
       "      <td>&lt;= 5.5</td>\n",
       "    </tr>\n",
       "    <tr>\n",
       "      <th>4987</th>\n",
       "      <td>1</td>\n",
       "      <td>11.9</td>\n",
       "      <td>5.4</td>\n",
       "      <td>0</td>\n",
       "      <td>0</td>\n",
       "      <td>0</td>\n",
       "      <td>0</td>\n",
       "      <td>&lt;= 12</td>\n",
       "      <td>&lt;= 5.5</td>\n",
       "    </tr>\n",
       "    <tr>\n",
       "      <th>4988</th>\n",
       "      <td>1</td>\n",
       "      <td>12.9</td>\n",
       "      <td>5.7</td>\n",
       "      <td>0</td>\n",
       "      <td>0</td>\n",
       "      <td>0</td>\n",
       "      <td>0</td>\n",
       "      <td>&lt;= 13</td>\n",
       "      <td>&lt;= 6</td>\n",
       "    </tr>\n",
       "    <tr>\n",
       "      <th>4989</th>\n",
       "      <td>1</td>\n",
       "      <td>13.2</td>\n",
       "      <td>6.2</td>\n",
       "      <td>0</td>\n",
       "      <td>0</td>\n",
       "      <td>0</td>\n",
       "      <td>0</td>\n",
       "      <td>&lt;= 14</td>\n",
       "      <td>&lt;= 6.5</td>\n",
       "    </tr>\n",
       "    <tr>\n",
       "      <th>4990</th>\n",
       "      <td>1</td>\n",
       "      <td>15.4</td>\n",
       "      <td>5.4</td>\n",
       "      <td>1</td>\n",
       "      <td>1</td>\n",
       "      <td>1</td>\n",
       "      <td>1</td>\n",
       "      <td>&lt;= 16</td>\n",
       "      <td>&lt;= 5.5</td>\n",
       "    </tr>\n",
       "  </tbody>\n",
       "</table>\n",
       "<p>4991 rows × 9 columns</p>\n",
       "</div>"
      ],
      "text/plain": [
       "      long_hair  forehead_width_cm  forehead_height_cm  nose_wide  nose_long  \\\n",
       "0             1               11.8                 6.1          1          0   \n",
       "1             0               14.0                 5.4          0          0   \n",
       "2             0               11.8                 6.3          1          1   \n",
       "3             0               14.4                 6.1          0          1   \n",
       "4             1               13.5                 5.9          0          0   \n",
       "...         ...                ...                 ...        ...        ...   \n",
       "4986          1               13.6                 5.1          0          0   \n",
       "4987          1               11.9                 5.4          0          0   \n",
       "4988          1               12.9                 5.7          0          0   \n",
       "4989          1               13.2                 6.2          0          0   \n",
       "4990          1               15.4                 5.4          1          1   \n",
       "\n",
       "      lips_thin  distance_nose_to_lip_long width_limit height_limit  \n",
       "0             1                          1       <= 12       <= 6.5  \n",
       "1             1                          0       <= 14       <= 5.5  \n",
       "2             1                          1       <= 12       <= 6.5  \n",
       "3             1                          1       <= 15       <= 6.5  \n",
       "4             0                          0       <= 14         <= 6  \n",
       "...         ...                        ...         ...          ...  \n",
       "4986          0                          0       <= 14       <= 5.5  \n",
       "4987          0                          0       <= 12       <= 5.5  \n",
       "4988          0                          0       <= 13         <= 6  \n",
       "4989          0                          0       <= 14       <= 6.5  \n",
       "4990          1                          1       <= 16       <= 5.5  \n",
       "\n",
       "[4991 rows x 9 columns]"
      ]
     },
     "execution_count": 31,
     "metadata": {},
     "output_type": "execute_result"
    }
   ],
   "source": [
    "# Hyper parameter used is 'gender'\n",
    "\n",
    "X = data_train_test.drop(['gender'], axis=1)\n",
    "y = data_train_test['gender']\n",
    "X"
   ]
  },
  {
   "cell_type": "code",
   "execution_count": 32,
   "metadata": {},
   "outputs": [
    {
     "name": "stdout",
     "output_type": "stream",
     "text": [
      "X train: (3992, 9)\n",
      "X test: (999, 9)\n",
      "y train: (3992,)\n",
      "y test: (999,)\n"
     ]
    }
   ],
   "source": [
    "from sklearn.model_selection import train_test_split\n",
    "\n",
    "X_train, X_test, y_train, y_test = train_test_split(X, y , test_size= 0.20, random_state = 25)\n",
    "\n",
    "print('X train:', X_train.shape)\n",
    "print('X test:', X_test.shape)\n",
    "print('y train:', y_train.shape)\n",
    "print('y test:', y_test.shape)"
   ]
  },
  {
   "cell_type": "code",
   "execution_count": 33,
   "metadata": {},
   "outputs": [],
   "source": [
    "num_columns = X_train.select_dtypes(include = np.number).columns.tolist()\n",
    "cat_columns = X_train.select_dtypes(include = ['object']).columns.tolist()\n"
   ]
  },
  {
   "cell_type": "code",
   "execution_count": 34,
   "metadata": {},
   "outputs": [],
   "source": [
    "X_train_num =X_train[num_columns].copy()\n",
    "y_train_num =y_train.copy()\n"
   ]
  },
  {
   "cell_type": "code",
   "execution_count": 35,
   "metadata": {},
   "outputs": [],
   "source": [
    "X_train_num.reset_index(drop=True,inplace=True)\n",
    "y_train_num.reset_index(drop=True,inplace=True)"
   ]
  },
  {
   "cell_type": "code",
   "execution_count": 36,
   "metadata": {},
   "outputs": [
    {
     "data": {
      "text/html": [
       "<div>\n",
       "<style scoped>\n",
       "    .dataframe tbody tr th:only-of-type {\n",
       "        vertical-align: middle;\n",
       "    }\n",
       "\n",
       "    .dataframe tbody tr th {\n",
       "        vertical-align: top;\n",
       "    }\n",
       "\n",
       "    .dataframe thead th {\n",
       "        text-align: right;\n",
       "    }\n",
       "</style>\n",
       "<table border=\"1\" class=\"dataframe\">\n",
       "  <thead>\n",
       "    <tr style=\"text-align: right;\">\n",
       "      <th></th>\n",
       "      <th>long_hair</th>\n",
       "      <th>forehead_width_cm</th>\n",
       "      <th>forehead_height_cm</th>\n",
       "      <th>nose_wide</th>\n",
       "      <th>nose_long</th>\n",
       "      <th>lips_thin</th>\n",
       "      <th>distance_nose_to_lip_long</th>\n",
       "      <th>gender</th>\n",
       "    </tr>\n",
       "  </thead>\n",
       "  <tbody>\n",
       "    <tr>\n",
       "      <th>0</th>\n",
       "      <td>1</td>\n",
       "      <td>14.6</td>\n",
       "      <td>5.1</td>\n",
       "      <td>1</td>\n",
       "      <td>1</td>\n",
       "      <td>1</td>\n",
       "      <td>1</td>\n",
       "      <td>Male</td>\n",
       "    </tr>\n",
       "    <tr>\n",
       "      <th>1</th>\n",
       "      <td>1</td>\n",
       "      <td>12.1</td>\n",
       "      <td>5.4</td>\n",
       "      <td>0</td>\n",
       "      <td>0</td>\n",
       "      <td>0</td>\n",
       "      <td>0</td>\n",
       "      <td>Female</td>\n",
       "    </tr>\n",
       "    <tr>\n",
       "      <th>2</th>\n",
       "      <td>1</td>\n",
       "      <td>13.4</td>\n",
       "      <td>5.4</td>\n",
       "      <td>1</td>\n",
       "      <td>0</td>\n",
       "      <td>0</td>\n",
       "      <td>0</td>\n",
       "      <td>Female</td>\n",
       "    </tr>\n",
       "    <tr>\n",
       "      <th>3</th>\n",
       "      <td>1</td>\n",
       "      <td>13.8</td>\n",
       "      <td>6.8</td>\n",
       "      <td>1</td>\n",
       "      <td>1</td>\n",
       "      <td>1</td>\n",
       "      <td>1</td>\n",
       "      <td>Male</td>\n",
       "    </tr>\n",
       "    <tr>\n",
       "      <th>4</th>\n",
       "      <td>1</td>\n",
       "      <td>14.6</td>\n",
       "      <td>6.0</td>\n",
       "      <td>1</td>\n",
       "      <td>1</td>\n",
       "      <td>1</td>\n",
       "      <td>0</td>\n",
       "      <td>Male</td>\n",
       "    </tr>\n",
       "    <tr>\n",
       "      <th>...</th>\n",
       "      <td>...</td>\n",
       "      <td>...</td>\n",
       "      <td>...</td>\n",
       "      <td>...</td>\n",
       "      <td>...</td>\n",
       "      <td>...</td>\n",
       "      <td>...</td>\n",
       "      <td>...</td>\n",
       "    </tr>\n",
       "    <tr>\n",
       "      <th>3987</th>\n",
       "      <td>1</td>\n",
       "      <td>12.8</td>\n",
       "      <td>5.1</td>\n",
       "      <td>0</td>\n",
       "      <td>0</td>\n",
       "      <td>0</td>\n",
       "      <td>0</td>\n",
       "      <td>Female</td>\n",
       "    </tr>\n",
       "    <tr>\n",
       "      <th>3988</th>\n",
       "      <td>1</td>\n",
       "      <td>13.5</td>\n",
       "      <td>5.4</td>\n",
       "      <td>1</td>\n",
       "      <td>1</td>\n",
       "      <td>1</td>\n",
       "      <td>1</td>\n",
       "      <td>Male</td>\n",
       "    </tr>\n",
       "    <tr>\n",
       "      <th>3989</th>\n",
       "      <td>0</td>\n",
       "      <td>13.7</td>\n",
       "      <td>6.0</td>\n",
       "      <td>0</td>\n",
       "      <td>0</td>\n",
       "      <td>1</td>\n",
       "      <td>0</td>\n",
       "      <td>Female</td>\n",
       "    </tr>\n",
       "    <tr>\n",
       "      <th>3990</th>\n",
       "      <td>1</td>\n",
       "      <td>12.3</td>\n",
       "      <td>6.0</td>\n",
       "      <td>0</td>\n",
       "      <td>1</td>\n",
       "      <td>0</td>\n",
       "      <td>0</td>\n",
       "      <td>Female</td>\n",
       "    </tr>\n",
       "    <tr>\n",
       "      <th>3991</th>\n",
       "      <td>1</td>\n",
       "      <td>12.2</td>\n",
       "      <td>6.0</td>\n",
       "      <td>0</td>\n",
       "      <td>0</td>\n",
       "      <td>0</td>\n",
       "      <td>0</td>\n",
       "      <td>Female</td>\n",
       "    </tr>\n",
       "  </tbody>\n",
       "</table>\n",
       "<p>3992 rows × 8 columns</p>\n",
       "</div>"
      ],
      "text/plain": [
       "      long_hair  forehead_width_cm  forehead_height_cm  nose_wide  nose_long  \\\n",
       "0             1               14.6                 5.1          1          1   \n",
       "1             1               12.1                 5.4          0          0   \n",
       "2             1               13.4                 5.4          1          0   \n",
       "3             1               13.8                 6.8          1          1   \n",
       "4             1               14.6                 6.0          1          1   \n",
       "...         ...                ...                 ...        ...        ...   \n",
       "3987          1               12.8                 5.1          0          0   \n",
       "3988          1               13.5                 5.4          1          1   \n",
       "3989          0               13.7                 6.0          0          0   \n",
       "3990          1               12.3                 6.0          0          1   \n",
       "3991          1               12.2                 6.0          0          0   \n",
       "\n",
       "      lips_thin  distance_nose_to_lip_long  gender  \n",
       "0             1                          1    Male  \n",
       "1             0                          0  Female  \n",
       "2             0                          0  Female  \n",
       "3             1                          1    Male  \n",
       "4             1                          0    Male  \n",
       "...         ...                        ...     ...  \n",
       "3987          0                          0  Female  \n",
       "3988          1                          1    Male  \n",
       "3989          1                          0  Female  \n",
       "3990          0                          0  Female  \n",
       "3991          0                          0  Female  \n",
       "\n",
       "[3992 rows x 8 columns]"
      ]
     },
     "execution_count": 36,
     "metadata": {},
     "output_type": "execute_result"
    }
   ],
   "source": [
    "train_set = pd.concat([X_train_num,y_train_num],axis=1)\n",
    "\n",
    "train_set"
   ]
  },
  {
   "cell_type": "markdown",
   "metadata": {},
   "source": [
    "##### Checking and Handling Outliers"
   ]
  },
  {
   "cell_type": "code",
   "execution_count": 37,
   "metadata": {},
   "outputs": [],
   "source": [
    "preprocess_columns = pd.DataFrame({'columns' : X_train.describe().columns, 'skew' : X_train.skew(axis=0)})\n",
    "preprocess_columns.reset_index(drop=True, inplace=True)\n",
    "\n",
    "preprocess_columns['status'] = np.where(preprocess_columns['skew'].abs()>0.5, 'Skewed', 'Normal')"
   ]
  },
  {
   "cell_type": "code",
   "execution_count": 38,
   "metadata": {},
   "outputs": [
    {
     "data": {
      "text/html": [
       "<div>\n",
       "<style scoped>\n",
       "    .dataframe tbody tr th:only-of-type {\n",
       "        vertical-align: middle;\n",
       "    }\n",
       "\n",
       "    .dataframe tbody tr th {\n",
       "        vertical-align: top;\n",
       "    }\n",
       "\n",
       "    .dataframe thead th {\n",
       "        text-align: right;\n",
       "    }\n",
       "</style>\n",
       "<table border=\"1\" class=\"dataframe\">\n",
       "  <thead>\n",
       "    <tr style=\"text-align: right;\">\n",
       "      <th></th>\n",
       "      <th>columns</th>\n",
       "      <th>skew</th>\n",
       "      <th>status</th>\n",
       "    </tr>\n",
       "  </thead>\n",
       "  <tbody>\n",
       "    <tr>\n",
       "      <th>0</th>\n",
       "      <td>long_hair</td>\n",
       "      <td>-2.211007</td>\n",
       "      <td>Skewed</td>\n",
       "    </tr>\n",
       "    <tr>\n",
       "      <th>1</th>\n",
       "      <td>forehead_width_cm</td>\n",
       "      <td>0.244338</td>\n",
       "      <td>Normal</td>\n",
       "    </tr>\n",
       "    <tr>\n",
       "      <th>2</th>\n",
       "      <td>forehead_height_cm</td>\n",
       "      <td>0.222949</td>\n",
       "      <td>Normal</td>\n",
       "    </tr>\n",
       "    <tr>\n",
       "      <th>3</th>\n",
       "      <td>nose_wide</td>\n",
       "      <td>0.025061</td>\n",
       "      <td>Normal</td>\n",
       "    </tr>\n",
       "    <tr>\n",
       "      <th>4</th>\n",
       "      <td>nose_long</td>\n",
       "      <td>-0.034086</td>\n",
       "      <td>Normal</td>\n",
       "    </tr>\n",
       "    <tr>\n",
       "      <th>5</th>\n",
       "      <td>lips_thin</td>\n",
       "      <td>0.030075</td>\n",
       "      <td>Normal</td>\n",
       "    </tr>\n",
       "    <tr>\n",
       "      <th>6</th>\n",
       "      <td>distance_nose_to_lip_long</td>\n",
       "      <td>-0.013031</td>\n",
       "      <td>Normal</td>\n",
       "    </tr>\n",
       "  </tbody>\n",
       "</table>\n",
       "</div>"
      ],
      "text/plain": [
       "                     columns      skew  status\n",
       "0                  long_hair -2.211007  Skewed\n",
       "1          forehead_width_cm  0.244338  Normal\n",
       "2         forehead_height_cm  0.222949  Normal\n",
       "3                  nose_wide  0.025061  Normal\n",
       "4                  nose_long -0.034086  Normal\n",
       "5                  lips_thin  0.030075  Normal\n",
       "6  distance_nose_to_lip_long -0.013031  Normal"
      ]
     },
     "execution_count": 38,
     "metadata": {},
     "output_type": "execute_result"
    }
   ],
   "source": [
    "preprocess_columns"
   ]
  },
  {
   "cell_type": "markdown",
   "metadata": {},
   "source": [
    "- *Note: Kolom 'long_hair' saja yang terdistribusi tidak normal / 'skewed', sedangkan kolom yang lain terdistribusi normal. maka saya akan melakukan pendeteksian outlier pada kolom diatas untuk memastikan jumlah outliers pada masing masing kolom."
   ]
  },
  {
   "cell_type": "code",
   "execution_count": 39,
   "metadata": {},
   "outputs": [],
   "source": [
    "def find_normal_boundaries(db, variable):\n",
    "    upper_boundary = db[variable].mean() + 3 * db[variable].std()\n",
    "    lower_boundary = db[variable].mean() - 3 * db[variable].std()\n",
    "\n",
    "    return upper_boundary, lower_boundary\n",
    "\n",
    "def find_skewed_boundaries(db, variable, distance):\n",
    "    IQR = db[variable].quantile(0.75) - db[variable].quantile(0.25)\n",
    "\n",
    "    lower = db[variable].quantile(0.25) - distance * IQR\n",
    "    upper = db[variable].quantile(0.75) + distance * IQR\n",
    "\n",
    "    return upper, lower"
   ]
  },
  {
   "cell_type": "code",
   "execution_count": 40,
   "metadata": {},
   "outputs": [],
   "source": [
    "# Function to create histogram and boxplot for each features\n",
    "\n",
    "def diagnostic_plots(df, df_trim, variable):\n",
    "    #Define figure size\n",
    "    plt.figure(figsize=(16,4))\n",
    "\n",
    "    #Histogram\n",
    "    plt.subplot(1, 3, 1)\n",
    "    sns.histplot(df_trim[variable], bins=30, kde=True, color='#006699')\n",
    "    plt.title(f'Histogram of {variable}')\n",
    "\n",
    "    #Boxplot Before\n",
    "    plt.subplot(1,3, 2)\n",
    "    sns.boxplot(y=df[variable])\n",
    "    plt.title(f'Before Handling in {variable}')\n",
    "\n",
    "    #Boxplot After\n",
    "    plt.subplot(1,3, 3)\n",
    "    sns.boxplot(y=df_trim[variable])\n",
    "    plt.title(f'After Handling in {variable}')\n",
    "\n",
    "    plt.show()"
   ]
  },
  {
   "cell_type": "code",
   "execution_count": 41,
   "metadata": {},
   "outputs": [
    {
     "name": "stdout",
     "output_type": "stream",
     "text": [
      "Batas lower dan upper untuk long_hair:(1.0, 1.0)\n",
      "==============================\n",
      "Batas lower dan upper untuk forehead_width_cm:(9.499999999999998, 16.700000000000003)\n",
      "==============================\n",
      "Batas lower dan upper untuk forehead_height_cm:(4.1499999999999995, 7.750000000000001)\n",
      "==============================\n",
      "Batas lower dan upper untuk nose_wide:(-1.5, 2.5)\n",
      "==============================\n",
      "Batas lower dan upper untuk nose_long:(-1.5, 2.5)\n",
      "==============================\n",
      "Batas lower dan upper untuk lips_thin:(-1.5, 2.5)\n",
      "==============================\n",
      "Batas lower dan upper untuk distance_nose_to_lip_long:(-1.5, 2.5)\n",
      "==============================\n"
     ]
    }
   ],
   "source": [
    "j = 0\n",
    "outlier_limit={}\n",
    "for i in X_train.describe().columns:\n",
    "    if preprocess_columns['skew'].loc[(preprocess_columns['columns']==i)].values[0]== 'Normal':\n",
    "        upper_boundary, lower_boundary = find_normal_boundaries(X_train, i)\n",
    "        print(f\"Batas lower dan upper untuk {i}:{lower_boundary, upper_boundary}\")\n",
    "        outlier_limit[f\"outliers{j}\"] = np.where(X_train[i] > upper_boundary, True, np.where(X_train[i] < lower_boundary, True, False))\n",
    "    else:\n",
    "        upper_boundary, lower_boundary = find_skewed_boundaries(X_train, i, 1.5)\n",
    "        print(f\"Batas lower dan upper untuk {i}:{lower_boundary, upper_boundary}\")\n",
    "        outlier_limit[f\"outliers{j}\"] = np.where(X_train[i] > upper_boundary, True, np.where(X_train[i] < lower_boundary, True, False))\n",
    "    print(\"=\"*30)\n",
    "    j+=1"
   ]
  },
  {
   "cell_type": "code",
   "execution_count": 42,
   "metadata": {},
   "outputs": [],
   "source": [
    "for i, (k, v) in enumerate(outlier_limit.items()):\n",
    "    X_train_trimmed_sim = X_train.loc[~outlier_limit[k]]\n",
    "    preprocess_columns.loc[i,'trimmed_row'] = X_train.shape[0] - X_train_trimmed_sim.shape[0]\n",
    "    preprocess_columns.loc[i,'percentage'] = np.round(100-(X_train_trimmed_sim.shape[0]/X_train.shape[0]*100), 2)\n",
    "    preprocess_columns.loc[i,'action'] = np.where(preprocess_columns.loc[i,'percentage']>15, 'Keep', \n",
    "                                        np.where(preprocess_columns.loc[i,'percentage']>5, 'Capping', np.where(preprocess_columns.loc[i,'percentage']>0, 'Trim', 'None')))"
   ]
  },
  {
   "cell_type": "code",
   "execution_count": 43,
   "metadata": {},
   "outputs": [
    {
     "data": {
      "text/html": [
       "<div>\n",
       "<style scoped>\n",
       "    .dataframe tbody tr th:only-of-type {\n",
       "        vertical-align: middle;\n",
       "    }\n",
       "\n",
       "    .dataframe tbody tr th {\n",
       "        vertical-align: top;\n",
       "    }\n",
       "\n",
       "    .dataframe thead th {\n",
       "        text-align: right;\n",
       "    }\n",
       "</style>\n",
       "<table border=\"1\" class=\"dataframe\">\n",
       "  <thead>\n",
       "    <tr style=\"text-align: right;\">\n",
       "      <th></th>\n",
       "      <th>columns</th>\n",
       "      <th>skew</th>\n",
       "      <th>status</th>\n",
       "      <th>trimmed_row</th>\n",
       "      <th>percentage</th>\n",
       "      <th>action</th>\n",
       "    </tr>\n",
       "  </thead>\n",
       "  <tbody>\n",
       "    <tr>\n",
       "      <th>0</th>\n",
       "      <td>long_hair</td>\n",
       "      <td>-2.211007</td>\n",
       "      <td>Skewed</td>\n",
       "      <td>516.0</td>\n",
       "      <td>12.93</td>\n",
       "      <td>Capping</td>\n",
       "    </tr>\n",
       "    <tr>\n",
       "      <th>1</th>\n",
       "      <td>forehead_width_cm</td>\n",
       "      <td>0.244338</td>\n",
       "      <td>Normal</td>\n",
       "      <td>0.0</td>\n",
       "      <td>0.00</td>\n",
       "      <td>None</td>\n",
       "    </tr>\n",
       "    <tr>\n",
       "      <th>2</th>\n",
       "      <td>forehead_height_cm</td>\n",
       "      <td>0.222949</td>\n",
       "      <td>Normal</td>\n",
       "      <td>0.0</td>\n",
       "      <td>0.00</td>\n",
       "      <td>None</td>\n",
       "    </tr>\n",
       "    <tr>\n",
       "      <th>3</th>\n",
       "      <td>nose_wide</td>\n",
       "      <td>0.025061</td>\n",
       "      <td>Normal</td>\n",
       "      <td>0.0</td>\n",
       "      <td>0.00</td>\n",
       "      <td>None</td>\n",
       "    </tr>\n",
       "    <tr>\n",
       "      <th>4</th>\n",
       "      <td>nose_long</td>\n",
       "      <td>-0.034086</td>\n",
       "      <td>Normal</td>\n",
       "      <td>0.0</td>\n",
       "      <td>0.00</td>\n",
       "      <td>None</td>\n",
       "    </tr>\n",
       "    <tr>\n",
       "      <th>5</th>\n",
       "      <td>lips_thin</td>\n",
       "      <td>0.030075</td>\n",
       "      <td>Normal</td>\n",
       "      <td>0.0</td>\n",
       "      <td>0.00</td>\n",
       "      <td>None</td>\n",
       "    </tr>\n",
       "    <tr>\n",
       "      <th>6</th>\n",
       "      <td>distance_nose_to_lip_long</td>\n",
       "      <td>-0.013031</td>\n",
       "      <td>Normal</td>\n",
       "      <td>0.0</td>\n",
       "      <td>0.00</td>\n",
       "      <td>None</td>\n",
       "    </tr>\n",
       "  </tbody>\n",
       "</table>\n",
       "</div>"
      ],
      "text/plain": [
       "                     columns      skew  status  trimmed_row  percentage  \\\n",
       "0                  long_hair -2.211007  Skewed        516.0       12.93   \n",
       "1          forehead_width_cm  0.244338  Normal          0.0        0.00   \n",
       "2         forehead_height_cm  0.222949  Normal          0.0        0.00   \n",
       "3                  nose_wide  0.025061  Normal          0.0        0.00   \n",
       "4                  nose_long -0.034086  Normal          0.0        0.00   \n",
       "5                  lips_thin  0.030075  Normal          0.0        0.00   \n",
       "6  distance_nose_to_lip_long -0.013031  Normal          0.0        0.00   \n",
       "\n",
       "    action  \n",
       "0  Capping  \n",
       "1     None  \n",
       "2     None  \n",
       "3     None  \n",
       "4     None  \n",
       "5     None  \n",
       "6     None  "
      ]
     },
     "execution_count": 43,
     "metadata": {},
     "output_type": "execute_result"
    }
   ],
   "source": [
    "preprocess_columns"
   ]
  },
  {
   "cell_type": "markdown",
   "metadata": {},
   "source": [
    "*Note: Jika kita lihat pada tabel diatas terdapat 13% outliers pada kolom 'long_hair' dan kolom lain tidak terdapat outliers.\n",
    "Maka untuk menghandle outliers akan dilakukan dengan cara:\n",
    "- Outliers >5% -15% akan dilakukan dengan metode capping"
   ]
  },
  {
   "cell_type": "code",
   "execution_count": 44,
   "metadata": {},
   "outputs": [],
   "source": [
    "from feature_engine.outliers import Winsorizer\n",
    "\n",
    "# Create the capper\n",
    "\n",
    "windsoriser = Winsorizer(capping_method='iqr', # choose iqr for IQR rule boundaries or gaussian for mean and std\n",
    "                          tail='both', # cap left, right or both tails \n",
    "                          fold=1.5,\n",
    "                          variables=['long_hair'],\n",
    "                          missing_values='ignore')\n",
    "\n",
    "windsoriser.fit(X_train)\n",
    "\n",
    "X_train_cap = windsoriser.transform(X_train)\n"
   ]
  },
  {
   "cell_type": "code",
   "execution_count": 45,
   "metadata": {},
   "outputs": [
    {
     "data": {
      "text/html": [
       "<div>\n",
       "<style scoped>\n",
       "    .dataframe tbody tr th:only-of-type {\n",
       "        vertical-align: middle;\n",
       "    }\n",
       "\n",
       "    .dataframe tbody tr th {\n",
       "        vertical-align: top;\n",
       "    }\n",
       "\n",
       "    .dataframe thead th {\n",
       "        text-align: right;\n",
       "    }\n",
       "</style>\n",
       "<table border=\"1\" class=\"dataframe\">\n",
       "  <thead>\n",
       "    <tr style=\"text-align: right;\">\n",
       "      <th></th>\n",
       "      <th>long_hair</th>\n",
       "      <th>forehead_width_cm</th>\n",
       "      <th>forehead_height_cm</th>\n",
       "      <th>nose_wide</th>\n",
       "      <th>nose_long</th>\n",
       "      <th>lips_thin</th>\n",
       "      <th>distance_nose_to_lip_long</th>\n",
       "      <th>width_limit</th>\n",
       "      <th>height_limit</th>\n",
       "    </tr>\n",
       "  </thead>\n",
       "  <tbody>\n",
       "    <tr>\n",
       "      <th>4021</th>\n",
       "      <td>1.0</td>\n",
       "      <td>14.6</td>\n",
       "      <td>5.1</td>\n",
       "      <td>1</td>\n",
       "      <td>1</td>\n",
       "      <td>1</td>\n",
       "      <td>1</td>\n",
       "      <td>&lt;= 15</td>\n",
       "      <td>&lt;= 5.5</td>\n",
       "    </tr>\n",
       "    <tr>\n",
       "      <th>1121</th>\n",
       "      <td>1.0</td>\n",
       "      <td>12.1</td>\n",
       "      <td>5.4</td>\n",
       "      <td>0</td>\n",
       "      <td>0</td>\n",
       "      <td>0</td>\n",
       "      <td>0</td>\n",
       "      <td>&lt;= 13</td>\n",
       "      <td>&lt;= 5.5</td>\n",
       "    </tr>\n",
       "    <tr>\n",
       "      <th>999</th>\n",
       "      <td>1.0</td>\n",
       "      <td>13.4</td>\n",
       "      <td>5.4</td>\n",
       "      <td>1</td>\n",
       "      <td>0</td>\n",
       "      <td>0</td>\n",
       "      <td>0</td>\n",
       "      <td>&lt;= 14</td>\n",
       "      <td>&lt;= 5.5</td>\n",
       "    </tr>\n",
       "    <tr>\n",
       "      <th>3314</th>\n",
       "      <td>1.0</td>\n",
       "      <td>13.8</td>\n",
       "      <td>6.8</td>\n",
       "      <td>1</td>\n",
       "      <td>1</td>\n",
       "      <td>1</td>\n",
       "      <td>1</td>\n",
       "      <td>&lt;= 14</td>\n",
       "      <td>&lt;= 7</td>\n",
       "    </tr>\n",
       "    <tr>\n",
       "      <th>4467</th>\n",
       "      <td>1.0</td>\n",
       "      <td>14.6</td>\n",
       "      <td>6.0</td>\n",
       "      <td>1</td>\n",
       "      <td>1</td>\n",
       "      <td>1</td>\n",
       "      <td>0</td>\n",
       "      <td>&lt;= 15</td>\n",
       "      <td>&lt;= 6</td>\n",
       "    </tr>\n",
       "    <tr>\n",
       "      <th>...</th>\n",
       "      <td>...</td>\n",
       "      <td>...</td>\n",
       "      <td>...</td>\n",
       "      <td>...</td>\n",
       "      <td>...</td>\n",
       "      <td>...</td>\n",
       "      <td>...</td>\n",
       "      <td>...</td>\n",
       "      <td>...</td>\n",
       "    </tr>\n",
       "    <tr>\n",
       "      <th>1175</th>\n",
       "      <td>1.0</td>\n",
       "      <td>12.8</td>\n",
       "      <td>5.1</td>\n",
       "      <td>0</td>\n",
       "      <td>0</td>\n",
       "      <td>0</td>\n",
       "      <td>0</td>\n",
       "      <td>&lt;= 13</td>\n",
       "      <td>&lt;= 5.5</td>\n",
       "    </tr>\n",
       "    <tr>\n",
       "      <th>255</th>\n",
       "      <td>1.0</td>\n",
       "      <td>13.5</td>\n",
       "      <td>5.4</td>\n",
       "      <td>1</td>\n",
       "      <td>1</td>\n",
       "      <td>1</td>\n",
       "      <td>1</td>\n",
       "      <td>&lt;= 14</td>\n",
       "      <td>&lt;= 5.5</td>\n",
       "    </tr>\n",
       "    <tr>\n",
       "      <th>2934</th>\n",
       "      <td>1.0</td>\n",
       "      <td>13.7</td>\n",
       "      <td>6.0</td>\n",
       "      <td>0</td>\n",
       "      <td>0</td>\n",
       "      <td>1</td>\n",
       "      <td>0</td>\n",
       "      <td>&lt;= 14</td>\n",
       "      <td>&lt;= 6</td>\n",
       "    </tr>\n",
       "    <tr>\n",
       "      <th>2191</th>\n",
       "      <td>1.0</td>\n",
       "      <td>12.3</td>\n",
       "      <td>6.0</td>\n",
       "      <td>0</td>\n",
       "      <td>1</td>\n",
       "      <td>0</td>\n",
       "      <td>0</td>\n",
       "      <td>&lt;= 13</td>\n",
       "      <td>&lt;= 6</td>\n",
       "    </tr>\n",
       "    <tr>\n",
       "      <th>318</th>\n",
       "      <td>1.0</td>\n",
       "      <td>12.2</td>\n",
       "      <td>6.0</td>\n",
       "      <td>0</td>\n",
       "      <td>0</td>\n",
       "      <td>0</td>\n",
       "      <td>0</td>\n",
       "      <td>&lt;= 13</td>\n",
       "      <td>&lt;= 6</td>\n",
       "    </tr>\n",
       "  </tbody>\n",
       "</table>\n",
       "<p>3992 rows × 9 columns</p>\n",
       "</div>"
      ],
      "text/plain": [
       "      long_hair  forehead_width_cm  forehead_height_cm  nose_wide  nose_long  \\\n",
       "4021        1.0               14.6                 5.1          1          1   \n",
       "1121        1.0               12.1                 5.4          0          0   \n",
       "999         1.0               13.4                 5.4          1          0   \n",
       "3314        1.0               13.8                 6.8          1          1   \n",
       "4467        1.0               14.6                 6.0          1          1   \n",
       "...         ...                ...                 ...        ...        ...   \n",
       "1175        1.0               12.8                 5.1          0          0   \n",
       "255         1.0               13.5                 5.4          1          1   \n",
       "2934        1.0               13.7                 6.0          0          0   \n",
       "2191        1.0               12.3                 6.0          0          1   \n",
       "318         1.0               12.2                 6.0          0          0   \n",
       "\n",
       "      lips_thin  distance_nose_to_lip_long width_limit height_limit  \n",
       "4021          1                          1       <= 15       <= 5.5  \n",
       "1121          0                          0       <= 13       <= 5.5  \n",
       "999           0                          0       <= 14       <= 5.5  \n",
       "3314          1                          1       <= 14         <= 7  \n",
       "4467          1                          0       <= 15         <= 6  \n",
       "...         ...                        ...         ...          ...  \n",
       "1175          0                          0       <= 13       <= 5.5  \n",
       "255           1                          1       <= 14       <= 5.5  \n",
       "2934          1                          0       <= 14         <= 6  \n",
       "2191          0                          0       <= 13         <= 6  \n",
       "318           0                          0       <= 13         <= 6  \n",
       "\n",
       "[3992 rows x 9 columns]"
      ]
     },
     "execution_count": 45,
     "metadata": {},
     "output_type": "execute_result"
    }
   ],
   "source": [
    "X_train_cap"
   ]
  },
  {
   "cell_type": "code",
   "execution_count": 46,
   "metadata": {},
   "outputs": [
    {
     "data": {
      "image/png": "[encoded data removed]",
      "text/plain": [
       "<Figure size 1152x288 with 3 Axes>"
      ]
     },
     "metadata": {},
     "output_type": "display_data"
    },
    {
     "data": {
      "image/png": "[encoded data removed]",
      "text/plain": [
       "<Figure size 1152x288 with 3 Axes>"
      ]
     },
     "metadata": {},
     "output_type": "display_data"
    },
    {
     "data": {
      "image/png": "[encoded data removed]",
      "text/plain": [
       "<Figure size 1152x288 with 3 Axes>"
      ]
     },
     "metadata": {},
     "output_type": "display_data"
    },
    {
     "data": {
      "image/png": "[encoded data removed]",
      "text/plain": [
       "<Figure size 1152x288 with 3 Axes>"
      ]
     },
     "metadata": {},
     "output_type": "display_data"
    },
    {
     "data": {
      "image/png": "[encoded data removed]",
      "text/plain": [
       "<Figure size 1152x288 with 3 Axes>"
      ]
     },
     "metadata": {},
     "output_type": "display_data"
    },
    {
     "data": {
      "image/png": "[encoded data removed]",
      "text/plain": [
       "<Figure size 1152x288 with 3 Axes>"
      ]
     },
     "metadata": {},
     "output_type": "display_data"
    },
    {
     "data": {
      "image/png": "[encoded data removed]",
      "text/plain": [
       "<Figure size 1152x288 with 3 Axes>"
      ]
     },
     "metadata": {},
     "output_type": "display_data"
    }
   ],
   "source": [
    "for i in X_train.describe().columns:\n",
    "    diagnostic_plots(X_train, X_train_cap, i)"
   ]
  },
  {
   "cell_type": "code",
   "execution_count": 47,
   "metadata": {},
   "outputs": [
    {
     "data": {
      "text/html": [
       "<div>\n",
       "<style scoped>\n",
       "    .dataframe tbody tr th:only-of-type {\n",
       "        vertical-align: middle;\n",
       "    }\n",
       "\n",
       "    .dataframe tbody tr th {\n",
       "        vertical-align: top;\n",
       "    }\n",
       "\n",
       "    .dataframe thead th {\n",
       "        text-align: right;\n",
       "    }\n",
       "</style>\n",
       "<table border=\"1\" class=\"dataframe\">\n",
       "  <thead>\n",
       "    <tr style=\"text-align: right;\">\n",
       "      <th></th>\n",
       "      <th>long_hair</th>\n",
       "      <th>forehead_width_cm</th>\n",
       "      <th>forehead_height_cm</th>\n",
       "      <th>nose_wide</th>\n",
       "      <th>nose_long</th>\n",
       "      <th>lips_thin</th>\n",
       "      <th>distance_nose_to_lip_long</th>\n",
       "      <th>width_limit</th>\n",
       "      <th>height_limit</th>\n",
       "    </tr>\n",
       "  </thead>\n",
       "  <tbody>\n",
       "    <tr>\n",
       "      <th>4021</th>\n",
       "      <td>1.0</td>\n",
       "      <td>14.6</td>\n",
       "      <td>5.1</td>\n",
       "      <td>1</td>\n",
       "      <td>1</td>\n",
       "      <td>1</td>\n",
       "      <td>1</td>\n",
       "      <td>&lt;= 15</td>\n",
       "      <td>&lt;= 5.5</td>\n",
       "    </tr>\n",
       "    <tr>\n",
       "      <th>1121</th>\n",
       "      <td>1.0</td>\n",
       "      <td>12.1</td>\n",
       "      <td>5.4</td>\n",
       "      <td>0</td>\n",
       "      <td>0</td>\n",
       "      <td>0</td>\n",
       "      <td>0</td>\n",
       "      <td>&lt;= 13</td>\n",
       "      <td>&lt;= 5.5</td>\n",
       "    </tr>\n",
       "    <tr>\n",
       "      <th>999</th>\n",
       "      <td>1.0</td>\n",
       "      <td>13.4</td>\n",
       "      <td>5.4</td>\n",
       "      <td>1</td>\n",
       "      <td>0</td>\n",
       "      <td>0</td>\n",
       "      <td>0</td>\n",
       "      <td>&lt;= 14</td>\n",
       "      <td>&lt;= 5.5</td>\n",
       "    </tr>\n",
       "    <tr>\n",
       "      <th>3314</th>\n",
       "      <td>1.0</td>\n",
       "      <td>13.8</td>\n",
       "      <td>6.8</td>\n",
       "      <td>1</td>\n",
       "      <td>1</td>\n",
       "      <td>1</td>\n",
       "      <td>1</td>\n",
       "      <td>&lt;= 14</td>\n",
       "      <td>&lt;= 7</td>\n",
       "    </tr>\n",
       "    <tr>\n",
       "      <th>4467</th>\n",
       "      <td>1.0</td>\n",
       "      <td>14.6</td>\n",
       "      <td>6.0</td>\n",
       "      <td>1</td>\n",
       "      <td>1</td>\n",
       "      <td>1</td>\n",
       "      <td>0</td>\n",
       "      <td>&lt;= 15</td>\n",
       "      <td>&lt;= 6</td>\n",
       "    </tr>\n",
       "    <tr>\n",
       "      <th>...</th>\n",
       "      <td>...</td>\n",
       "      <td>...</td>\n",
       "      <td>...</td>\n",
       "      <td>...</td>\n",
       "      <td>...</td>\n",
       "      <td>...</td>\n",
       "      <td>...</td>\n",
       "      <td>...</td>\n",
       "      <td>...</td>\n",
       "    </tr>\n",
       "    <tr>\n",
       "      <th>1175</th>\n",
       "      <td>1.0</td>\n",
       "      <td>12.8</td>\n",
       "      <td>5.1</td>\n",
       "      <td>0</td>\n",
       "      <td>0</td>\n",
       "      <td>0</td>\n",
       "      <td>0</td>\n",
       "      <td>&lt;= 13</td>\n",
       "      <td>&lt;= 5.5</td>\n",
       "    </tr>\n",
       "    <tr>\n",
       "      <th>255</th>\n",
       "      <td>1.0</td>\n",
       "      <td>13.5</td>\n",
       "      <td>5.4</td>\n",
       "      <td>1</td>\n",
       "      <td>1</td>\n",
       "      <td>1</td>\n",
       "      <td>1</td>\n",
       "      <td>&lt;= 14</td>\n",
       "      <td>&lt;= 5.5</td>\n",
       "    </tr>\n",
       "    <tr>\n",
       "      <th>2934</th>\n",
       "      <td>1.0</td>\n",
       "      <td>13.7</td>\n",
       "      <td>6.0</td>\n",
       "      <td>0</td>\n",
       "      <td>0</td>\n",
       "      <td>1</td>\n",
       "      <td>0</td>\n",
       "      <td>&lt;= 14</td>\n",
       "      <td>&lt;= 6</td>\n",
       "    </tr>\n",
       "    <tr>\n",
       "      <th>2191</th>\n",
       "      <td>1.0</td>\n",
       "      <td>12.3</td>\n",
       "      <td>6.0</td>\n",
       "      <td>0</td>\n",
       "      <td>1</td>\n",
       "      <td>0</td>\n",
       "      <td>0</td>\n",
       "      <td>&lt;= 13</td>\n",
       "      <td>&lt;= 6</td>\n",
       "    </tr>\n",
       "    <tr>\n",
       "      <th>318</th>\n",
       "      <td>1.0</td>\n",
       "      <td>12.2</td>\n",
       "      <td>6.0</td>\n",
       "      <td>0</td>\n",
       "      <td>0</td>\n",
       "      <td>0</td>\n",
       "      <td>0</td>\n",
       "      <td>&lt;= 13</td>\n",
       "      <td>&lt;= 6</td>\n",
       "    </tr>\n",
       "  </tbody>\n",
       "</table>\n",
       "<p>3992 rows × 9 columns</p>\n",
       "</div>"
      ],
      "text/plain": [
       "      long_hair  forehead_width_cm  forehead_height_cm  nose_wide  nose_long  \\\n",
       "4021        1.0               14.6                 5.1          1          1   \n",
       "1121        1.0               12.1                 5.4          0          0   \n",
       "999         1.0               13.4                 5.4          1          0   \n",
       "3314        1.0               13.8                 6.8          1          1   \n",
       "4467        1.0               14.6                 6.0          1          1   \n",
       "...         ...                ...                 ...        ...        ...   \n",
       "1175        1.0               12.8                 5.1          0          0   \n",
       "255         1.0               13.5                 5.4          1          1   \n",
       "2934        1.0               13.7                 6.0          0          0   \n",
       "2191        1.0               12.3                 6.0          0          1   \n",
       "318         1.0               12.2                 6.0          0          0   \n",
       "\n",
       "      lips_thin  distance_nose_to_lip_long width_limit height_limit  \n",
       "4021          1                          1       <= 15       <= 5.5  \n",
       "1121          0                          0       <= 13       <= 5.5  \n",
       "999           0                          0       <= 14       <= 5.5  \n",
       "3314          1                          1       <= 14         <= 7  \n",
       "4467          1                          0       <= 15         <= 6  \n",
       "...         ...                        ...         ...          ...  \n",
       "1175          0                          0       <= 13       <= 5.5  \n",
       "255           1                          1       <= 14       <= 5.5  \n",
       "2934          1                          0       <= 14         <= 6  \n",
       "2191          0                          0       <= 13         <= 6  \n",
       "318           0                          0       <= 13         <= 6  \n",
       "\n",
       "[3992 rows x 9 columns]"
      ]
     },
     "execution_count": 47,
     "metadata": {},
     "output_type": "execute_result"
    }
   ],
   "source": [
    "X_train_cap"
   ]
  },
  {
   "cell_type": "code",
   "execution_count": 48,
   "metadata": {},
   "outputs": [
    {
     "data": {
      "text/html": [
       "<div>\n",
       "<style scoped>\n",
       "    .dataframe tbody tr th:only-of-type {\n",
       "        vertical-align: middle;\n",
       "    }\n",
       "\n",
       "    .dataframe tbody tr th {\n",
       "        vertical-align: top;\n",
       "    }\n",
       "\n",
       "    .dataframe thead th {\n",
       "        text-align: right;\n",
       "    }\n",
       "</style>\n",
       "<table border=\"1\" class=\"dataframe\">\n",
       "  <thead>\n",
       "    <tr style=\"text-align: right;\">\n",
       "      <th></th>\n",
       "      <th>long_hair</th>\n",
       "      <th>forehead_width_cm</th>\n",
       "      <th>forehead_height_cm</th>\n",
       "      <th>nose_wide</th>\n",
       "      <th>nose_long</th>\n",
       "      <th>lips_thin</th>\n",
       "      <th>distance_nose_to_lip_long</th>\n",
       "    </tr>\n",
       "  </thead>\n",
       "  <tbody>\n",
       "    <tr>\n",
       "      <th>count</th>\n",
       "      <td>3992.0</td>\n",
       "      <td>3992.000000</td>\n",
       "      <td>3992.000000</td>\n",
       "      <td>3992.000000</td>\n",
       "      <td>3992.000000</td>\n",
       "      <td>3992.000000</td>\n",
       "      <td>3992.000000</td>\n",
       "    </tr>\n",
       "    <tr>\n",
       "      <th>mean</th>\n",
       "      <td>1.0</td>\n",
       "      <td>13.178858</td>\n",
       "      <td>5.951027</td>\n",
       "      <td>0.493737</td>\n",
       "      <td>0.508517</td>\n",
       "      <td>0.492485</td>\n",
       "      <td>0.503257</td>\n",
       "    </tr>\n",
       "    <tr>\n",
       "      <th>std</th>\n",
       "      <td>0.0</td>\n",
       "      <td>1.105239</td>\n",
       "      <td>0.542052</td>\n",
       "      <td>0.500023</td>\n",
       "      <td>0.499990</td>\n",
       "      <td>0.500006</td>\n",
       "      <td>0.500052</td>\n",
       "    </tr>\n",
       "    <tr>\n",
       "      <th>min</th>\n",
       "      <td>1.0</td>\n",
       "      <td>11.400000</td>\n",
       "      <td>5.100000</td>\n",
       "      <td>0.000000</td>\n",
       "      <td>0.000000</td>\n",
       "      <td>0.000000</td>\n",
       "      <td>0.000000</td>\n",
       "    </tr>\n",
       "    <tr>\n",
       "      <th>25%</th>\n",
       "      <td>1.0</td>\n",
       "      <td>12.200000</td>\n",
       "      <td>5.500000</td>\n",
       "      <td>0.000000</td>\n",
       "      <td>0.000000</td>\n",
       "      <td>0.000000</td>\n",
       "      <td>0.000000</td>\n",
       "    </tr>\n",
       "    <tr>\n",
       "      <th>50%</th>\n",
       "      <td>1.0</td>\n",
       "      <td>13.100000</td>\n",
       "      <td>5.900000</td>\n",
       "      <td>0.000000</td>\n",
       "      <td>1.000000</td>\n",
       "      <td>0.000000</td>\n",
       "      <td>1.000000</td>\n",
       "    </tr>\n",
       "    <tr>\n",
       "      <th>75%</th>\n",
       "      <td>1.0</td>\n",
       "      <td>14.000000</td>\n",
       "      <td>6.400000</td>\n",
       "      <td>1.000000</td>\n",
       "      <td>1.000000</td>\n",
       "      <td>1.000000</td>\n",
       "      <td>1.000000</td>\n",
       "    </tr>\n",
       "    <tr>\n",
       "      <th>max</th>\n",
       "      <td>1.0</td>\n",
       "      <td>15.500000</td>\n",
       "      <td>7.100000</td>\n",
       "      <td>1.000000</td>\n",
       "      <td>1.000000</td>\n",
       "      <td>1.000000</td>\n",
       "      <td>1.000000</td>\n",
       "    </tr>\n",
       "  </tbody>\n",
       "</table>\n",
       "</div>"
      ],
      "text/plain": [
       "       long_hair  forehead_width_cm  forehead_height_cm    nose_wide  \\\n",
       "count     3992.0        3992.000000         3992.000000  3992.000000   \n",
       "mean         1.0          13.178858            5.951027     0.493737   \n",
       "std          0.0           1.105239            0.542052     0.500023   \n",
       "min          1.0          11.400000            5.100000     0.000000   \n",
       "25%          1.0          12.200000            5.500000     0.000000   \n",
       "50%          1.0          13.100000            5.900000     0.000000   \n",
       "75%          1.0          14.000000            6.400000     1.000000   \n",
       "max          1.0          15.500000            7.100000     1.000000   \n",
       "\n",
       "         nose_long    lips_thin  distance_nose_to_lip_long  \n",
       "count  3992.000000  3992.000000                3992.000000  \n",
       "mean      0.508517     0.492485                   0.503257  \n",
       "std       0.499990     0.500006                   0.500052  \n",
       "min       0.000000     0.000000                   0.000000  \n",
       "25%       0.000000     0.000000                   0.000000  \n",
       "50%       1.000000     0.000000                   1.000000  \n",
       "75%       1.000000     1.000000                   1.000000  \n",
       "max       1.000000     1.000000                   1.000000  "
      ]
     },
     "execution_count": 48,
     "metadata": {},
     "output_type": "execute_result"
    }
   ],
   "source": [
    "X_train_cap.describe()"
   ]
  },
  {
   "cell_type": "markdown",
   "metadata": {},
   "source": [
    "##### Handling Missing Value"
   ]
  },
  {
   "cell_type": "code",
   "execution_count": 49,
   "metadata": {},
   "outputs": [
    {
     "data": {
      "text/plain": [
       "long_hair                    0\n",
       "forehead_width_cm            0\n",
       "forehead_height_cm           0\n",
       "nose_wide                    0\n",
       "nose_long                    0\n",
       "lips_thin                    0\n",
       "distance_nose_to_lip_long    0\n",
       "width_limit                  0\n",
       "height_limit                 0\n",
       "dtype: int64"
      ]
     },
     "execution_count": 49,
     "metadata": {},
     "output_type": "execute_result"
    }
   ],
   "source": [
    "X_train_cap.isnull().sum()"
   ]
  },
  {
   "cell_type": "code",
   "execution_count": 50,
   "metadata": {},
   "outputs": [
    {
     "data": {
      "text/plain": [
       "long_hair                    0\n",
       "forehead_width_cm            0\n",
       "forehead_height_cm           0\n",
       "nose_wide                    0\n",
       "nose_long                    0\n",
       "lips_thin                    0\n",
       "distance_nose_to_lip_long    0\n",
       "width_limit                  0\n",
       "height_limit                 0\n",
       "dtype: int64"
      ]
     },
     "execution_count": 50,
     "metadata": {},
     "output_type": "execute_result"
    }
   ],
   "source": [
    "X_test.isnull().sum()"
   ]
  },
  {
   "cell_type": "markdown",
   "metadata": {},
   "source": [
    "### <strong>Model Definition<strong>\n",
    "\n",
    "##### This section contains cells to define the model. Explain the reasons for using an algorithm/model, the hyperparameters used, the types of metrics used, and other things related to the model.\n",
    "---"
   ]
  },
  {
   "cell_type": "markdown",
   "metadata": {},
   "source": [
    "From this dataset i will make '6 Models',\n",
    "\n",
    "* 'Logistics' : model for **Logistic Regression**\n",
    "* 'SVC' : model for **Support Vector Classifier**\n",
    "* 'Tree' : model for **Decision Tree**\n",
    "* 'Forest' : model for **Random Forest**\n",
    "* 'KNN' : model for **K*Nearest Neighbors**\n",
    "* 'Naive' : model for **Naive Bayes**\n",
    "\n",
    "and then the models will be tuned with 'GridSearchCSV'."
   ]
  },
  {
   "cell_type": "markdown",
   "metadata": {},
   "source": [
    "Dari Dataset ini akan dibuat '6 Model' sebagai berikut dan kemudian model akan di tuning menggunakan 'GridSearchCSV' :\n",
    "\n",
    "* 'Logistic' :  model untuk **Logistic Regression**\n",
    "* 'SVC'      :  model untuk **Support Vector Classifier**\n",
    "* 'Tree'     :  model untuk **Decision Tree**\n",
    "* 'Forest'   :  model untuk **Random Forest** \n",
    "* 'KNN'      :  model untuk **K*Nearest Neighbors**\n",
    "* 'Naive'    :  model untuk **Naive Bayes**"
   ]
  },
  {
   "cell_type": "markdown",
   "metadata": {},
   "source": [
    "##### Build Pipeline"
   ]
  },
  {
   "cell_type": "code",
   "execution_count": 51,
   "metadata": {},
   "outputs": [],
   "source": [
    "num_columns = X_train_cap.select_dtypes(include = np.number).columns.tolist()\n",
    "cat_columns = X_train_cap.select_dtypes(include = ['object']).columns.tolist()\n"
   ]
  },
  {
   "cell_type": "code",
   "execution_count": 52,
   "metadata": {},
   "outputs": [
    {
     "data": {
      "text/html": [
       "<div>\n",
       "<style scoped>\n",
       "    .dataframe tbody tr th:only-of-type {\n",
       "        vertical-align: middle;\n",
       "    }\n",
       "\n",
       "    .dataframe tbody tr th {\n",
       "        vertical-align: top;\n",
       "    }\n",
       "\n",
       "    .dataframe thead th {\n",
       "        text-align: right;\n",
       "    }\n",
       "</style>\n",
       "<table border=\"1\" class=\"dataframe\">\n",
       "  <thead>\n",
       "    <tr style=\"text-align: right;\">\n",
       "      <th></th>\n",
       "      <th>long_hair</th>\n",
       "      <th>forehead_width_cm</th>\n",
       "      <th>forehead_height_cm</th>\n",
       "      <th>nose_wide</th>\n",
       "      <th>nose_long</th>\n",
       "      <th>lips_thin</th>\n",
       "      <th>distance_nose_to_lip_long</th>\n",
       "      <th>width_limit</th>\n",
       "      <th>height_limit</th>\n",
       "    </tr>\n",
       "  </thead>\n",
       "  <tbody>\n",
       "    <tr>\n",
       "      <th>4021</th>\n",
       "      <td>1.0</td>\n",
       "      <td>14.6</td>\n",
       "      <td>5.1</td>\n",
       "      <td>1</td>\n",
       "      <td>1</td>\n",
       "      <td>1</td>\n",
       "      <td>1</td>\n",
       "      <td>&lt;= 15</td>\n",
       "      <td>&lt;= 5.5</td>\n",
       "    </tr>\n",
       "    <tr>\n",
       "      <th>1121</th>\n",
       "      <td>1.0</td>\n",
       "      <td>12.1</td>\n",
       "      <td>5.4</td>\n",
       "      <td>0</td>\n",
       "      <td>0</td>\n",
       "      <td>0</td>\n",
       "      <td>0</td>\n",
       "      <td>&lt;= 13</td>\n",
       "      <td>&lt;= 5.5</td>\n",
       "    </tr>\n",
       "    <tr>\n",
       "      <th>999</th>\n",
       "      <td>1.0</td>\n",
       "      <td>13.4</td>\n",
       "      <td>5.4</td>\n",
       "      <td>1</td>\n",
       "      <td>0</td>\n",
       "      <td>0</td>\n",
       "      <td>0</td>\n",
       "      <td>&lt;= 14</td>\n",
       "      <td>&lt;= 5.5</td>\n",
       "    </tr>\n",
       "    <tr>\n",
       "      <th>3314</th>\n",
       "      <td>1.0</td>\n",
       "      <td>13.8</td>\n",
       "      <td>6.8</td>\n",
       "      <td>1</td>\n",
       "      <td>1</td>\n",
       "      <td>1</td>\n",
       "      <td>1</td>\n",
       "      <td>&lt;= 14</td>\n",
       "      <td>&lt;= 7</td>\n",
       "    </tr>\n",
       "    <tr>\n",
       "      <th>4467</th>\n",
       "      <td>1.0</td>\n",
       "      <td>14.6</td>\n",
       "      <td>6.0</td>\n",
       "      <td>1</td>\n",
       "      <td>1</td>\n",
       "      <td>1</td>\n",
       "      <td>0</td>\n",
       "      <td>&lt;= 15</td>\n",
       "      <td>&lt;= 6</td>\n",
       "    </tr>\n",
       "    <tr>\n",
       "      <th>...</th>\n",
       "      <td>...</td>\n",
       "      <td>...</td>\n",
       "      <td>...</td>\n",
       "      <td>...</td>\n",
       "      <td>...</td>\n",
       "      <td>...</td>\n",
       "      <td>...</td>\n",
       "      <td>...</td>\n",
       "      <td>...</td>\n",
       "    </tr>\n",
       "    <tr>\n",
       "      <th>1175</th>\n",
       "      <td>1.0</td>\n",
       "      <td>12.8</td>\n",
       "      <td>5.1</td>\n",
       "      <td>0</td>\n",
       "      <td>0</td>\n",
       "      <td>0</td>\n",
       "      <td>0</td>\n",
       "      <td>&lt;= 13</td>\n",
       "      <td>&lt;= 5.5</td>\n",
       "    </tr>\n",
       "    <tr>\n",
       "      <th>255</th>\n",
       "      <td>1.0</td>\n",
       "      <td>13.5</td>\n",
       "      <td>5.4</td>\n",
       "      <td>1</td>\n",
       "      <td>1</td>\n",
       "      <td>1</td>\n",
       "      <td>1</td>\n",
       "      <td>&lt;= 14</td>\n",
       "      <td>&lt;= 5.5</td>\n",
       "    </tr>\n",
       "    <tr>\n",
       "      <th>2934</th>\n",
       "      <td>1.0</td>\n",
       "      <td>13.7</td>\n",
       "      <td>6.0</td>\n",
       "      <td>0</td>\n",
       "      <td>0</td>\n",
       "      <td>1</td>\n",
       "      <td>0</td>\n",
       "      <td>&lt;= 14</td>\n",
       "      <td>&lt;= 6</td>\n",
       "    </tr>\n",
       "    <tr>\n",
       "      <th>2191</th>\n",
       "      <td>1.0</td>\n",
       "      <td>12.3</td>\n",
       "      <td>6.0</td>\n",
       "      <td>0</td>\n",
       "      <td>1</td>\n",
       "      <td>0</td>\n",
       "      <td>0</td>\n",
       "      <td>&lt;= 13</td>\n",
       "      <td>&lt;= 6</td>\n",
       "    </tr>\n",
       "    <tr>\n",
       "      <th>318</th>\n",
       "      <td>1.0</td>\n",
       "      <td>12.2</td>\n",
       "      <td>6.0</td>\n",
       "      <td>0</td>\n",
       "      <td>0</td>\n",
       "      <td>0</td>\n",
       "      <td>0</td>\n",
       "      <td>&lt;= 13</td>\n",
       "      <td>&lt;= 6</td>\n",
       "    </tr>\n",
       "  </tbody>\n",
       "</table>\n",
       "<p>3992 rows × 9 columns</p>\n",
       "</div>"
      ],
      "text/plain": [
       "      long_hair  forehead_width_cm  forehead_height_cm  nose_wide  nose_long  \\\n",
       "4021        1.0               14.6                 5.1          1          1   \n",
       "1121        1.0               12.1                 5.4          0          0   \n",
       "999         1.0               13.4                 5.4          1          0   \n",
       "3314        1.0               13.8                 6.8          1          1   \n",
       "4467        1.0               14.6                 6.0          1          1   \n",
       "...         ...                ...                 ...        ...        ...   \n",
       "1175        1.0               12.8                 5.1          0          0   \n",
       "255         1.0               13.5                 5.4          1          1   \n",
       "2934        1.0               13.7                 6.0          0          0   \n",
       "2191        1.0               12.3                 6.0          0          1   \n",
       "318         1.0               12.2                 6.0          0          0   \n",
       "\n",
       "      lips_thin  distance_nose_to_lip_long width_limit height_limit  \n",
       "4021          1                          1       <= 15       <= 5.5  \n",
       "1121          0                          0       <= 13       <= 5.5  \n",
       "999           0                          0       <= 14       <= 5.5  \n",
       "3314          1                          1       <= 14         <= 7  \n",
       "4467          1                          0       <= 15         <= 6  \n",
       "...         ...                        ...         ...          ...  \n",
       "1175          0                          0       <= 13       <= 5.5  \n",
       "255           1                          1       <= 14       <= 5.5  \n",
       "2934          1                          0       <= 14         <= 6  \n",
       "2191          0                          0       <= 13         <= 6  \n",
       "318           0                          0       <= 13         <= 6  \n",
       "\n",
       "[3992 rows x 9 columns]"
      ]
     },
     "execution_count": 52,
     "metadata": {},
     "output_type": "execute_result"
    }
   ],
   "source": [
    "X_train_cap"
   ]
  },
  {
   "cell_type": "code",
   "execution_count": 53,
   "metadata": {},
   "outputs": [],
   "source": [
    "num_pipe = Pipeline([\n",
    "    ('scaling', MinMaxScaler())\n",
    "])\n",
    "\n",
    "cat_pipe =  Pipeline([\n",
    "    ('encoded',OrdinalEncoder())\n",
    "])\n",
    "\n",
    "preprocess = ColumnTransformer([\n",
    "    ('num',num_pipe,num_columns),\n",
    "    ('cat',cat_pipe,cat_columns)\n",
    "])"
   ]
  },
  {
   "cell_type": "code",
   "execution_count": 54,
   "metadata": {},
   "outputs": [],
   "source": [
    "# Logistic Regression \n",
    "#log_reg = LogisticRegression(random_state=25)\n",
    "\n",
    "# Support Vector Machine \n",
    "#svm_clf = SVC(random_state=25)\n",
    "\n",
    "## Decision Tree\n",
    "#tree_clf = DecisionTreeClassifier(max_depth=2, random_state=25)\n",
    "\n",
    "## Random Forest\n",
    "#forest_clf = RandomForestClassifier(max_depth=2, random_state=25) \n",
    "\n",
    "## KNN \n",
    "#knn_clf = KNeighborsClassifier(n_neighbors=25)\n",
    "\n",
    "# Naive Bayes \n",
    "#naive_clf = GaussianNB()\n"
   ]
  },
  {
   "cell_type": "code",
   "execution_count": 55,
   "metadata": {},
   "outputs": [],
   "source": [
    "pipe_logreg = Pipeline([\n",
    "('preprocessing', preprocess ),\n",
    "('pca',PCA(n_components=0.95)),\n",
    "('classifier', LogisticRegression(random_state=25))])\n",
    "\n",
    "pipe_svm = Pipeline([\n",
    "('preprocessing', preprocess ),\n",
    "('pca',PCA(n_components=0.95)),\n",
    "('classifier', SVC(random_state=25))])\n",
    "\n",
    "pipe_tree = Pipeline([\n",
    "('preprocessing', preprocess ),\n",
    "('pca',PCA(n_components=0.95)),\n",
    "('classifier', DecisionTreeClassifier(random_state=25))])\n",
    "\n",
    "pipe_ranfor = Pipeline([\n",
    "('preprocessing', preprocess ),\n",
    "('pca',PCA(n_components=0.95)),\n",
    "('classifier', RandomForestClassifier(random_state=25))])\n",
    "\n",
    "pipe_knn = Pipeline([\n",
    "('preprocessing', preprocess ),\n",
    "('pca',PCA(n_components=0.95)),\n",
    "('classifier', KNeighborsClassifier(n_neighbors=25))])\n",
    "\n",
    "pipe_naive = Pipeline([\n",
    "('preprocessing', preprocess ),\n",
    "('pca',PCA(n_components=0.95)),\n",
    "('classifier', GaussianNB())])\n",
    "\n"
   ]
  },
  {
   "cell_type": "code",
   "execution_count": 56,
   "metadata": {},
   "outputs": [],
   "source": [
    "comparison_tuned = pd.DataFrame(columns=[\n",
    "    'Model',\n",
    "    'f1_score_train',\n",
    "    'f1_score_test',\n",
    "    'recall_train',\n",
    "    'recall_test'\n",
    "])"
   ]
  },
  {
   "cell_type": "markdown",
   "metadata": {},
   "source": [
    "### Model Training\n",
    "\n",
    "##### This section contains only the code to train the model and the resulting output. Do the training process several times with different hyperparameters to see the results obtained. Analyze and narrate these results in the Model Evaluation section.\n",
    "---"
   ]
  },
  {
   "cell_type": "code",
   "execution_count": 57,
   "metadata": {},
   "outputs": [],
   "source": [
    "log_reg = pipe_logreg.fit(X_train_cap,y_train)"
   ]
  },
  {
   "cell_type": "code",
   "execution_count": 58,
   "metadata": {},
   "outputs": [],
   "source": [
    "svm = pipe_svm.fit(X_train_cap,y_train)"
   ]
  },
  {
   "cell_type": "code",
   "execution_count": 59,
   "metadata": {},
   "outputs": [],
   "source": [
    "tree = pipe_tree.fit(X_train_cap,y_train)"
   ]
  },
  {
   "cell_type": "code",
   "execution_count": 60,
   "metadata": {},
   "outputs": [],
   "source": [
    "rf = pipe_ranfor.fit(X_train_cap,y_train)"
   ]
  },
  {
   "cell_type": "code",
   "execution_count": 61,
   "metadata": {},
   "outputs": [],
   "source": [
    "knn = pipe_knn.fit(X_train_cap,y_train)"
   ]
  },
  {
   "cell_type": "code",
   "execution_count": 62,
   "metadata": {},
   "outputs": [],
   "source": [
    "nb = pipe_naive.fit(X_train_cap,y_train)"
   ]
  },
  {
   "cell_type": "markdown",
   "metadata": {},
   "source": [
    "### Model Evaluation\n",
    "\n",
    "##### In this section, an evaluation of the model is carried out which must show how the model performs based on the selected metrics. This should be demonstrated by visualizing the performance trend and/or model error rate. Perform analysis related to the results on the model and write down the results of the analysis.\n",
    "---"
   ]
  },
  {
   "cell_type": "markdown",
   "metadata": {},
   "source": [
    "* Logistic Regression"
   ]
  },
  {
   "cell_type": "code",
   "execution_count": 63,
   "metadata": {},
   "outputs": [
    {
     "name": "stdout",
     "output_type": "stream",
     "text": [
      "              precision    recall  f1-score   support\n",
      "\n",
      "      Female       0.97      0.97      0.97      1991\n",
      "        Male       0.97      0.97      0.97      2001\n",
      "\n",
      "    accuracy                           0.97      3992\n",
      "   macro avg       0.97      0.97      0.97      3992\n",
      "weighted avg       0.97      0.97      0.97      3992\n",
      "\n",
      "              precision    recall  f1-score   support\n",
      "\n",
      "      Female       0.97      0.97      0.97       504\n",
      "        Male       0.97      0.97      0.97       495\n",
      "\n",
      "    accuracy                           0.97       999\n",
      "   macro avg       0.97      0.97      0.97       999\n",
      "weighted avg       0.97      0.97      0.97       999\n",
      "\n"
     ]
    }
   ],
   "source": [
    "y_pred_train_log_reg = log_reg.predict(X_train_cap)\n",
    "y_pred_test_log_reg = log_reg.predict(X_test)\n",
    "\n",
    "print(classification_report(y_train, y_pred_train_log_reg))\n",
    "print(classification_report(y_test, y_pred_test_log_reg))"
   ]
  },
  {
   "cell_type": "markdown",
   "metadata": {},
   "source": [
    "* Support Vector Machine (SVM)"
   ]
  },
  {
   "cell_type": "code",
   "execution_count": 64,
   "metadata": {},
   "outputs": [
    {
     "name": "stdout",
     "output_type": "stream",
     "text": [
      "              precision    recall  f1-score   support\n",
      "\n",
      "      Female       0.97      0.98      0.97      1991\n",
      "        Male       0.98      0.97      0.97      2001\n",
      "\n",
      "    accuracy                           0.97      3992\n",
      "   macro avg       0.97      0.97      0.97      3992\n",
      "weighted avg       0.97      0.97      0.97      3992\n",
      "\n",
      "              precision    recall  f1-score   support\n",
      "\n",
      "      Female       0.97      0.97      0.97       504\n",
      "        Male       0.97      0.97      0.97       495\n",
      "\n",
      "    accuracy                           0.97       999\n",
      "   macro avg       0.97      0.97      0.97       999\n",
      "weighted avg       0.97      0.97      0.97       999\n",
      "\n"
     ]
    }
   ],
   "source": [
    "y_pred_train_svm = svm.predict(X_train_cap)\n",
    "y_pred_test_svm = svm.predict(X_test)\n",
    "\n",
    "print(classification_report(y_train, y_pred_train_svm))\n",
    "print(classification_report(y_test, y_pred_test_svm))\n"
   ]
  },
  {
   "cell_type": "markdown",
   "metadata": {},
   "source": [
    "* Decision Tree"
   ]
  },
  {
   "cell_type": "code",
   "execution_count": 65,
   "metadata": {},
   "outputs": [
    {
     "name": "stdout",
     "output_type": "stream",
     "text": [
      "              precision    recall  f1-score   support\n",
      "\n",
      "      Female       1.00      1.00      1.00      1991\n",
      "        Male       1.00      1.00      1.00      2001\n",
      "\n",
      "    accuracy                           1.00      3992\n",
      "   macro avg       1.00      1.00      1.00      3992\n",
      "weighted avg       1.00      1.00      1.00      3992\n",
      "\n",
      "              precision    recall  f1-score   support\n",
      "\n",
      "      Female       0.96      0.97      0.97       504\n",
      "        Male       0.97      0.96      0.97       495\n",
      "\n",
      "    accuracy                           0.97       999\n",
      "   macro avg       0.97      0.97      0.97       999\n",
      "weighted avg       0.97      0.97      0.97       999\n",
      "\n"
     ]
    }
   ],
   "source": [
    "y_prediction_train_tree = tree.predict(X_train_cap)\n",
    "y_prediction_test_tree = tree.predict(X_test)\n",
    "\n",
    "print(classification_report(y_train, y_prediction_train_tree))\n",
    "print(classification_report(y_test, y_prediction_test_tree))"
   ]
  },
  {
   "cell_type": "markdown",
   "metadata": {},
   "source": [
    "* Random Forest"
   ]
  },
  {
   "cell_type": "code",
   "execution_count": 66,
   "metadata": {},
   "outputs": [
    {
     "name": "stdout",
     "output_type": "stream",
     "text": [
      "              precision    recall  f1-score   support\n",
      "\n",
      "      Female       1.00      1.00      1.00      1991\n",
      "        Male       1.00      1.00      1.00      2001\n",
      "\n",
      "    accuracy                           1.00      3992\n",
      "   macro avg       1.00      1.00      1.00      3992\n",
      "weighted avg       1.00      1.00      1.00      3992\n",
      "\n",
      "              precision    recall  f1-score   support\n",
      "\n",
      "      Female       0.96      0.97      0.97       504\n",
      "        Male       0.97      0.96      0.97       495\n",
      "\n",
      "    accuracy                           0.97       999\n",
      "   macro avg       0.97      0.97      0.97       999\n",
      "weighted avg       0.97      0.97      0.97       999\n",
      "\n"
     ]
    }
   ],
   "source": [
    "y_pred_train_forest = rf.predict(X_train_cap)\n",
    "y_pred_test_forest = rf.predict(X_test)\n",
    "\n",
    "print(classification_report(y_train, y_pred_train_forest))\n",
    "print(classification_report(y_test, y_pred_test_forest))"
   ]
  },
  {
   "cell_type": "markdown",
   "metadata": {},
   "source": [
    "* KNN // K-Neighbors"
   ]
  },
  {
   "cell_type": "code",
   "execution_count": 67,
   "metadata": {},
   "outputs": [
    {
     "name": "stdout",
     "output_type": "stream",
     "text": [
      "              precision    recall  f1-score   support\n",
      "\n",
      "      Female       0.96      0.98      0.97      1991\n",
      "        Male       0.98      0.96      0.97      2001\n",
      "\n",
      "    accuracy                           0.97      3992\n",
      "   macro avg       0.97      0.97      0.97      3992\n",
      "weighted avg       0.97      0.97      0.97      3992\n",
      "\n",
      "              precision    recall  f1-score   support\n",
      "\n",
      "      Female       0.96      0.97      0.97       504\n",
      "        Male       0.97      0.96      0.96       495\n",
      "\n",
      "    accuracy                           0.96       999\n",
      "   macro avg       0.96      0.96      0.96       999\n",
      "weighted avg       0.96      0.96      0.96       999\n",
      "\n"
     ]
    }
   ],
   "source": [
    "y_prediction_train_knn = knn.predict(X_train_cap)\n",
    "y_prediction_test_knn = knn.predict(X_test)\n",
    "\n",
    "print(classification_report(y_train, y_prediction_train_knn))\n",
    "print(classification_report(y_test, y_prediction_test_knn))"
   ]
  },
  {
   "cell_type": "markdown",
   "metadata": {},
   "source": [
    "* Naive Bayes"
   ]
  },
  {
   "cell_type": "code",
   "execution_count": 68,
   "metadata": {},
   "outputs": [
    {
     "name": "stdout",
     "output_type": "stream",
     "text": [
      "              precision    recall  f1-score   support\n",
      "\n",
      "      Female       0.97      0.97      0.97      1991\n",
      "        Male       0.97      0.97      0.97      2001\n",
      "\n",
      "    accuracy                           0.97      3992\n",
      "   macro avg       0.97      0.97      0.97      3992\n",
      "weighted avg       0.97      0.97      0.97      3992\n",
      "\n",
      "              precision    recall  f1-score   support\n",
      "\n",
      "      Female       0.96      0.98      0.97       504\n",
      "        Male       0.98      0.96      0.97       495\n",
      "\n",
      "    accuracy                           0.97       999\n",
      "   macro avg       0.97      0.97      0.97       999\n",
      "weighted avg       0.97      0.97      0.97       999\n",
      "\n"
     ]
    }
   ],
   "source": [
    "y_pred_train_naive = nb.predict(X_train_cap)\n",
    "y_pred_test_naive = nb.predict(X_test)\n",
    "\n",
    "print(classification_report(y_train, y_pred_train_naive))\n",
    "print(classification_report(y_test, y_pred_test_naive))"
   ]
  },
  {
   "cell_type": "markdown",
   "metadata": {},
   "source": [
    "### <strong>Hyperparameter Tuned GridSearch CV<strong>\n",
    "\n",
    "---"
   ]
  },
  {
   "cell_type": "code",
   "execution_count": 69,
   "metadata": {},
   "outputs": [],
   "source": [
    "from sklearn.model_selection import GridSearchCV"
   ]
  },
  {
   "cell_type": "code",
   "execution_count": 70,
   "metadata": {},
   "outputs": [],
   "source": [
    "parameters_logreg = { 'classifier__penalty': ['l1', 'l2','none'],\n",
    "                  'classifier__C' : [0.001, 0.01, 0.1, 1],\n",
    "                  'classifier__solver': ['liblinear', 'newton-cg', 'lbfgs']\n",
    "                }\n",
    "\n",
    "parameters_svm = {'classifier__kernel': ['rbf'],\n",
    "                  'classifier__C' : [0.001, 0.01],\n",
    "                  'classifier__gamma' : [0.001, 0.01],\n",
    "                }\n",
    "\n",
    "parameters_tree = {'classifier__criterion':['gini','entropy'],\n",
    "              'classifier__max_depth':np.arange(2,8),\n",
    "              'classifier__min_samples_split':np.arange(2,8),\n",
    "              'classifier__min_samples_leaf':np.arange(2,8),\n",
    "              'classifier__max_features':['auto','sqrt','log2']\n",
    "              }\n",
    "\n",
    "parameters_forest = {'classifier__criterion': ['gini','entropy'],\n",
    "                  'classifier__max_depth':np.arange(2,8),\n",
    "                  'classifier__max_features':['auto','sqrt','log2'],\n",
    "                  'classifier__n_estimators' : [100,200,300] \n",
    "                   }\n",
    "\n",
    "parameters_knn = {'classifier__n_neighbors' : [3,5,7],\n",
    "              'classifier__weights': ['uniform','distance'],\n",
    "                }\n",
    "\n",
    "\n",
    "parameters_naive = {'classifier__priors': [None],\n",
    "                  'classifier__var_smoothing' : [0.00000001, 0.000000001, 0.00000001]\n",
    "                }"
   ]
  },
  {
   "cell_type": "code",
   "execution_count": 71,
   "metadata": {},
   "outputs": [],
   "source": [
    "tuning_evaluation_metrics = pd.DataFrame(columns=['Model', 'f1-score(No, Train)', 'f1-score(Yes, Train)', 'f1-score(No, Test)', 'f1-score(Yes, Test)', 'recall(Yes, Train)', 'recall(Yes, Test)'])"
   ]
  },
  {
   "cell_type": "markdown",
   "metadata": {},
   "source": [
    "* Logistic Regression"
   ]
  },
  {
   "cell_type": "code",
   "execution_count": 72,
   "metadata": {},
   "outputs": [],
   "source": [
    "grid_log = GridSearchCV(pipe_logreg,parameters_logreg,cv = 5).fit(X_train_cap,y_train)"
   ]
  },
  {
   "cell_type": "code",
   "execution_count": 73,
   "metadata": {},
   "outputs": [
    {
     "name": "stdout",
     "output_type": "stream",
     "text": [
      "Training set score: 0.9671843687374749\n",
      "Test set score: 0.973973973973974\n"
     ]
    }
   ],
   "source": [
    "print('Training set score: ' + str(grid_log.score(X_train_cap, y_train)))\n",
    "print('Test set score: ' + str(grid_log.score(X_test, y_test)))"
   ]
  },
  {
   "cell_type": "code",
   "execution_count": 74,
   "metadata": {},
   "outputs": [
    {
     "data": {
      "text/plain": [
       "{'classifier__C': 0.001,\n",
       " 'classifier__penalty': 'l1',\n",
       " 'classifier__solver': 'liblinear'}"
      ]
     },
     "execution_count": 74,
     "metadata": {},
     "output_type": "execute_result"
    }
   ],
   "source": [
    "grid_log.best_params_"
   ]
  },
  {
   "cell_type": "code",
   "execution_count": 75,
   "metadata": {},
   "outputs": [
    {
     "data": {
      "text/plain": [
       "0.9676842293468338"
      ]
     },
     "execution_count": 75,
     "metadata": {},
     "output_type": "execute_result"
    }
   ],
   "source": [
    "grid_log.best_score_"
   ]
  },
  {
   "cell_type": "code",
   "execution_count": 76,
   "metadata": {},
   "outputs": [
    {
     "data": {
      "text/plain": [
       "Pipeline(steps=[('preprocessing',\n",
       "                 ColumnTransformer(transformers=[('num',\n",
       "                                                  Pipeline(steps=[('scaling',\n",
       "                                                                   MinMaxScaler())]),\n",
       "                                                  ['long_hair',\n",
       "                                                   'forehead_width_cm',\n",
       "                                                   'forehead_height_cm',\n",
       "                                                   'nose_wide', 'nose_long',\n",
       "                                                   'lips_thin',\n",
       "                                                   'distance_nose_to_lip_long']),\n",
       "                                                 ('cat',\n",
       "                                                  Pipeline(steps=[('encoded',\n",
       "                                                                   OrdinalEncoder())]),\n",
       "                                                  [])])),\n",
       "                ('pca', PCA(n_components=0.95)),\n",
       "                ('classifier',\n",
       "                 LogisticRegression(C=0.001, penalty='l1', random_state=25,\n",
       "                                    solver='liblinear'))])"
      ]
     },
     "execution_count": 76,
     "metadata": {},
     "output_type": "execute_result"
    }
   ],
   "source": [
    "log_reg_best = grid_log.best_estimator_\n",
    "log_reg_best"
   ]
  },
  {
   "cell_type": "code",
   "execution_count": 77,
   "metadata": {},
   "outputs": [
    {
     "name": "stdout",
     "output_type": "stream",
     "text": [
      "              precision    recall  f1-score   support\n",
      "\n",
      "      Female       0.97      0.97      0.97      1991\n",
      "        Male       0.97      0.97      0.97      2001\n",
      "\n",
      "    accuracy                           0.97      3992\n",
      "   macro avg       0.97      0.97      0.97      3992\n",
      "weighted avg       0.97      0.97      0.97      3992\n",
      "\n",
      "              precision    recall  f1-score   support\n",
      "\n",
      "      Female       0.97      0.98      0.97       504\n",
      "        Male       0.98      0.97      0.97       495\n",
      "\n",
      "    accuracy                           0.97       999\n",
      "   macro avg       0.97      0.97      0.97       999\n",
      "weighted avg       0.97      0.97      0.97       999\n",
      "\n"
     ]
    }
   ],
   "source": [
    "y_pred_train_tuning_logreg = log_reg_best.predict(X_train_cap)\n",
    "y_pred_test_tuning_logreg = log_reg_best.predict(X_test)\n",
    "\n",
    "print(classification_report(y_train, y_pred_train_tuning_logreg))\n",
    "print(classification_report(y_test, y_pred_test_tuning_logreg))"
   ]
  },
  {
   "cell_type": "code",
   "execution_count": 78,
   "metadata": {},
   "outputs": [],
   "source": [
    "tuning_evaluation_metrics.loc[0] = ['logreg_tuned',0.97,0.97,0.97,0.97,0.97,0.97]"
   ]
  },
  {
   "cell_type": "code",
   "execution_count": 79,
   "metadata": {},
   "outputs": [
    {
     "data": {
      "image/png": "[encoded data removed]",
      "text/plain": [
       "<Figure size 648x504 with 2 Axes>"
      ]
     },
     "metadata": {},
     "output_type": "display_data"
    }
   ],
   "source": [
    "cf_matrix_log =  confusion_matrix(y_test,y_pred_test_tuning_logreg)\n",
    "\n",
    "fig,ax = plt.subplots(figsize=(9,7))\n",
    "\n",
    "ax = sns.heatmap(cf_matrix_log, annot=True, cmap='Pastel2', fmt='g')\n",
    "ax.set_xticklabels([\"Negatif\", \"Positif\"])\n",
    "ax.set_yticklabels([\"Negatif\", \"Positif\"])\n",
    "plt.show()"
   ]
  },
  {
   "cell_type": "markdown",
   "metadata": {},
   "source": [
    "* Support Vector Machine"
   ]
  },
  {
   "cell_type": "code",
   "execution_count": 80,
   "metadata": {},
   "outputs": [],
   "source": [
    "grid_svm = GridSearchCV(pipe_svm,parameters_svm,cv = 5).fit(X_train_cap,y_train)"
   ]
  },
  {
   "cell_type": "code",
   "execution_count": 81,
   "metadata": {},
   "outputs": [
    {
     "name": "stdout",
     "output_type": "stream",
     "text": [
      "Training set score: 0.7993486973947895\n",
      "Test set score: 0.7777777777777778\n"
     ]
    }
   ],
   "source": [
    "print('Training set score: ' + str(grid_svm.score(X_train_cap, y_train)))\n",
    "print('Test set score: ' + str(grid_svm.score(X_test, y_test)))"
   ]
  },
  {
   "cell_type": "code",
   "execution_count": 82,
   "metadata": {},
   "outputs": [
    {
     "data": {
      "text/plain": [
       "{'classifier__C': 0.01, 'classifier__gamma': 0.01, 'classifier__kernel': 'rbf'}"
      ]
     },
     "execution_count": 82,
     "metadata": {},
     "output_type": "execute_result"
    }
   ],
   "source": [
    "grid_svm.best_params_"
   ]
  },
  {
   "cell_type": "code",
   "execution_count": 83,
   "metadata": {},
   "outputs": [
    {
     "data": {
      "text/plain": [
       "0.6482962725963846"
      ]
     },
     "execution_count": 83,
     "metadata": {},
     "output_type": "execute_result"
    }
   ],
   "source": [
    "grid_svm.best_score_"
   ]
  },
  {
   "cell_type": "code",
   "execution_count": 84,
   "metadata": {},
   "outputs": [
    {
     "data": {
      "text/plain": [
       "Pipeline(steps=[('preprocessing',\n",
       "                 ColumnTransformer(transformers=[('num',\n",
       "                                                  Pipeline(steps=[('scaling',\n",
       "                                                                   MinMaxScaler())]),\n",
       "                                                  ['long_hair',\n",
       "                                                   'forehead_width_cm',\n",
       "                                                   'forehead_height_cm',\n",
       "                                                   'nose_wide', 'nose_long',\n",
       "                                                   'lips_thin',\n",
       "                                                   'distance_nose_to_lip_long']),\n",
       "                                                 ('cat',\n",
       "                                                  Pipeline(steps=[('encoded',\n",
       "                                                                   OrdinalEncoder())]),\n",
       "                                                  [])])),\n",
       "                ('pca', PCA(n_components=0.95)),\n",
       "                ('classifier', SVC(C=0.01, gamma=0.01, random_state=25))])"
      ]
     },
     "execution_count": 84,
     "metadata": {},
     "output_type": "execute_result"
    }
   ],
   "source": [
    "svm_best = grid_svm.best_estimator_\n",
    "svm_best"
   ]
  },
  {
   "cell_type": "code",
   "execution_count": 85,
   "metadata": {},
   "outputs": [
    {
     "name": "stdout",
     "output_type": "stream",
     "text": [
      "              precision    recall  f1-score   support\n",
      "\n",
      "      Female       1.00      0.60      0.75      1991\n",
      "        Male       0.71      1.00      0.83      2001\n",
      "\n",
      "    accuracy                           0.80      3992\n",
      "   macro avg       0.86      0.80      0.79      3992\n",
      "weighted avg       0.86      0.80      0.79      3992\n",
      "\n",
      "              precision    recall  f1-score   support\n",
      "\n",
      "      Female       1.00      0.56      0.72       504\n",
      "        Male       0.69      1.00      0.82       495\n",
      "\n",
      "    accuracy                           0.78       999\n",
      "   macro avg       0.84      0.78      0.77       999\n",
      "weighted avg       0.85      0.78      0.77       999\n",
      "\n"
     ]
    }
   ],
   "source": [
    "y_pred_train_tuning_svm = svm_best.predict(X_train_cap)\n",
    "y_pred_test_tuning_svm = svm_best.predict(X_test)\n",
    "\n",
    "print(classification_report(y_train, y_pred_train_tuning_svm))\n",
    "print(classification_report(y_test, y_pred_test_tuning_svm))"
   ]
  },
  {
   "cell_type": "code",
   "execution_count": 86,
   "metadata": {},
   "outputs": [],
   "source": [
    "tuning_evaluation_metrics.loc[1] = ['svm_tuned',0.75,0.83,0.72,0.82,1.00,1.00]"
   ]
  },
  {
   "cell_type": "code",
   "execution_count": 87,
   "metadata": {},
   "outputs": [
    {
     "data": {
      "image/png": "[encoded data removed]",
      "text/plain": [
       "<Figure size 648x504 with 2 Axes>"
      ]
     },
     "metadata": {},
     "output_type": "display_data"
    }
   ],
   "source": [
    "cf_matrix_svm =  confusion_matrix(y_test,y_pred_test_tuning_svm)\n",
    "\n",
    "fig,ax = plt.subplots(figsize=(9,7))\n",
    "\n",
    "ax = sns.heatmap(cf_matrix_svm, annot=True,cmap='Pastel2', fmt='g')\n",
    "ax.set_xticklabels([\"Negatif\", \"Positif\"])\n",
    "ax.set_yticklabels([\"Negatif\", \"Positif\"])\n",
    "plt.show()"
   ]
  },
  {
   "cell_type": "markdown",
   "metadata": {},
   "source": [
    "* Decision Tree"
   ]
  },
  {
   "cell_type": "code",
   "execution_count": 88,
   "metadata": {},
   "outputs": [],
   "source": [
    "grid_tree = GridSearchCV(pipe_tree,parameters_tree,cv = 5).fit(X_train_cap,y_train)"
   ]
  },
  {
   "cell_type": "code",
   "execution_count": 89,
   "metadata": {},
   "outputs": [
    {
     "name": "stdout",
     "output_type": "stream",
     "text": [
      "Training set score: 0.9734468937875751\n",
      "Test set score: 0.974974974974975\n"
     ]
    }
   ],
   "source": [
    "print('Training set score: ' + str(grid_tree.score(X_train_cap, y_train)))\n",
    "print('Test set score: ' + str(grid_tree.score(X_test, y_test)))"
   ]
  },
  {
   "cell_type": "code",
   "execution_count": 90,
   "metadata": {},
   "outputs": [
    {
     "data": {
      "text/plain": [
       "{'classifier__criterion': 'gini',\n",
       " 'classifier__max_depth': 3,\n",
       " 'classifier__max_features': 'auto',\n",
       " 'classifier__min_samples_leaf': 2,\n",
       " 'classifier__min_samples_split': 2}"
      ]
     },
     "execution_count": 90,
     "metadata": {},
     "output_type": "execute_result"
    }
   ],
   "source": [
    "grid_tree.best_params_"
   ]
  },
  {
   "cell_type": "code",
   "execution_count": 91,
   "metadata": {},
   "outputs": [
    {
     "data": {
      "text/plain": [
       "0.97244487940753"
      ]
     },
     "execution_count": 91,
     "metadata": {},
     "output_type": "execute_result"
    }
   ],
   "source": [
    "grid_tree.best_score_"
   ]
  },
  {
   "cell_type": "code",
   "execution_count": 92,
   "metadata": {},
   "outputs": [
    {
     "data": {
      "text/plain": [
       "Pipeline(steps=[('preprocessing',\n",
       "                 ColumnTransformer(transformers=[('num',\n",
       "                                                  Pipeline(steps=[('scaling',\n",
       "                                                                   MinMaxScaler())]),\n",
       "                                                  ['long_hair',\n",
       "                                                   'forehead_width_cm',\n",
       "                                                   'forehead_height_cm',\n",
       "                                                   'nose_wide', 'nose_long',\n",
       "                                                   'lips_thin',\n",
       "                                                   'distance_nose_to_lip_long']),\n",
       "                                                 ('cat',\n",
       "                                                  Pipeline(steps=[('encoded',\n",
       "                                                                   OrdinalEncoder())]),\n",
       "                                                  [])])),\n",
       "                ('pca', PCA(n_components=0.95)),\n",
       "                ('classifier',\n",
       "                 DecisionTreeClassifier(max_depth=3, max_features='auto',\n",
       "                                        min_samples_leaf=2, random_state=25))])"
      ]
     },
     "execution_count": 92,
     "metadata": {},
     "output_type": "execute_result"
    }
   ],
   "source": [
    "tree_best = grid_tree.best_estimator_\n",
    "tree_best"
   ]
  },
  {
   "cell_type": "code",
   "execution_count": 93,
   "metadata": {},
   "outputs": [
    {
     "name": "stdout",
     "output_type": "stream",
     "text": [
      "              precision    recall  f1-score   support\n",
      "\n",
      "      Female       0.97      0.98      0.97      1991\n",
      "        Male       0.98      0.97      0.97      2001\n",
      "\n",
      "    accuracy                           0.97      3992\n",
      "   macro avg       0.97      0.97      0.97      3992\n",
      "weighted avg       0.97      0.97      0.97      3992\n",
      "\n",
      "              precision    recall  f1-score   support\n",
      "\n",
      "      Female       0.97      0.98      0.98       504\n",
      "        Male       0.98      0.97      0.97       495\n",
      "\n",
      "    accuracy                           0.97       999\n",
      "   macro avg       0.98      0.97      0.97       999\n",
      "weighted avg       0.98      0.97      0.97       999\n",
      "\n"
     ]
    }
   ],
   "source": [
    "y_pred_train_tuning_tree = tree_best.predict(X_train_cap)\n",
    "y_pred_test_tuning_tree = tree_best.predict(X_test)\n",
    "\n",
    "print(classification_report(y_train, y_pred_train_tuning_tree))\n",
    "print(classification_report(y_test, y_pred_test_tuning_tree))"
   ]
  },
  {
   "cell_type": "code",
   "execution_count": 94,
   "metadata": {},
   "outputs": [],
   "source": [
    "tuning_evaluation_metrics.loc[2] = ['tree_tuned',0.97,0.97,0.98,0.97,0.97,0.97]"
   ]
  },
  {
   "cell_type": "code",
   "execution_count": 95,
   "metadata": {},
   "outputs": [
    {
     "data": {
      "image/png": "[encoded data removed]",
      "text/plain": [
       "<Figure size 648x504 with 2 Axes>"
      ]
     },
     "metadata": {},
     "output_type": "display_data"
    }
   ],
   "source": [
    "cf_matrix_tree =  confusion_matrix(y_test,y_pred_test_tuning_tree)\n",
    "\n",
    "fig,ax = plt.subplots(figsize=(9,7))\n",
    "\n",
    "ax = sns.heatmap(cf_matrix_tree, annot=True,cmap='Pastel2', fmt='g')\n",
    "ax.set_xticklabels([\"Negatif\", \"Positif\"])\n",
    "ax.set_yticklabels([\"Negatif\", \"Positif\"])\n",
    "plt.show()"
   ]
  },
  {
   "cell_type": "markdown",
   "metadata": {},
   "source": [
    "* Random Forest"
   ]
  },
  {
   "cell_type": "code",
   "execution_count": 96,
   "metadata": {},
   "outputs": [],
   "source": [
    "grid_rf = GridSearchCV(pipe_ranfor,parameters_forest,cv = 5).fit(X_train_cap,y_train)"
   ]
  },
  {
   "cell_type": "code",
   "execution_count": 97,
   "metadata": {},
   "outputs": [
    {
     "name": "stdout",
     "output_type": "stream",
     "text": [
      "Training set score: 0.9754509018036072\n",
      "Test set score: 0.970970970970971\n"
     ]
    }
   ],
   "source": [
    "print('Training set score: ' + str(grid_rf.score(X_train_cap, y_train)))\n",
    "print('Test set score: ' + str(grid_rf.score(X_test, y_test)))"
   ]
  },
  {
   "cell_type": "code",
   "execution_count": 98,
   "metadata": {},
   "outputs": [
    {
     "data": {
      "text/plain": [
       "{'classifier__criterion': 'gini',\n",
       " 'classifier__max_depth': 4,\n",
       " 'classifier__max_features': 'auto',\n",
       " 'classifier__n_estimators': 200}"
      ]
     },
     "execution_count": 98,
     "metadata": {},
     "output_type": "execute_result"
    }
   ],
   "source": [
    "grid_rf.best_params_"
   ]
  },
  {
   "cell_type": "code",
   "execution_count": 99,
   "metadata": {},
   "outputs": [
    {
     "data": {
      "text/plain": [
       "0.9736964438630995"
      ]
     },
     "execution_count": 99,
     "metadata": {},
     "output_type": "execute_result"
    }
   ],
   "source": [
    "grid_rf.best_score_"
   ]
  },
  {
   "cell_type": "code",
   "execution_count": 100,
   "metadata": {},
   "outputs": [
    {
     "data": {
      "text/plain": [
       "Pipeline(steps=[('preprocessing',\n",
       "                 ColumnTransformer(transformers=[('num',\n",
       "                                                  Pipeline(steps=[('scaling',\n",
       "                                                                   MinMaxScaler())]),\n",
       "                                                  ['long_hair',\n",
       "                                                   'forehead_width_cm',\n",
       "                                                   'forehead_height_cm',\n",
       "                                                   'nose_wide', 'nose_long',\n",
       "                                                   'lips_thin',\n",
       "                                                   'distance_nose_to_lip_long']),\n",
       "                                                 ('cat',\n",
       "                                                  Pipeline(steps=[('encoded',\n",
       "                                                                   OrdinalEncoder())]),\n",
       "                                                  [])])),\n",
       "                ('pca', PCA(n_components=0.95)),\n",
       "                ('classifier',\n",
       "                 RandomForestClassifier(max_depth=4, n_estimators=200,\n",
       "                                        random_state=25))])"
      ]
     },
     "execution_count": 100,
     "metadata": {},
     "output_type": "execute_result"
    }
   ],
   "source": [
    "forest_best = grid_rf.best_estimator_\n",
    "forest_best"
   ]
  },
  {
   "cell_type": "code",
   "execution_count": 101,
   "metadata": {},
   "outputs": [
    {
     "name": "stdout",
     "output_type": "stream",
     "text": [
      "              precision    recall  f1-score   support\n",
      "\n",
      "      Female       0.97      0.98      0.98      1991\n",
      "        Male       0.98      0.97      0.98      2001\n",
      "\n",
      "    accuracy                           0.98      3992\n",
      "   macro avg       0.98      0.98      0.98      3992\n",
      "weighted avg       0.98      0.98      0.98      3992\n",
      "\n",
      "              precision    recall  f1-score   support\n",
      "\n",
      "      Female       0.96      0.98      0.97       504\n",
      "        Male       0.98      0.96      0.97       495\n",
      "\n",
      "    accuracy                           0.97       999\n",
      "   macro avg       0.97      0.97      0.97       999\n",
      "weighted avg       0.97      0.97      0.97       999\n",
      "\n"
     ]
    }
   ],
   "source": [
    "y_pred_train_tuning_forest = forest_best.predict(X_train_cap)\n",
    "y_pred_test_tuning_forest = forest_best.predict(X_test)\n",
    "\n",
    "print(classification_report(y_train, y_pred_train_tuning_forest))\n",
    "print(classification_report(y_test, y_pred_test_tuning_forest))"
   ]
  },
  {
   "cell_type": "code",
   "execution_count": 102,
   "metadata": {},
   "outputs": [],
   "source": [
    "tuning_evaluation_metrics.loc[3] = ['forest_tuned',0.98,0.98,0.97,0.97,0.97,0.96]"
   ]
  },
  {
   "cell_type": "code",
   "execution_count": 103,
   "metadata": {},
   "outputs": [
    {
     "data": {
      "image/png": "[encoded data removed]",
      "text/plain": [
       "<Figure size 648x504 with 2 Axes>"
      ]
     },
     "metadata": {},
     "output_type": "display_data"
    }
   ],
   "source": [
    "cf_matrix_forest =  confusion_matrix(y_test,y_pred_test_tuning_forest)\n",
    "\n",
    "fig,ax = plt.subplots(figsize=(9,7))\n",
    "\n",
    "ax = sns.heatmap(cf_matrix_forest, annot=True,cmap='Pastel2', fmt='g')\n",
    "ax.set_xticklabels([\"Negatif\", \"Positif\"])\n",
    "ax.set_yticklabels([\"Negatif\", \"Positif\"])\n",
    "plt.show()"
   ]
  },
  {
   "cell_type": "markdown",
   "metadata": {},
   "source": [
    "* KNN / K-Neighbors"
   ]
  },
  {
   "cell_type": "code",
   "execution_count": 104,
   "metadata": {},
   "outputs": [],
   "source": [
    "grid_knn = GridSearchCV(pipe_knn,parameters_knn,cv = 5).fit(X_train_cap,y_train)"
   ]
  },
  {
   "cell_type": "code",
   "execution_count": 105,
   "metadata": {},
   "outputs": [
    {
     "name": "stdout",
     "output_type": "stream",
     "text": [
      "Training set score: 0.9741983967935872\n",
      "Test set score: 0.968968968968969\n"
     ]
    }
   ],
   "source": [
    "print('Training set score: ' + str(grid_knn.score(X_train_cap, y_train)))\n",
    "print('Test set score: ' + str(grid_knn.score(X_test, y_test)))"
   ]
  },
  {
   "cell_type": "code",
   "execution_count": 106,
   "metadata": {},
   "outputs": [
    {
     "data": {
      "text/plain": [
       "{'classifier__n_neighbors': 7, 'classifier__weights': 'uniform'}"
      ]
     },
     "execution_count": 106,
     "metadata": {},
     "output_type": "execute_result"
    }
   ],
   "source": [
    "grid_knn.best_params_"
   ]
  },
  {
   "cell_type": "code",
   "execution_count": 107,
   "metadata": {},
   "outputs": [
    {
     "data": {
      "text/plain": [
       "0.9669336043487944"
      ]
     },
     "execution_count": 107,
     "metadata": {},
     "output_type": "execute_result"
    }
   ],
   "source": [
    "grid_knn.best_score_"
   ]
  },
  {
   "cell_type": "code",
   "execution_count": 108,
   "metadata": {},
   "outputs": [
    {
     "data": {
      "text/plain": [
       "Pipeline(steps=[('preprocessing',\n",
       "                 ColumnTransformer(transformers=[('num',\n",
       "                                                  Pipeline(steps=[('scaling',\n",
       "                                                                   MinMaxScaler())]),\n",
       "                                                  ['long_hair',\n",
       "                                                   'forehead_width_cm',\n",
       "                                                   'forehead_height_cm',\n",
       "                                                   'nose_wide', 'nose_long',\n",
       "                                                   'lips_thin',\n",
       "                                                   'distance_nose_to_lip_long']),\n",
       "                                                 ('cat',\n",
       "                                                  Pipeline(steps=[('encoded',\n",
       "                                                                   OrdinalEncoder())]),\n",
       "                                                  [])])),\n",
       "                ('pca', PCA(n_components=0.95)),\n",
       "                ('classifier', KNeighborsClassifier(n_neighbors=7))])"
      ]
     },
     "execution_count": 108,
     "metadata": {},
     "output_type": "execute_result"
    }
   ],
   "source": [
    "knn_best = grid_knn.best_estimator_\n",
    "knn_best"
   ]
  },
  {
   "cell_type": "code",
   "execution_count": 109,
   "metadata": {},
   "outputs": [
    {
     "name": "stdout",
     "output_type": "stream",
     "text": [
      "              precision    recall  f1-score   support\n",
      "\n",
      "      Female       0.97      0.98      0.97      1991\n",
      "        Male       0.98      0.97      0.97      2001\n",
      "\n",
      "    accuracy                           0.97      3992\n",
      "   macro avg       0.97      0.97      0.97      3992\n",
      "weighted avg       0.97      0.97      0.97      3992\n",
      "\n",
      "              precision    recall  f1-score   support\n",
      "\n",
      "      Female       0.96      0.98      0.97       504\n",
      "        Male       0.98      0.96      0.97       495\n",
      "\n",
      "    accuracy                           0.97       999\n",
      "   macro avg       0.97      0.97      0.97       999\n",
      "weighted avg       0.97      0.97      0.97       999\n",
      "\n"
     ]
    }
   ],
   "source": [
    "y_pred_train_tuning_knn = knn_best.predict(X_train_cap)\n",
    "y_pred_test_tuning_knn = knn_best.predict(X_test)\n",
    "\n",
    "print(classification_report(y_train, y_pred_train_tuning_knn))\n",
    "print(classification_report(y_test, y_pred_test_tuning_knn))"
   ]
  },
  {
   "cell_type": "code",
   "execution_count": 110,
   "metadata": {},
   "outputs": [],
   "source": [
    "tuning_evaluation_metrics.loc[4] = ['knn_tuned',0.97,0.97,0.97,0.97,0.97,0.96]"
   ]
  },
  {
   "cell_type": "code",
   "execution_count": 111,
   "metadata": {},
   "outputs": [
    {
     "data": {
      "image/png": "[encoded data removed]",
      "text/plain": [
       "<Figure size 648x504 with 2 Axes>"
      ]
     },
     "metadata": {},
     "output_type": "display_data"
    }
   ],
   "source": [
    "cf_matrix_knn =  confusion_matrix(y_test,y_pred_test_tuning_knn)\n",
    "\n",
    "fig,ax = plt.subplots(figsize=(9,7))\n",
    "\n",
    "ax = sns.heatmap(cf_matrix_knn, annot=True,cmap='Pastel2', fmt='g')\n",
    "ax.set_xticklabels([\"Negatif\", \"Positif\"])\n",
    "ax.set_yticklabels([\"Negatif\", \"Positif\"])\n",
    "plt.show()"
   ]
  },
  {
   "cell_type": "markdown",
   "metadata": {},
   "source": [
    "* Naive Bayes"
   ]
  },
  {
   "cell_type": "code",
   "execution_count": 112,
   "metadata": {},
   "outputs": [],
   "source": [
    "grid_nb = GridSearchCV(pipe_naive,parameters_naive,cv = 5).fit(X_train_cap,y_train)"
   ]
  },
  {
   "cell_type": "code",
   "execution_count": 113,
   "metadata": {},
   "outputs": [
    {
     "name": "stdout",
     "output_type": "stream",
     "text": [
      "Training set score: 0.968687374749499\n",
      "Test set score: 0.972972972972973\n"
     ]
    }
   ],
   "source": [
    "print('Training set score: ' + str(grid_nb.score(X_train_cap, y_train)))\n",
    "print('Test set score: ' + str(grid_nb.score(X_test, y_test)))"
   ]
  },
  {
   "cell_type": "code",
   "execution_count": 114,
   "metadata": {},
   "outputs": [
    {
     "data": {
      "text/plain": [
       "{'classifier__priors': None, 'classifier__var_smoothing': 1e-08}"
      ]
     },
     "execution_count": 114,
     "metadata": {},
     "output_type": "execute_result"
    }
   ],
   "source": [
    "grid_nb.best_params_"
   ]
  },
  {
   "cell_type": "code",
   "execution_count": 115,
   "metadata": {},
   "outputs": [
    {
     "data": {
      "text/plain": [
       "0.96968892820286"
      ]
     },
     "execution_count": 115,
     "metadata": {},
     "output_type": "execute_result"
    }
   ],
   "source": [
    "grid_nb.best_score_"
   ]
  },
  {
   "cell_type": "code",
   "execution_count": 116,
   "metadata": {},
   "outputs": [
    {
     "data": {
      "text/plain": [
       "Pipeline(steps=[('preprocessing',\n",
       "                 ColumnTransformer(transformers=[('num',\n",
       "                                                  Pipeline(steps=[('scaling',\n",
       "                                                                   MinMaxScaler())]),\n",
       "                                                  ['long_hair',\n",
       "                                                   'forehead_width_cm',\n",
       "                                                   'forehead_height_cm',\n",
       "                                                   'nose_wide', 'nose_long',\n",
       "                                                   'lips_thin',\n",
       "                                                   'distance_nose_to_lip_long']),\n",
       "                                                 ('cat',\n",
       "                                                  Pipeline(steps=[('encoded',\n",
       "                                                                   OrdinalEncoder())]),\n",
       "                                                  [])])),\n",
       "                ('pca', PCA(n_components=0.95)),\n",
       "                ('classifier', GaussianNB(var_smoothing=1e-08))])"
      ]
     },
     "execution_count": 116,
     "metadata": {},
     "output_type": "execute_result"
    }
   ],
   "source": [
    "naive_best = grid_nb.best_estimator_\n",
    "naive_best"
   ]
  },
  {
   "cell_type": "code",
   "execution_count": 117,
   "metadata": {},
   "outputs": [
    {
     "name": "stdout",
     "output_type": "stream",
     "text": [
      "              precision    recall  f1-score   support\n",
      "\n",
      "      Female       0.97      0.97      0.97      1991\n",
      "        Male       0.97      0.97      0.97      2001\n",
      "\n",
      "    accuracy                           0.97      3992\n",
      "   macro avg       0.97      0.97      0.97      3992\n",
      "weighted avg       0.97      0.97      0.97      3992\n",
      "\n",
      "              precision    recall  f1-score   support\n",
      "\n",
      "      Female       0.96      0.98      0.97       504\n",
      "        Male       0.98      0.96      0.97       495\n",
      "\n",
      "    accuracy                           0.97       999\n",
      "   macro avg       0.97      0.97      0.97       999\n",
      "weighted avg       0.97      0.97      0.97       999\n",
      "\n"
     ]
    }
   ],
   "source": [
    "y_pred_train_tuning_naive = naive_best.predict(X_train_cap)\n",
    "y_pred_test_tuning_naive = naive_best.predict(X_test)\n",
    "\n",
    "print(classification_report(y_train, y_pred_train_naive))\n",
    "print(classification_report(y_test, y_pred_test_tuning_naive))"
   ]
  },
  {
   "cell_type": "code",
   "execution_count": 118,
   "metadata": {},
   "outputs": [],
   "source": [
    "tuning_evaluation_metrics.loc[5] = ['naive_tuned',0.97,0.97,0.97,0.97,0.97,0.96]"
   ]
  },
  {
   "cell_type": "code",
   "execution_count": 119,
   "metadata": {},
   "outputs": [
    {
     "data": {
      "image/png": "[encoded data removed]",
      "text/plain": [
       "<Figure size 648x504 with 2 Axes>"
      ]
     },
     "metadata": {},
     "output_type": "display_data"
    }
   ],
   "source": [
    "cf_matrix_naive =  confusion_matrix(y_test,y_pred_test_tuning_naive)\n",
    "\n",
    "fig,ax = plt.subplots(figsize=(9,7))\n",
    "\n",
    "ax = sns.heatmap(cf_matrix_naive, annot=True,cmap='Pastel2', fmt='g')\n",
    "ax.set_xticklabels([\"Negatif\", \"Positif\"])\n",
    "ax.set_yticklabels([\"Negatif\", \"Positif\"])\n",
    "plt.show()"
   ]
  },
  {
   "cell_type": "code",
   "execution_count": 120,
   "metadata": {},
   "outputs": [
    {
     "data": {
      "text/html": [
       "<div>\n",
       "<style scoped>\n",
       "    .dataframe tbody tr th:only-of-type {\n",
       "        vertical-align: middle;\n",
       "    }\n",
       "\n",
       "    .dataframe tbody tr th {\n",
       "        vertical-align: top;\n",
       "    }\n",
       "\n",
       "    .dataframe thead th {\n",
       "        text-align: right;\n",
       "    }\n",
       "</style>\n",
       "<table border=\"1\" class=\"dataframe\">\n",
       "  <thead>\n",
       "    <tr style=\"text-align: right;\">\n",
       "      <th></th>\n",
       "      <th>Model</th>\n",
       "      <th>f1-score(No, Train)</th>\n",
       "      <th>f1-score(Yes, Train)</th>\n",
       "      <th>f1-score(No, Test)</th>\n",
       "      <th>f1-score(Yes, Test)</th>\n",
       "      <th>recall(Yes, Train)</th>\n",
       "      <th>recall(Yes, Test)</th>\n",
       "    </tr>\n",
       "  </thead>\n",
       "  <tbody>\n",
       "    <tr>\n",
       "      <th>0</th>\n",
       "      <td>logreg_tuned</td>\n",
       "      <td>0.97</td>\n",
       "      <td>0.97</td>\n",
       "      <td>0.97</td>\n",
       "      <td>0.97</td>\n",
       "      <td>0.97</td>\n",
       "      <td>0.97</td>\n",
       "    </tr>\n",
       "    <tr>\n",
       "      <th>1</th>\n",
       "      <td>svm_tuned</td>\n",
       "      <td>0.75</td>\n",
       "      <td>0.83</td>\n",
       "      <td>0.72</td>\n",
       "      <td>0.82</td>\n",
       "      <td>1.00</td>\n",
       "      <td>1.00</td>\n",
       "    </tr>\n",
       "    <tr>\n",
       "      <th>2</th>\n",
       "      <td>tree_tuned</td>\n",
       "      <td>0.97</td>\n",
       "      <td>0.97</td>\n",
       "      <td>0.98</td>\n",
       "      <td>0.97</td>\n",
       "      <td>0.97</td>\n",
       "      <td>0.97</td>\n",
       "    </tr>\n",
       "    <tr>\n",
       "      <th>3</th>\n",
       "      <td>forest_tuned</td>\n",
       "      <td>0.98</td>\n",
       "      <td>0.98</td>\n",
       "      <td>0.97</td>\n",
       "      <td>0.97</td>\n",
       "      <td>0.97</td>\n",
       "      <td>0.96</td>\n",
       "    </tr>\n",
       "    <tr>\n",
       "      <th>4</th>\n",
       "      <td>knn_tuned</td>\n",
       "      <td>0.97</td>\n",
       "      <td>0.97</td>\n",
       "      <td>0.97</td>\n",
       "      <td>0.97</td>\n",
       "      <td>0.97</td>\n",
       "      <td>0.96</td>\n",
       "    </tr>\n",
       "    <tr>\n",
       "      <th>5</th>\n",
       "      <td>naive_tuned</td>\n",
       "      <td>0.97</td>\n",
       "      <td>0.97</td>\n",
       "      <td>0.97</td>\n",
       "      <td>0.97</td>\n",
       "      <td>0.97</td>\n",
       "      <td>0.96</td>\n",
       "    </tr>\n",
       "  </tbody>\n",
       "</table>\n",
       "</div>"
      ],
      "text/plain": [
       "          Model  f1-score(No, Train)  f1-score(Yes, Train)  \\\n",
       "0  logreg_tuned                 0.97                  0.97   \n",
       "1     svm_tuned                 0.75                  0.83   \n",
       "2    tree_tuned                 0.97                  0.97   \n",
       "3  forest_tuned                 0.98                  0.98   \n",
       "4     knn_tuned                 0.97                  0.97   \n",
       "5   naive_tuned                 0.97                  0.97   \n",
       "\n",
       "   f1-score(No, Test)  f1-score(Yes, Test)  recall(Yes, Train)  \\\n",
       "0                0.97                 0.97                0.97   \n",
       "1                0.72                 0.82                1.00   \n",
       "2                0.98                 0.97                0.97   \n",
       "3                0.97                 0.97                0.97   \n",
       "4                0.97                 0.97                0.97   \n",
       "5                0.97                 0.97                0.97   \n",
       "\n",
       "   recall(Yes, Test)  \n",
       "0               0.97  \n",
       "1               1.00  \n",
       "2               0.97  \n",
       "3               0.96  \n",
       "4               0.96  \n",
       "5               0.96  "
      ]
     },
     "execution_count": 120,
     "metadata": {},
     "output_type": "execute_result"
    }
   ],
   "source": [
    "tuning_evaluation_metrics"
   ]
  },
  {
   "cell_type": "markdown",
   "metadata": {},
   "source": [
    "From this dataset i will make '6 Models',\n",
    "\n",
    "* 'Logistics' : model for **Logistic Regression**\n",
    "* 'SVC' : model for **Support Vector Classifier**\n",
    "* 'Tree' : model for **Decision Tree**\n",
    "* 'Forest' : model for **Random Forest**\n",
    "* 'KNN' : model for **K*Nearest Neighbors**\n",
    "* 'Naive' : model for **Naive Bayes**\n",
    "\n",
    "and then the models will be tuned with 'GridSearchCSV'."
   ]
  },
  {
   "cell_type": "markdown",
   "metadata": {},
   "source": [
    "<h3>*Notes:\n",
    "\n",
    "\n",
    "- I choose the model based on my consideration of the 'recall' value. After conducting a model evaluation, the results of the 'svm' model produce a high recall value, both train and test are 100%, but i'm worry about data leakage if the value of the model is 100%, yes perfect. because the dataset I'm using doesn't occur in real cases, so I think it's not a problem.\n",
    "\n",
    "- The 'svm' model is also able to detect the value of TP (True Positive) so the model places a positive label in a positive group, the 'svm' model only 1 incorrectly groups it into FN (False Negative) where maybe this gender already has features according to features but isn't detected whether male or female. but, once again it's not a problem because this doesn't happen in real cases.\n",
    "\n",
    "- Then I also consider that the 'logistic regression' model produces train and test values ​​at 'f1-score' and 'recall' which are quite stable at 97% and the 'random forest' model produces 98% train values ​​and the test is 97% not too many decreases. however, these two models are more likely to misclassify the target that should have been in accordance with the features but not detected by the model and become FN (False Negative) so i didn't know whether the gender is 'male' / 'female'. but not a consideration for me because this doesn't happen in real cases.</h3>"
   ]
  },
  {
   "cell_type": "markdown",
   "metadata": {},
   "source": [
    "*Note: \n",
    "- Saya akan memilih model berdasarkan pertimbangan nilai 'recall'. Setelah melakukan model evaluation hasilnya model 'svm' menghasilkan nilai recall yang tinggi baik train dan test nya 100% namun mungkin di khawatirkan adanya kebocoran data apabila nilai dari model 100%. karena dataset yang saya gunakan bukan terjadi atas kasus nyata, menurut saya tidak masalah. \n",
    "\n",
    "- Model 'svm' juga mampu mendeteksi nilai TP (True Positive) jadi model menempatkan label positif dalam kelompok positif, model 'svm' hanya 1 salah mengelompokan jadi FN (False Negatif) dimana mungkin gender ini sudah memiliki ciri ciri sesuai fitur namun tidak terdeksi apakah pria atau wanita. tapi tidak terlalu menjadi pertimbangan karena ini bukan terjadi pada kasus nyata. \n",
    "\n",
    "- Kemudian saya juga mempertimbangkan bahwa model 'logistic regression' menghasilkan nilai train dan test pada'f1-score' dan 'recall' yang cukup stabil yaitu 97% dan model 'random forest' menghasilkan nilai train 98% dan test nya 97% tidak terjadi penuruan yang jauh. namun kedua model ini lebih banyak salah mengelompokan target yang seharusnya mungkin sudah sesuai feature namun tidak terdeteksi oleh model dan menjadi FN (False Negative) jadi tidak diketahui apakah gender nya masuk kategori pria / wanita. namun kembali lagi tidak menjadi pertimbangan karena ini bukan terjadi pada kasus nyata. "
   ]
  },
  {
   "cell_type": "markdown",
   "metadata": {},
   "source": [
    "##### Save pkl file"
   ]
  },
  {
   "cell_type": "code",
   "execution_count": 121,
   "metadata": {},
   "outputs": [],
   "source": [
    "with open(\"pipe.pkl\", \"wb\") as a:\n",
    "    pickle.dump(svm_best, a)"
   ]
  },
  {
   "cell_type": "markdown",
   "metadata": {},
   "source": [
    "### Model Inference\n",
    "\n",
    "##### The model that has been trained will be tested on data that is not included in the train-set or test-set. This data must be in the original format, not scaled data.\n",
    "---"
   ]
  },
  {
   "cell_type": "code",
   "execution_count": 122,
   "metadata": {},
   "outputs": [
    {
     "data": {
      "text/html": [
       "<div>\n",
       "<style scoped>\n",
       "    .dataframe tbody tr th:only-of-type {\n",
       "        vertical-align: middle;\n",
       "    }\n",
       "\n",
       "    .dataframe tbody tr th {\n",
       "        vertical-align: top;\n",
       "    }\n",
       "\n",
       "    .dataframe thead th {\n",
       "        text-align: right;\n",
       "    }\n",
       "</style>\n",
       "<table border=\"1\" class=\"dataframe\">\n",
       "  <thead>\n",
       "    <tr style=\"text-align: right;\">\n",
       "      <th></th>\n",
       "      <th>long_hair</th>\n",
       "      <th>forehead_width_cm</th>\n",
       "      <th>forehead_height_cm</th>\n",
       "      <th>nose_wide</th>\n",
       "      <th>nose_long</th>\n",
       "      <th>lips_thin</th>\n",
       "      <th>distance_nose_to_lip_long</th>\n",
       "      <th>width_limit</th>\n",
       "      <th>height_limit</th>\n",
       "    </tr>\n",
       "  </thead>\n",
       "  <tbody>\n",
       "    <tr>\n",
       "      <th>0</th>\n",
       "      <td>1</td>\n",
       "      <td>13.4</td>\n",
       "      <td>5.7</td>\n",
       "      <td>0</td>\n",
       "      <td>0</td>\n",
       "      <td>0</td>\n",
       "      <td>0</td>\n",
       "      <td>&lt;= 14</td>\n",
       "      <td>&lt;= 6</td>\n",
       "    </tr>\n",
       "    <tr>\n",
       "      <th>1</th>\n",
       "      <td>1</td>\n",
       "      <td>14.2</td>\n",
       "      <td>5.7</td>\n",
       "      <td>0</td>\n",
       "      <td>1</td>\n",
       "      <td>0</td>\n",
       "      <td>1</td>\n",
       "      <td>&lt;= 15</td>\n",
       "      <td>&lt;= 6</td>\n",
       "    </tr>\n",
       "    <tr>\n",
       "      <th>2</th>\n",
       "      <td>1</td>\n",
       "      <td>13.2</td>\n",
       "      <td>7.1</td>\n",
       "      <td>0</td>\n",
       "      <td>1</td>\n",
       "      <td>1</td>\n",
       "      <td>0</td>\n",
       "      <td>&lt;= 14</td>\n",
       "      <td>&lt;= 7.5</td>\n",
       "    </tr>\n",
       "    <tr>\n",
       "      <th>3</th>\n",
       "      <td>1</td>\n",
       "      <td>12.5</td>\n",
       "      <td>5.6</td>\n",
       "      <td>0</td>\n",
       "      <td>0</td>\n",
       "      <td>0</td>\n",
       "      <td>0</td>\n",
       "      <td>&lt;= 13</td>\n",
       "      <td>&lt;= 6</td>\n",
       "    </tr>\n",
       "    <tr>\n",
       "      <th>4</th>\n",
       "      <td>1</td>\n",
       "      <td>14.5</td>\n",
       "      <td>6.6</td>\n",
       "      <td>1</td>\n",
       "      <td>1</td>\n",
       "      <td>0</td>\n",
       "      <td>1</td>\n",
       "      <td>&lt;= 15</td>\n",
       "      <td>&lt;= 7</td>\n",
       "    </tr>\n",
       "    <tr>\n",
       "      <th>5</th>\n",
       "      <td>1</td>\n",
       "      <td>14.3</td>\n",
       "      <td>5.3</td>\n",
       "      <td>0</td>\n",
       "      <td>0</td>\n",
       "      <td>0</td>\n",
       "      <td>1</td>\n",
       "      <td>&lt;= 15</td>\n",
       "      <td>&lt;= 5.5</td>\n",
       "    </tr>\n",
       "    <tr>\n",
       "      <th>6</th>\n",
       "      <td>1</td>\n",
       "      <td>12.5</td>\n",
       "      <td>6.2</td>\n",
       "      <td>0</td>\n",
       "      <td>0</td>\n",
       "      <td>0</td>\n",
       "      <td>0</td>\n",
       "      <td>&lt;= 13</td>\n",
       "      <td>&lt;= 6.5</td>\n",
       "    </tr>\n",
       "    <tr>\n",
       "      <th>7</th>\n",
       "      <td>1</td>\n",
       "      <td>13.9</td>\n",
       "      <td>6.2</td>\n",
       "      <td>0</td>\n",
       "      <td>0</td>\n",
       "      <td>1</td>\n",
       "      <td>1</td>\n",
       "      <td>&lt;= 14</td>\n",
       "      <td>&lt;= 6.5</td>\n",
       "    </tr>\n",
       "    <tr>\n",
       "      <th>8</th>\n",
       "      <td>1</td>\n",
       "      <td>14.7</td>\n",
       "      <td>7.0</td>\n",
       "      <td>0</td>\n",
       "      <td>0</td>\n",
       "      <td>1</td>\n",
       "      <td>1</td>\n",
       "      <td>&lt;= 15</td>\n",
       "      <td>&lt;= 7</td>\n",
       "    </tr>\n",
       "    <tr>\n",
       "      <th>9</th>\n",
       "      <td>1</td>\n",
       "      <td>13.7</td>\n",
       "      <td>6.9</td>\n",
       "      <td>1</td>\n",
       "      <td>1</td>\n",
       "      <td>1</td>\n",
       "      <td>1</td>\n",
       "      <td>&lt;= 14</td>\n",
       "      <td>&lt;= 7</td>\n",
       "    </tr>\n",
       "  </tbody>\n",
       "</table>\n",
       "</div>"
      ],
      "text/plain": [
       "   long_hair  forehead_width_cm  forehead_height_cm  nose_wide  nose_long  \\\n",
       "0          1               13.4                 5.7          0          0   \n",
       "1          1               14.2                 5.7          0          1   \n",
       "2          1               13.2                 7.1          0          1   \n",
       "3          1               12.5                 5.6          0          0   \n",
       "4          1               14.5                 6.6          1          1   \n",
       "5          1               14.3                 5.3          0          0   \n",
       "6          1               12.5                 6.2          0          0   \n",
       "7          1               13.9                 6.2          0          0   \n",
       "8          1               14.7                 7.0          0          0   \n",
       "9          1               13.7                 6.9          1          1   \n",
       "\n",
       "   lips_thin  distance_nose_to_lip_long width_limit height_limit  \n",
       "0          0                          0       <= 14         <= 6  \n",
       "1          0                          1       <= 15         <= 6  \n",
       "2          1                          0       <= 14       <= 7.5  \n",
       "3          0                          0       <= 13         <= 6  \n",
       "4          0                          1       <= 15         <= 7  \n",
       "5          0                          1       <= 15       <= 5.5  \n",
       "6          0                          0       <= 13       <= 6.5  \n",
       "7          1                          1       <= 14       <= 6.5  \n",
       "8          1                          1       <= 15         <= 7  \n",
       "9          1                          1       <= 14         <= 7  "
      ]
     },
     "execution_count": 122,
     "metadata": {},
     "output_type": "execute_result"
    }
   ],
   "source": [
    "column = X_train_cap.columns\n",
    "\n",
    "df_inf = df_inf[column]\n",
    "\n",
    "df_inf.reset_index(drop=True,inplace=True)\n",
    "\n",
    "df_inf"
   ]
  },
  {
   "cell_type": "code",
   "execution_count": 123,
   "metadata": {},
   "outputs": [],
   "source": [
    "#load file pkl\n",
    "\n",
    "with open(\"pipe.pkl\", \"rb\") as a:\n",
    "    pipeline = pickle.load(a)"
   ]
  },
  {
   "cell_type": "code",
   "execution_count": 124,
   "metadata": {},
   "outputs": [
    {
     "data": {
      "text/html": [
       "<div>\n",
       "<style scoped>\n",
       "    .dataframe tbody tr th:only-of-type {\n",
       "        vertical-align: middle;\n",
       "    }\n",
       "\n",
       "    .dataframe tbody tr th {\n",
       "        vertical-align: top;\n",
       "    }\n",
       "\n",
       "    .dataframe thead th {\n",
       "        text-align: right;\n",
       "    }\n",
       "</style>\n",
       "<table border=\"1\" class=\"dataframe\">\n",
       "  <thead>\n",
       "    <tr style=\"text-align: right;\">\n",
       "      <th></th>\n",
       "      <th>Gender Prediction</th>\n",
       "    </tr>\n",
       "  </thead>\n",
       "  <tbody>\n",
       "    <tr>\n",
       "      <th>0</th>\n",
       "      <td>Female</td>\n",
       "    </tr>\n",
       "    <tr>\n",
       "      <th>1</th>\n",
       "      <td>Male</td>\n",
       "    </tr>\n",
       "    <tr>\n",
       "      <th>2</th>\n",
       "      <td>Male</td>\n",
       "    </tr>\n",
       "    <tr>\n",
       "      <th>3</th>\n",
       "      <td>Female</td>\n",
       "    </tr>\n",
       "    <tr>\n",
       "      <th>4</th>\n",
       "      <td>Male</td>\n",
       "    </tr>\n",
       "    <tr>\n",
       "      <th>5</th>\n",
       "      <td>Male</td>\n",
       "    </tr>\n",
       "    <tr>\n",
       "      <th>6</th>\n",
       "      <td>Female</td>\n",
       "    </tr>\n",
       "    <tr>\n",
       "      <th>7</th>\n",
       "      <td>Male</td>\n",
       "    </tr>\n",
       "    <tr>\n",
       "      <th>8</th>\n",
       "      <td>Male</td>\n",
       "    </tr>\n",
       "    <tr>\n",
       "      <th>9</th>\n",
       "      <td>Male</td>\n",
       "    </tr>\n",
       "  </tbody>\n",
       "</table>\n",
       "</div>"
      ],
      "text/plain": [
       "  Gender Prediction\n",
       "0            Female\n",
       "1              Male\n",
       "2              Male\n",
       "3            Female\n",
       "4              Male\n",
       "5              Male\n",
       "6            Female\n",
       "7              Male\n",
       "8              Male\n",
       "9              Male"
      ]
     },
     "execution_count": 124,
     "metadata": {},
     "output_type": "execute_result"
    }
   ],
   "source": [
    "# Prediksi menggunakan model svm dengan parameter terbaik\n",
    "\n",
    "y_pred_inf = pipeline.predict(df_inf)\n",
    "y_pred_inf = pd.DataFrame(y_pred_inf, columns=['Gender Prediction'])\n",
    "y_pred_inf"
   ]
  },
  {
   "cell_type": "code",
   "execution_count": 125,
   "metadata": {},
   "outputs": [],
   "source": [
    "# Menggabungkan prediksi dengan data_inf\n",
    "data_akhir = pd.concat([df_inf, y_pred_inf], axis=1)"
   ]
  },
  {
   "cell_type": "code",
   "execution_count": 126,
   "metadata": {},
   "outputs": [
    {
     "data": {
      "text/html": [
       "<div>\n",
       "<style scoped>\n",
       "    .dataframe tbody tr th:only-of-type {\n",
       "        vertical-align: middle;\n",
       "    }\n",
       "\n",
       "    .dataframe tbody tr th {\n",
       "        vertical-align: top;\n",
       "    }\n",
       "\n",
       "    .dataframe thead th {\n",
       "        text-align: right;\n",
       "    }\n",
       "</style>\n",
       "<table border=\"1\" class=\"dataframe\">\n",
       "  <thead>\n",
       "    <tr style=\"text-align: right;\">\n",
       "      <th></th>\n",
       "      <th>long_hair</th>\n",
       "      <th>forehead_width_cm</th>\n",
       "      <th>forehead_height_cm</th>\n",
       "      <th>nose_wide</th>\n",
       "      <th>nose_long</th>\n",
       "      <th>lips_thin</th>\n",
       "      <th>distance_nose_to_lip_long</th>\n",
       "      <th>width_limit</th>\n",
       "      <th>height_limit</th>\n",
       "      <th>Gender Prediction</th>\n",
       "    </tr>\n",
       "  </thead>\n",
       "  <tbody>\n",
       "    <tr>\n",
       "      <th>0</th>\n",
       "      <td>1</td>\n",
       "      <td>13.4</td>\n",
       "      <td>5.7</td>\n",
       "      <td>0</td>\n",
       "      <td>0</td>\n",
       "      <td>0</td>\n",
       "      <td>0</td>\n",
       "      <td>&lt;= 14</td>\n",
       "      <td>&lt;= 6</td>\n",
       "      <td>Female</td>\n",
       "    </tr>\n",
       "    <tr>\n",
       "      <th>1</th>\n",
       "      <td>1</td>\n",
       "      <td>14.2</td>\n",
       "      <td>5.7</td>\n",
       "      <td>0</td>\n",
       "      <td>1</td>\n",
       "      <td>0</td>\n",
       "      <td>1</td>\n",
       "      <td>&lt;= 15</td>\n",
       "      <td>&lt;= 6</td>\n",
       "      <td>Male</td>\n",
       "    </tr>\n",
       "    <tr>\n",
       "      <th>2</th>\n",
       "      <td>1</td>\n",
       "      <td>13.2</td>\n",
       "      <td>7.1</td>\n",
       "      <td>0</td>\n",
       "      <td>1</td>\n",
       "      <td>1</td>\n",
       "      <td>0</td>\n",
       "      <td>&lt;= 14</td>\n",
       "      <td>&lt;= 7.5</td>\n",
       "      <td>Male</td>\n",
       "    </tr>\n",
       "    <tr>\n",
       "      <th>3</th>\n",
       "      <td>1</td>\n",
       "      <td>12.5</td>\n",
       "      <td>5.6</td>\n",
       "      <td>0</td>\n",
       "      <td>0</td>\n",
       "      <td>0</td>\n",
       "      <td>0</td>\n",
       "      <td>&lt;= 13</td>\n",
       "      <td>&lt;= 6</td>\n",
       "      <td>Female</td>\n",
       "    </tr>\n",
       "    <tr>\n",
       "      <th>4</th>\n",
       "      <td>1</td>\n",
       "      <td>14.5</td>\n",
       "      <td>6.6</td>\n",
       "      <td>1</td>\n",
       "      <td>1</td>\n",
       "      <td>0</td>\n",
       "      <td>1</td>\n",
       "      <td>&lt;= 15</td>\n",
       "      <td>&lt;= 7</td>\n",
       "      <td>Male</td>\n",
       "    </tr>\n",
       "    <tr>\n",
       "      <th>5</th>\n",
       "      <td>1</td>\n",
       "      <td>14.3</td>\n",
       "      <td>5.3</td>\n",
       "      <td>0</td>\n",
       "      <td>0</td>\n",
       "      <td>0</td>\n",
       "      <td>1</td>\n",
       "      <td>&lt;= 15</td>\n",
       "      <td>&lt;= 5.5</td>\n",
       "      <td>Male</td>\n",
       "    </tr>\n",
       "    <tr>\n",
       "      <th>6</th>\n",
       "      <td>1</td>\n",
       "      <td>12.5</td>\n",
       "      <td>6.2</td>\n",
       "      <td>0</td>\n",
       "      <td>0</td>\n",
       "      <td>0</td>\n",
       "      <td>0</td>\n",
       "      <td>&lt;= 13</td>\n",
       "      <td>&lt;= 6.5</td>\n",
       "      <td>Female</td>\n",
       "    </tr>\n",
       "    <tr>\n",
       "      <th>7</th>\n",
       "      <td>1</td>\n",
       "      <td>13.9</td>\n",
       "      <td>6.2</td>\n",
       "      <td>0</td>\n",
       "      <td>0</td>\n",
       "      <td>1</td>\n",
       "      <td>1</td>\n",
       "      <td>&lt;= 14</td>\n",
       "      <td>&lt;= 6.5</td>\n",
       "      <td>Male</td>\n",
       "    </tr>\n",
       "    <tr>\n",
       "      <th>8</th>\n",
       "      <td>1</td>\n",
       "      <td>14.7</td>\n",
       "      <td>7.0</td>\n",
       "      <td>0</td>\n",
       "      <td>0</td>\n",
       "      <td>1</td>\n",
       "      <td>1</td>\n",
       "      <td>&lt;= 15</td>\n",
       "      <td>&lt;= 7</td>\n",
       "      <td>Male</td>\n",
       "    </tr>\n",
       "    <tr>\n",
       "      <th>9</th>\n",
       "      <td>1</td>\n",
       "      <td>13.7</td>\n",
       "      <td>6.9</td>\n",
       "      <td>1</td>\n",
       "      <td>1</td>\n",
       "      <td>1</td>\n",
       "      <td>1</td>\n",
       "      <td>&lt;= 14</td>\n",
       "      <td>&lt;= 7</td>\n",
       "      <td>Male</td>\n",
       "    </tr>\n",
       "  </tbody>\n",
       "</table>\n",
       "</div>"
      ],
      "text/plain": [
       "   long_hair  forehead_width_cm  forehead_height_cm  nose_wide  nose_long  \\\n",
       "0          1               13.4                 5.7          0          0   \n",
       "1          1               14.2                 5.7          0          1   \n",
       "2          1               13.2                 7.1          0          1   \n",
       "3          1               12.5                 5.6          0          0   \n",
       "4          1               14.5                 6.6          1          1   \n",
       "5          1               14.3                 5.3          0          0   \n",
       "6          1               12.5                 6.2          0          0   \n",
       "7          1               13.9                 6.2          0          0   \n",
       "8          1               14.7                 7.0          0          0   \n",
       "9          1               13.7                 6.9          1          1   \n",
       "\n",
       "   lips_thin  distance_nose_to_lip_long width_limit height_limit  \\\n",
       "0          0                          0       <= 14         <= 6   \n",
       "1          0                          1       <= 15         <= 6   \n",
       "2          1                          0       <= 14       <= 7.5   \n",
       "3          0                          0       <= 13         <= 6   \n",
       "4          0                          1       <= 15         <= 7   \n",
       "5          0                          1       <= 15       <= 5.5   \n",
       "6          0                          0       <= 13       <= 6.5   \n",
       "7          1                          1       <= 14       <= 6.5   \n",
       "8          1                          1       <= 15         <= 7   \n",
       "9          1                          1       <= 14         <= 7   \n",
       "\n",
       "  Gender Prediction  \n",
       "0            Female  \n",
       "1              Male  \n",
       "2              Male  \n",
       "3            Female  \n",
       "4              Male  \n",
       "5              Male  \n",
       "6            Female  \n",
       "7              Male  \n",
       "8              Male  \n",
       "9              Male  "
      ]
     },
     "execution_count": 126,
     "metadata": {},
     "output_type": "execute_result"
    }
   ],
   "source": [
    "data_akhir"
   ]
  },
  {
   "cell_type": "markdown",
   "metadata": {},
   "source": [
    "### Conclusion\n",
    "---"
   ]
  },
  {
   "cell_type": "markdown",
   "metadata": {},
   "source": [
    "<h4>\n",
    "\n",
    "**<ins>Assumption from EDA:<ins>**\n",
    "\n",
    "- There are 2 genders in this dataset, called (**'Male'**) and (**'Female'**). frequency between 'Male' and 'Female' almost balanced. \n",
    "the difference by the number of male and female isn't too significant.\n",
    "\n",
    "- In my opinion, the first physical characteristic that may have an effect / very visible is in terms of hair. So i've analysis, both of sexes **'male'** and **'female'** are equally more likely to have long hair than short hair, but a slight increase in the percentage for female.\n",
    "\n",
    "- The second in my opinion, if we look based on 'nose_wide' or the width of the nose, on the chart above we can see that there are more physical characteristics of 'nose wide' than 'narrrow noses'. So the physical characteristics of the nose shape, by looking at the width of the nose, the percentage of **Male** tends to be higher than **Female**. meaning that **FEMALE** tend to have narrow noses than wide noses, while **MALE** mostly have wide noses.\n",
    "\n",
    "- Then for the physical characteristics of the nose shape, 'nose wide' and 'nose long'. based on 'nose_long', On the chart above we can see that there have physical characteristics, **Female** have short noses more than long noses, but most of **Male** have long noses.\n",
    "\n",
    "- There are also physical characteristics seen from the shape of the forehead, if we look at the forehead width / 'forehead_width' it is from 11cm to 16 and the forehead height / 'forehead_height' is from 5cm to 7.5 cm. So it can be concluded that if the forehead height is above 6.5 cm and the forehead width is more than 15 cm then the gender must be 'Male' or male, otherwise the female gender should be more than the male.\n",
    "\n",
    "- The last form of physical characteristic is lips, the dataset is written as 'lipsthin' - This column contains 0 and 1 where 1 represents \"thin lips\" while 0 is \"not thin lips\". As we can see from chart above the physical characteristics of gender by the size of lips, most OF **FEMALE** have thin lips than **MALE**, most of male have thick lips.</h4>"
   ]
  },
  {
   "cell_type": "markdown",
   "metadata": {},
   "source": [
    "<h4>\n",
    "\n",
    "**<ins>Assumption from MODELS:<ins>**\n",
    "\n",
    "For this project, i tried to make '6 Models';\n",
    "\n",
    "* 'Logistics' : model for **Logistic Regression**\n",
    "* 'SVC' : model for **Support Vector Classifier**\n",
    "* 'Tree' : model for **Decision Tree**\n",
    "* 'Forest' : model for **Random Forest**\n",
    "* 'KNN' : model for **K*Nearest Neighbors**\n",
    "* 'Naive' : model for **Naive Bayes**\n",
    "\n",
    "and then the models are tuned with Hyperparameter 'GridSearchCSV'.\n",
    "\n",
    "- I choose the model based on my consideration of the 'recall' value. After conducting a model evaluation, the results of the 'svm' model produce a high recall value, both train and test are 100%, but i'm worry about data leakage if the value of the model is 100%, yes perfect. because the dataset I'm using doesn't occur in real cases, so I think it's not a problem.\n",
    "\n",
    "- The 'svm' model is also able to detect the value of TP (True Positive) so the model places a positive label in a positive group, the 'svm' model only 1 incorrectly groups it into FN (False Negative) where maybe this gender already has features according to features but isn't detected whether male or female. but, once again it's not a problem because this doesn't happen in real cases.\n",
    "\n",
    "- Then I also consider that the 'logistic regression' model produces train and test values ​​at 'f1-score' and 'recall' which are quite stable at 97% and the 'random forest' model produces 98% train values ​​and the test is 97% not too many decreases. however, these two models are more likely to misclassify the target that should have been in accordance with the features but not detected by the model and become FN (False Negative) so i didn't know whether the gender is 'male' / 'female'. but not a consideration for me because this doesn't happen in real cases.</h4>"
   ]
  },
  {
   "cell_type": "markdown",
   "metadata": {},
   "source": [
    "<h4>I made this project with deployment in herokuapp, kindly check my dashboard:</h4>\n",
    "\n",
    "[![Deploy to Heroku](https://www.herokucdn.com/deploy/button.svg)](https://anita-009.herokuapp.com/)"
   ]
  },
  {
   "cell_type": "markdown",
   "metadata": {},
   "source": [
    "<h3>Successful prediction from gender classification can improve the performance of many applications, but I assume that if the feature only consists of a few columns and the information in this dataset isn't very accurated. then it's not certain the the model can predict accurate results. due to lack of other information as a feature. \n",
    "\n",
    "\n",
    "Those are the conclusions that I wrote from the results of the Milestone 2 project, Thank you!</h3>"
   ]
  },
  {
   "cell_type": "markdown",
   "metadata": {},
   "source": [
    "Pada tugas Milestone 2 ini saya memilih project classification model, dan dataset yang saya gunakan adalah dataset dari kaggle tentang data 'classification gender' berikut asumsi saya tentang project yang saya lakukan: \n",
    "\n",
    "Sebuah sistem klasifikasi gender menggunakan feature dari ciri ciri fisik seseorang, contoh dari 'long_hair' atau panjang rambut, 'forehead_width', 'forehead_height' (lebar dan tinggi dahi), 'nose_wide','nose_long' (lebar dan panjang hidung) , (ukuran bibir) 'lip_thin', \n",
    "'distance_nose_to_lip_long' (jarak hidung ke bibir), atau mungkin dapat dengan ciri fisik lainnya yang di infokan namun pada dataset yang saya gunakan hanya terdapat 7 feature yang diberikan untuk memprediksi (jenis kelamin) /'gender' dari orang berciri ciri tersebut.\n",
    "\n",
    "Data visualisai dari EDA yang saya lakukan:\n",
    "- Pada dataset ini terdapat 2 gender, yaitu **PRIA** ('male') dan **WANITA** ('female'). 50% nya atau 2500 orang adalah ber-jenis kelamin wanita, 50% lagi adalah ber-jenis kelamin pria sebanyak 2501 orang. perbedaan jumlah pria dan wanita tidak terlalu significant.\n",
    "\n",
    "- Menurut saya, ciri fisik pertama yang kemungkinan berpengaruh / terlihat sekali adalah dari segi rambut. Jadi saya melihat berdasarkan 'long_hair' atau panjang rambut, pada dataset tertulis keterangan dimana 0 adalah 'rambut pendek' dan 1 adalah 'rambut panjang'. Analisa saya, kedua jenis kelamin ini 'male' dan 'female' sama sama lebih banyak berambut panjang dibandingkan berambut pendek, namun sedikit peningkatan persentase untuk wanita.\n",
    "\n",
    "- Yang kedua menurut saya, jika kita lihat berdasarkan 'nose_wide' atau lebarnya hidung, pada dataset ditulis keterangan bahwa 0 adalah 'hidung tidak lebar' dan 1 adalah 'hidung lebar. pada chart bisa kita lihat ciri fisik 'hidung tidak lebar' lebih banyak daripada 'hidung lebar'. Jadi ciri fisik dari bentuk hidung, dengan melihat lebar hidung persentase dari pria cenderung lebih tinggi dibanding wanita. artinya wanita cenderung memiliki hidung yang lebih sempit daripada hidung lebar, sedangkan pria sebagian besar memiliki hidung lebar.\n",
    "\n",
    "- Kemudian untuk ciri fisik dari bentuk hidung, 'nose wide' dan 'nose long', Jika kita lihat berdasarkan 'nose_wide' atau lebarnya hidung, pada dataset ditulis keterangan bahwa 0 adalah 'hidung tidak lebar' dan 1 adalah 'hidung lebar. pada chart bisa kita lihat ciri fisik 'hidung tidak lebar' lebih banyak daripada 'hidung lebar'. dan berdasarkan 'nose_long' atau panjang hidung, pada dataset ditulis keterangan bahwa 0 adalah 'hidung tidak panjang' dan 1 adalah 'hidung panjang'. pada chart bisa kita lihat ciri fisik 'hidung tidak panjang' lebih sedikit daripada 'hidung panjang'.\n",
    "Jika dilihat ciri fisik dari bentuk hidung, dengan melihat lebar hidung persentase dari pria cenderung lebih tinggi dibanding wanita. \n",
    "Jika dilihat dari ciri fisik, dengan mengukur panjang hidung persentase dari gender pria lebih tinggi dibandingkan dengan gender wanita 'female'.\n",
    "Kesimpulan yang saya ambil, wanita memiliki hidung yang lebih sempit daripada hidung yang lebar, tetapi sebagian besar pria memiliki hidung yang lebar. dan juga wanita memiliki hidung yang lebih pendek daripada hidung yang panjang, tetapi sebagian besar pria memiliki hidung yang panjang.\n",
    "\n",
    "- Terdapat juga ciri fisik dilihat dari bentuk dahi, Keterangan pada dataset lebar dahi - Kolom ini ada di CM. Ini adalah lebar dahi.\n",
    "tinggi dahi - Ini adalah tinggi dahi dan dalam Cm.\n",
    "Jika kita lihat lebar dahi / 'forehead_width' ini dari 11cm sampai dengan 16 dan tinggi dahi / 'forehead_height' ini dari 5cm sampai dengan 7,5 cm. Maka dapat disimpulkan bahwa jika tinggi dahi diatas 6,5 cm dan lebar dahi lebih dari 15cm maka jenis kelaminnya pasti 'Male' atau pria, jika tidak maka seharusnya jenis kelamin wanita lebih banyak dibandingkan dengan pria.\n",
    "\n",
    "- Bentuk ciri fisik yang terakhir adalah bibir, pada dataset ditulis keterangan bahwa 'lipsthin' - Kolom ini berisi 0 dan 1 di mana 1 mewakili \"bibir tipis\" sedangkan 0 adalah \"Bibir tidak tipis\". Jika dilihat dari ciri fisik berdasarkan bibir, bentuk tipis bibir tipis lebih banyak di miliki oleh yang ber jenis kelamin 'female' atau wanita. jika dibandingan dengan jenis kelamin pria. Maka dapat saya simpulkan bahwa sebagian besar ciri fisik wanita memiliki bibir yang tipis, namun sebagian besar pria memiliki bibir yang tebal.\n",
    "\n",
    "Kesimpulan model:\n",
    "- Saya akan memilih model berdasarkan pertimbangan nilai 'recall'. Setelah melakukan model evaluation hasilnya model 'svm' menghasilkan nilai recall yang tinggi baik train dan test nya 100% namun mungkin di khawatirkan adanya kebocoran data apabila nilai dari model 100%. karena dataset yang saya gunakan bukan terjadi atas kasus nyata, menurut saya tidak masalah. \n",
    "\n",
    "- Model 'svm' juga mampu mendeteksi nilai TP (True Positive) jadi model menempatkan label positif dalam kelompok positif, model 'svm' hanya 1 salah mengelompokan jadi FN (False Negatif) dimana mungkin gender ini sudah memiliki ciri ciri sesuai fitur namun tidak terdeksi apakah pria atau wanita. tapi tidak terlalu menjadi pertimbangan karena ini bukan terjadi pada kasus nyata. \n",
    "\n",
    "- Kemudian saya juga mempertimbangkan bahwa model 'logistic regression' menghasilkan nilai train dan test pada'f1-score' dan 'recall' yang cukup stabil yaitu 97% dan model 'random forest' menghasilkan nilai train 98% dan test nya 97% tidak terjadi penuruan yang jauh. namun kedua model ini lebih banyak salah mengelompokan target yang seharusnya mungkin sudah sesuai feature namun tidak terdeteksi oleh model dan menjadi FN (False Negative) jadi tidak diketahui apakah gender nya masuk kategori pria / wanita. namun kembali lagi tidak menjadi pertimbangan karena ini bukan terjadi pada kasus nyata. \n",
    "\n",
    "Prediksi klasifikasi gender yang berhasil dapat meningkatkan kinerja banyak aplikasi, namun saya sendiri berasumsi bahwa jika feature hanya terdiri dari beberapa kolom dan informasi tidak begitu jelas, maka tidak bisa dipastikan bawa model dapat memprediksi hasil yang akurat. karena kurangnya informasi lain sebagai feature. \n",
    "\n",
    "Sekian kesimpulan yang saya ambil dari hasil tugas Milestone 2 phase 1, Terima kasih"
   ]
  }
 ],
 "metadata": {
  "interpreter": {
   "hash": "74a5c95dddfe502c417b8be25df9a2b0b624ffe0ac9741929882f409451b42b7"
  },
  "kernelspec": {
   "display_name": "Python 3.9.7 ('base')",
   "language": "python",
   "name": "python3"
  },
  "language_info": {
   "codemirror_mode": {
    "name": "ipython",
    "version": 3
   },
   "file_extension": ".py",
   "mimetype": "text/x-python",
   "name": "python",
   "nbconvert_exporter": "python",
   "pygments_lexer": "ipython3",
   "version": "3.9.7"
  },
  "orig_nbformat": 4
 },
 "nbformat": 4,
 "nbformat_minor": 2
}
